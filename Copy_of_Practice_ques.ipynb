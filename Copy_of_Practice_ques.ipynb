{
  "cells": [
    {
      "cell_type": "markdown",
      "metadata": {
        "id": "view-in-github",
        "colab_type": "text"
      },
      "source": [
        "<a href=\"https://colab.research.google.com/github/UDAVALAPATISURESH/python_SRS/blob/main/Copy_of_Practice_ques.ipynb\" target=\"_parent\"><img src=\"https://colab.research.google.com/assets/colab-badge.svg\" alt=\"Open In Colab\"/></a>"
      ]
    },
    {
      "cell_type": "code",
      "execution_count": null,
      "metadata": {
        "colab": {
          "base_uri": "https://localhost:8080/"
        },
        "id": "U4V2J7yGuiGL",
        "outputId": "85292385-557c-4bd2-8146-7c9dbd5d75df"
      },
      "outputs": [
        {
          "name": "stdout",
          "output_type": "stream",
          "text": [
            "Enter length value: 5\n",
            "Enter breadth value: 4\n",
            "Area of arectangle is:  20\n"
          ]
        }
      ],
      "source": [
        "# DAY1\n",
        "\n",
        "l=int(input(\"Enter length value: \"))\n",
        "b=int(input(\"Enter breadth value: \"))\n",
        "Area=l*b\n",
        "print(\"Area of arectangle is: \",Area)"
      ]
    },
    {
      "cell_type": "code",
      "execution_count": null,
      "metadata": {
        "colab": {
          "base_uri": "https://localhost:8080/"
        },
        "id": "2bpTy-5cuoBv",
        "outputId": "8b961c81-e47d-4b68-b17e-00a122399f45"
      },
      "outputs": [
        {
          "name": "stdout",
          "output_type": "stream",
          "text": [
            "Enter username: dileep\n",
            "Enter Age: 21\n",
            "hello Welcome dileep you are sweet 21\n"
          ]
        }
      ],
      "source": [
        "user=input(\"Enter username: \")\n",
        "Age=int(input(\"Enter Age: \"))\n",
        "print(\"hello Welcome\",user,\"you are sweet\",Age)"
      ]
    },
    {
      "cell_type": "code",
      "execution_count": null,
      "metadata": {
        "colab": {
          "base_uri": "https://localhost:8080/"
        },
        "id": "Jsy_fXZVu7pz",
        "outputId": "115ff707-3574-4cf0-c750-2826d94cb1b0"
      },
      "outputs": [
        {
          "name": "stdout",
          "output_type": "stream",
          "text": [
            "Enter an value: 5\n",
            "5 Is an Odd n.o\n"
          ]
        }
      ],
      "source": [
        "num=int(input(\"Enter an value: \"))\n",
        "if num%2==0:\n",
        "  print(num,\"It is an Even n.o\")\n",
        "else:\n",
        "  print(num,\"Is an Odd n.o\")"
      ]
    },
    {
      "cell_type": "code",
      "execution_count": null,
      "metadata": {
        "colab": {
          "base_uri": "https://localhost:8080/"
        },
        "id": "VgL4AYvmqYSX",
        "outputId": "d42979c8-66c1-47eb-d2b4-cab9b98fe261"
      },
      "outputs": [
        {
          "name": "stdout",
          "output_type": "stream",
          "text": [
            "The maximum n.o is:  98\n",
            "the min value is:  23\n"
          ]
        }
      ],
      "source": [
        "List=[43,23,44,76,56,25,98]\n",
        "List.sort()\n",
        "max=List[0]\n",
        "min=List[0]\n",
        "for i in List:\n",
        "  if i>max:\n",
        "    max=i\n",
        "  elif i<min:\n",
        "    min=i\n",
        "print(\"The maximum n.o is: \",max)\n",
        "print(\"the min value is: \",min)"
      ]
    },
    {
      "cell_type": "code",
      "execution_count": null,
      "metadata": {
        "colab": {
          "base_uri": "https://localhost:8080/"
        },
        "id": "dbMwtvMArVX2",
        "outputId": "143ceadc-2658-44c9-fba5-b6aa0cad575e"
      },
      "outputs": [
        {
          "name": "stdout",
          "output_type": "stream",
          "text": [
            "Enter the String: radar\n",
            "It is a Palindrome\n"
          ]
        }
      ],
      "source": [
        "p=input(\"Enter the String: \")\n",
        "reverse=p[::-1]\n",
        "if p==reverse:\n",
        "  print(\"It is a Palindrome\")\n",
        "else:\n",
        "  print(\"It is not palindrome\")"
      ]
    },
    {
      "cell_type": "code",
      "execution_count": null,
      "metadata": {
        "colab": {
          "base_uri": "https://localhost:8080/"
        },
        "id": "jlcQtTscwXl5",
        "outputId": "eebfa00a-6ce1-4d78-a8b5-70993b322bcc"
      },
      "outputs": [
        {
          "name": "stdout",
          "output_type": "stream",
          "text": [
            "Enter Principal Amount: 1000\n",
            "Enter Rate of Interest: 5\n",
            "Enter Time Period in years: 1\n",
            "Compound Amount:  1050.0\n",
            "Compound interest is 50.0\n"
          ]
        }
      ],
      "source": [
        "import math\n",
        "def compound_interest(p,r,t):\n",
        "    amt = p * (math.pow((1 + (r/100)),t))\n",
        "    print(\"Compound Amount: \",amt)\n",
        "    CI = amt - p\n",
        "    return CI\n",
        "\n",
        "p=float(input(\"Enter Principal Amount: \"))\n",
        "r=float(input(\"Enter Rate of Interest: \"))\n",
        "t=float(input(\"Enter Time Period in years: \"))\n",
        "\n",
        "print(\"Compound interest is\",compound_interest(p,r,t))"
      ]
    },
    {
      "cell_type": "code",
      "execution_count": null,
      "metadata": {
        "colab": {
          "base_uri": "https://localhost:8080/"
        },
        "id": "MwAPpJKJ1jjz",
        "outputId": "503ee469-97cf-4ad8-88e0-5f2c9bd8b9a7"
      },
      "outputs": [
        {
          "name": "stdout",
          "output_type": "stream",
          "text": [
            "Enter n.o of days: 45\n",
            "Total Number of Year(s):  0\n",
            "Total Number of Week(s): 6\n",
            "Total Number of Day(s): 3\n"
          ]
        }
      ],
      "source": [
        "d=int(input(\"Enter n.o of days: \"))\n",
        "year = int(d/365)\n",
        "week = int((d%365)/7)\n",
        "days = int((d%365)%7)\n",
        "print(\"Total Number of Year(s): \",year)\n",
        "print(\"Total Number of Week(s):\",week)\n",
        "print(\"Total Number of Day(s):\",days)\n",
        "\n"
      ]
    },
    {
      "cell_type": "code",
      "execution_count": null,
      "metadata": {
        "colab": {
          "base_uri": "https://localhost:8080/"
        },
        "id": "_NdMGN8k201k",
        "outputId": "6b5f717b-2cbc-4f07-bab1-1720ef48dd84"
      },
      "outputs": [
        {
          "name": "stdout",
          "output_type": "stream",
          "text": [
            "sum of values are:  224\n"
          ]
        }
      ],
      "source": [
        "n=[34,2,56,98,34]\n",
        "sum=0\n",
        "for i in n:\n",
        "  if i>0:\n",
        "    sum=sum+i\n",
        "    i+=1\n",
        "print(\"sum of values are: \",sum)"
      ]
    },
    {
      "cell_type": "code",
      "execution_count": null,
      "metadata": {
        "colab": {
          "base_uri": "https://localhost:8080/"
        },
        "id": "OQZ0Zyes4ntv",
        "outputId": "40209bc9-d4eb-44a9-e5d7-9d142ea1f8a9"
      },
      "outputs": [
        {
          "name": "stdout",
          "output_type": "stream",
          "text": [
            "It is an amazing day\n",
            "Total n.o of words are:  5\n"
          ]
        }
      ],
      "source": [
        "s= input()\n",
        "w=len(s.split())\n",
        "print(\"Total n.o of words are: \",w)"
      ]
    },
    {
      "cell_type": "code",
      "execution_count": null,
      "metadata": {
        "colab": {
          "base_uri": "https://localhost:8080/"
        },
        "id": "8F3YYSTu5R-3",
        "outputId": "de2b380c-2319-4203-a4fd-d2bbccfa8816"
      },
      "outputs": [
        {
          "name": "stdout",
          "output_type": "stream",
          "text": [
            "The values after swapping are:  20 10\n"
          ]
        }
      ],
      "source": [
        "a=10\n",
        "b=20\n",
        "temp=a\n",
        "a=b\n",
        "b=temp\n",
        "print(\"The values after swapping are: \",a,b)"
      ]
    },
    {
      "cell_type": "code",
      "execution_count": null,
      "metadata": {
        "colab": {
          "base_uri": "https://localhost:8080/"
        },
        "id": "twl_YIrE9DlX",
        "outputId": "ef1d8153-a0a8-405f-d0c0-bb48f86fb1bd"
      },
      "outputs": [
        {
          "name": "stdout",
          "output_type": "stream",
          "text": [
            "The values after swapping are:  89 34\n"
          ]
        }
      ],
      "source": [
        "x=34\n",
        "y=89\n",
        "x=x+y #123\n",
        "y=x-y #123-89=34\n",
        "x=x-y #123-34=89\n",
        "print(\"The values after swapping are: \",x,y)\n"
      ]
    },
    {
      "cell_type": "code",
      "execution_count": null,
      "metadata": {
        "id": "kDW3tSYl9m2F"
      },
      "outputs": [],
      "source": [
        "# DAY2"
      ]
    },
    {
      "cell_type": "code",
      "execution_count": null,
      "metadata": {
        "colab": {
          "base_uri": "https://localhost:8080/"
        },
        "id": "er9NEEM69rFZ",
        "outputId": "a5ffbdc1-604e-45cb-d5e1-375504b240d5"
      },
      "outputs": [
        {
          "name": "stdout",
          "output_type": "stream",
          "text": [
            "298\n",
            "49.666666666666664\n"
          ]
        }
      ],
      "source": [
        "d=[2,34,56,22,89,95]\n",
        "sum=0\n",
        "for i in d:\n",
        "  sum=sum+i\n",
        "  i+=1\n",
        "avg = sum /len(d)\n",
        "print(sum)\n",
        "print(avg)"
      ]
    },
    {
      "cell_type": "code",
      "execution_count": null,
      "metadata": {
        "colab": {
          "base_uri": "https://localhost:8080/"
        },
        "id": "AkXsoaVJ0FGe",
        "outputId": "070c82a3-f6e4-4ea7-e63c-3ab29d46fcf5"
      },
      "outputs": [
        {
          "name": "stdout",
          "output_type": "stream",
          "text": [
            "Enter temp: 99\n",
            "The temp in kelvin is:  372.15\n",
            "The temp in fahrenheit is:  210.20000000000002\n"
          ]
        }
      ],
      "source": [
        "c=float(input(\"Enter temp: \"))\n",
        "k=c+273.15\n",
        "f=c*1.8+32\n",
        "print(\"The temp in kelvin is: \",k)\n",
        "print(\"The temp in fahrenheit is: \",f)"
      ]
    },
    {
      "cell_type": "code",
      "execution_count": null,
      "metadata": {
        "colab": {
          "base_uri": "https://localhost:8080/",
          "height": 36
        },
        "id": "mTCAdG7q1Ehg",
        "outputId": "2a31232f-6d06-4ce5-f607-32725d64b28c"
      },
      "outputs": [
        {
          "data": {
            "application/vnd.google.colaboratory.intrinsic+json": {
              "type": "string"
            },
            "text/plain": [
              "'peelid'"
            ]
          },
          "execution_count": 11,
          "metadata": {},
          "output_type": "execute_result"
        }
      ],
      "source": [
        "def reverse(string):\n",
        "  return string[::-1]\n",
        "reverse(\"dileep\")"
      ]
    },
    {
      "cell_type": "code",
      "execution_count": null,
      "metadata": {
        "colab": {
          "base_uri": "https://localhost:8080/"
        },
        "id": "t9O9eqOK2BxO",
        "outputId": "3284d2db-1a15-4204-d24a-152d81cac5d5"
      },
      "outputs": [
        {
          "name": "stdout",
          "output_type": "stream",
          "text": [
            "dileep kumar reddy "
          ]
        }
      ],
      "source": [
        "n=[\"dileep\",\"kumar\",\"reddy\"]\n",
        "l=''\n",
        "for i in n:\n",
        "  print(l+''+i,end=\" \")"
      ]
    },
    {
      "cell_type": "code",
      "execution_count": null,
      "metadata": {
        "colab": {
          "base_uri": "https://localhost:8080/"
        },
        "id": "wlWf_ReL3Ami",
        "outputId": "f906cb62-5f38-4eec-b1d3-b093f529a08b"
      },
      "outputs": [
        {
          "name": "stdout",
          "output_type": "stream",
          "text": [
            "Yes\n"
          ]
        }
      ],
      "source": [
        "def ispangram(str):\n",
        "  alpha=\"abcdefghijklmnopqrstuvwxyz\"\n",
        "  for char in alpha:\n",
        "    if char not in str.lower():\n",
        "      return False\n",
        "  return True\n",
        "string = \"The five boxing wizards jump quickly\"\n",
        "if(ispangram(string) == True):\n",
        "   print(\"Yes\")\n",
        "else:\n",
        "   print(\"No\")"
      ]
    },
    {
      "cell_type": "code",
      "execution_count": null,
      "metadata": {
        "colab": {
          "base_uri": "https://localhost:8080/"
        },
        "id": "vTNN7MKJ5TSZ",
        "outputId": "e4926eb2-a5f4-4c78-940f-c57557d09528"
      },
      "outputs": [
        {
          "name": "stdout",
          "output_type": "stream",
          "text": [
            "Enter the radius value: 5\n",
            "The area of circle is:  78.5\n",
            "The circumference of circle is:  31.400000000000002\n"
          ]
        }
      ],
      "source": [
        "r=float(input(\"Enter the radius value: \"))\n",
        "pi=3.14\n",
        "Area=pi*r*r\n",
        "circumference=2*pi*r\n",
        "print(\"The area of circle is: \",Area)\n",
        "print(\"The circumference of circle is: \",circumference)"
      ]
    },
    {
      "cell_type": "code",
      "execution_count": null,
      "metadata": {
        "colab": {
          "base_uri": "https://localhost:8080/"
        },
        "id": "3Xh_NvDw8hav",
        "outputId": "085055c5-ffb4-4b74-c8cf-2d7eb811b98d"
      },
      "outputs": [
        {
          "name": "stdout",
          "output_type": "stream",
          "text": [
            "Enter the n.o of min: 90\n",
            "1 hour 30 min\n"
          ]
        }
      ],
      "source": [
        "n=int(input(\"Enter the n.o of min: \"))\n",
        "h=n//60\n",
        "m=n%60\n",
        "print(h,\"hour\",m,\"min\")"
      ]
    },
    {
      "cell_type": "code",
      "execution_count": null,
      "metadata": {
        "colab": {
          "base_uri": "https://localhost:8080/"
        },
        "id": "27oKxpsw-Cs7",
        "outputId": "1f476ec3-244b-47fc-ab44-781009f67b03"
      },
      "outputs": [
        {
          "name": "stdout",
          "output_type": "stream",
          "text": [
            "No. of vowels : 3\n"
          ]
        }
      ],
      "source": [
        "def list(string):\n",
        "  v=\"aeiouAEIOU\"\n",
        "  count = len([char for char in string if char in v])\n",
        "  print(\"No. of vowels :\", count)\n",
        "list(\"dileep\")\n"
      ]
    },
    {
      "cell_type": "code",
      "execution_count": null,
      "metadata": {
        "colab": {
          "base_uri": "https://localhost:8080/"
        },
        "id": "Du5LKejo_2Oi",
        "outputId": "2bd58f66-a70b-4986-a490-7e412c432a0a"
      },
      "outputs": [
        {
          "name": "stdout",
          "output_type": "stream",
          "text": [
            "It is a prime n.o\n",
            "It is not prime n.o\n"
          ]
        }
      ],
      "source": [
        "def prime(num):\n",
        "  for i in range(2,num):\n",
        "    if num%i==0:\n",
        "      print(\"It is not prime n.o\")\n",
        "      break\n",
        "    else:\n",
        "      print(\"It is a prime n.o\")\n",
        "      break\n",
        "prime(5)\n",
        "prime(24)"
      ]
    },
    {
      "cell_type": "code",
      "execution_count": null,
      "metadata": {
        "id": "fR4-aSxVCey2"
      },
      "outputs": [],
      "source": [
        "# Day 3"
      ]
    },
    {
      "cell_type": "code",
      "execution_count": null,
      "metadata": {
        "colab": {
          "base_uri": "https://localhost:8080/"
        },
        "id": "rk3MJrTsD1vb",
        "outputId": "10f92071-7bd2-4bdb-abc0-b38d04ec5c28"
      },
      "outputs": [
        {
          "name": "stdout",
          "output_type": "stream",
          "text": [
            "Enter an year: 2017\n",
            "It is a non-leap year\n"
          ]
        }
      ],
      "source": [
        "c=int(input(\"Enter an year: \"))\n",
        "if c %4 ==0 & c % 100!=0:\n",
        "  print(\"It is a leap year\")\n",
        "else:\n",
        "  print(\"It is a non-leap year\")"
      ]
    },
    {
      "cell_type": "code",
      "execution_count": null,
      "metadata": {
        "colab": {
          "base_uri": "https://localhost:8080/"
        },
        "id": "C2bhvnsd-HWT",
        "outputId": "d01afd10-fa69-416a-b0b5-83acc4f8800f"
      },
      "outputs": [
        {
          "name": "stdout",
          "output_type": "stream",
          "text": [
            "2 22 76 84 34 "
          ]
        }
      ],
      "source": [
        "l=[2,3,65,45,22,76,84,34]\n",
        "for i in l:\n",
        "  if i%2==0:\n",
        "    print(i, end=\" \")"
      ]
    },
    {
      "cell_type": "code",
      "execution_count": null,
      "metadata": {
        "colab": {
          "base_uri": "https://localhost:8080/"
        },
        "id": "yK0r9yum_CRP",
        "outputId": "b8370143-9ec3-447a-eb5e-a8ce27e5204b"
      },
      "outputs": [
        {
          "name": "stdout",
          "output_type": "stream",
          "text": [
            "Enter n.o of terms: 9\n",
            "Fibonacci sequence:\n",
            "0\n",
            "1\n",
            "1\n",
            "2\n",
            "3\n",
            "5\n",
            "8\n",
            "13\n",
            "21\n"
          ]
        }
      ],
      "source": [
        "# Fibonacci series\n",
        "a=int(input(\"Enter n.o of terms: \"))\n",
        "n1=0\n",
        "n2=1\n",
        "count=0\n",
        "if a<0:\n",
        "  print(\"enter +ve n.o\")\n",
        "elif a==1:\n",
        "  print(n1)\n",
        "else:\n",
        "  print(\"Fibonacci sequence:\")\n",
        "  while a>count:\n",
        "    n3=n1+n2\n",
        "    print(n1)\n",
        "    n1=n2\n",
        "    n2=n3\n",
        "    count+=1"
      ]
    },
    {
      "cell_type": "code",
      "execution_count": null,
      "metadata": {
        "id": "mMsDmh8XG8QR"
      },
      "outputs": [],
      "source": []
    },
    {
      "cell_type": "code",
      "execution_count": null,
      "metadata": {
        "colab": {
          "base_uri": "https://localhost:8080/"
        },
        "id": "2DpPRw9LIijB",
        "outputId": "767e5ca3-16b3-407f-bff5-2148255877d4"
      },
      "outputs": [
        {
          "name": "stdout",
          "output_type": "stream",
          "text": [
            "['apple', 'amar', 'ajay']\n"
          ]
        }
      ],
      "source": [
        "list=['apple','amar','dileep','ajay','kumar']\n",
        "a_list = [element for element in list if element.startswith('a')]\n",
        "print(a_list)"
      ]
    },
    {
      "cell_type": "code",
      "execution_count": null,
      "metadata": {
        "colab": {
          "base_uri": "https://localhost:8080/"
        },
        "id": "rCGd_Y6PK0ji",
        "outputId": "2a1595bd-cb09-4b71-e77d-9eb7ba0c42da"
      },
      "outputs": [
        {
          "name": "stdout",
          "output_type": "stream",
          "text": [
            "  apple  amar  ajay"
          ]
        }
      ],
      "source": [
        "list=['apple','amar','dileep','ajay','kumar']\n",
        "for i in list:\n",
        "  if i[0]==\"a\":\n",
        "    print(\" \",i, end=\"\")"
      ]
    },
    {
      "cell_type": "code",
      "execution_count": null,
      "metadata": {
        "colab": {
          "base_uri": "https://localhost:8080/"
        },
        "id": "w8qyR2qpLRup",
        "outputId": "80373304-10c6-4586-bb71-fb624eee6aa8"
      },
      "outputs": [
        {
          "name": "stdout",
          "output_type": "stream",
          "text": [
            "Enter a n.o: 10\n",
            "10 * 1 = 10\n",
            "10 * 2 = 20\n",
            "10 * 3 = 30\n",
            "10 * 4 = 40\n",
            "10 * 5 = 50\n",
            "10 * 6 = 60\n",
            "10 * 7 = 70\n",
            "10 * 8 = 80\n",
            "10 * 9 = 90\n",
            "10 * 10 = 100\n"
          ]
        }
      ],
      "source": [
        "num=int(input(\"Enter a n.o: \"))\n",
        "for i in range(1,11):\n",
        "  print(num,\"*\",i,\"=\",num*i)"
      ]
    },
    {
      "cell_type": "code",
      "execution_count": null,
      "metadata": {
        "colab": {
          "base_uri": "https://localhost:8080/"
        },
        "id": "Bipqz1zCMjbM",
        "outputId": "a1e9e9f6-e98f-4dfc-a0bc-4c61f2210ddb"
      },
      "outputs": [
        {
          "name": "stdout",
          "output_type": "stream",
          "text": [
            "enter a n.o :7\n",
            "Factorial of  7 is: 5040\n"
          ]
        }
      ],
      "source": [
        "# Factorial of a n.o\n",
        "num= int(input(\"enter a n.o :\"))\n",
        "factorial = 1\n",
        "\n",
        "if num < 0:\n",
        "  print(\"factorial not exist\")\n",
        "elif num == 0:\n",
        "  print(\"Factorial is one\")\n",
        "else:\n",
        "  for i in range(1,num + 1):\n",
        "    factorial = factorial*i\n",
        "  print(\"Factorial of \",num,\"is:\",factorial)"
      ]
    },
    {
      "cell_type": "code",
      "execution_count": null,
      "metadata": {
        "colab": {
          "base_uri": "https://localhost:8080/"
        },
        "id": "wRxWHJ9ESIyN",
        "outputId": "16bddf00-8892-40cd-c758-ac3892e3a2dd"
      },
      "outputs": [
        {
          "name": "stdout",
          "output_type": "stream",
          "text": [
            "2,3,5,7,11,13,17,19,23,29,31,37,41,43,47,"
          ]
        }
      ],
      "source": [
        "for i in range(2,50):\n",
        "  for j in range(2,50):\n",
        "    if i%j==0:\n",
        "      break\n",
        "  if i==j:\n",
        "    print(i,end=\",\")"
      ]
    },
    {
      "cell_type": "code",
      "execution_count": null,
      "metadata": {
        "colab": {
          "base_uri": "https://localhost:8080/"
        },
        "id": "hW3j57c3tSH3",
        "outputId": "3424919c-a359-418a-8b05-24e13401ca5c"
      },
      "outputs": [
        {
          "name": "stdout",
          "output_type": "stream",
          "text": [
            "3\n"
          ]
        }
      ],
      "source": [
        "def count_words(words):\n",
        "  count = 0\n",
        "  for i in words:\n",
        "    if len(i) > 5:\n",
        "      count += 1\n",
        "  return count\n",
        "print(count_words([\"hello\", \"world\", \"Python\", \"programming\", \"dileep\"]))"
      ]
    },
    {
      "cell_type": "code",
      "execution_count": null,
      "metadata": {
        "colab": {
          "base_uri": "https://localhost:8080/"
        },
        "id": "IjOtq8BNuobo",
        "outputId": "f7a08e84-1d2d-4f53-d1a0-f22f199a1198"
      },
      "outputs": [
        {
          "name": "stdout",
          "output_type": "stream",
          "text": [
            "Enter an n.o:356\n",
            "14\n"
          ]
        }
      ],
      "source": [
        "a=input(\"Enter an n.o:\")\n",
        "sum=0\n",
        "for i in a:\n",
        "    sum=sum + int(i)\n",
        "print(sum)\n"
      ]
    },
    {
      "cell_type": "code",
      "execution_count": null,
      "metadata": {
        "id": "XoUunu4ovh7v"
      },
      "outputs": [],
      "source": [
        "# DAY4"
      ]
    },
    {
      "cell_type": "code",
      "execution_count": null,
      "metadata": {
        "colab": {
          "base_uri": "https://localhost:8080/"
        },
        "id": "ifQLDsQJwwZw",
        "outputId": "747e619c-7144-4c83-c111-f67b5e36fc63"
      },
      "outputs": [
        {
          "data": {
            "text/plain": [
              "120"
            ]
          },
          "execution_count": 4,
          "metadata": {},
          "output_type": "execute_result"
        }
      ],
      "source": [
        "def fact(num):\n",
        "  if num==1:\n",
        "    return num\n",
        "  else:\n",
        "    return num*fact(num-1)\n",
        "fact(5)\n"
      ]
    },
    {
      "cell_type": "code",
      "execution_count": null,
      "metadata": {
        "colab": {
          "base_uri": "https://localhost:8080/"
        },
        "id": "lGr0q9H3gJyV",
        "outputId": "359eb82b-b2cd-4c94-db52-adaf09444103"
      },
      "outputs": [
        {
          "data": {
            "text/plain": [
              "[169, 289, 64, 25, 81, 361]"
            ]
          },
          "execution_count": 20,
          "metadata": {},
          "output_type": "execute_result"
        }
      ],
      "source": [
        "def square(*num):\n",
        "  sq=[]\n",
        "  for i in num:\n",
        "    sq.append(i**2)\n",
        "  return sq\n",
        "square(13,17,8,5,9,19)\n"
      ]
    },
    {
      "cell_type": "code",
      "execution_count": null,
      "metadata": {
        "colab": {
          "base_uri": "https://localhost:8080/"
        },
        "id": "NiKckBkOiAd_",
        "outputId": "d142afbe-f636-4b4b-a6ef-5a615d2e24c6"
      },
      "outputs": [
        {
          "name": "stdout",
          "output_type": "stream",
          "text": [
            "Enter base value: 5\n",
            "Enter height value: 4\n",
            "10.0\n"
          ]
        }
      ],
      "source": [
        " base=int(input(\"Enter base value: \"))\n",
        " height=int(input(\"Enter height value: \"))\n",
        " area=0.5*base*height\n",
        " print(area)"
      ]
    },
    {
      "cell_type": "code",
      "execution_count": null,
      "metadata": {
        "colab": {
          "base_uri": "https://localhost:8080/"
        },
        "id": "FzMfoiZOkZQK",
        "outputId": "3f4b90ab-562e-4db9-84f8-1635b6e8564d"
      },
      "outputs": [
        {
          "name": "stdout",
          "output_type": "stream",
          "text": [
            "['ajay', 'amith', 'dileep', 'sanjay']\n"
          ]
        }
      ],
      "source": [
        "f=[\"dileep\",\"ajay\",\"sanjay\",\"amith\"]\n",
        "sort=[]\n",
        "for i in sorted(f):\n",
        "  sort.append(i)\n",
        "print(sort)"
      ]
    },
    {
      "cell_type": "code",
      "execution_count": null,
      "metadata": {
        "colab": {
          "base_uri": "https://localhost:8080/"
        },
        "id": "SPa3aADEk3C-",
        "outputId": "1f0ad4f2-9a61-48c3-df81-bed111d898f4"
      },
      "outputs": [
        {
          "name": "stdout",
          "output_type": "stream",
          "text": [
            "[3, 5, 8, 7]\n"
          ]
        }
      ],
      "source": [
        "def intersection(lst1,lst2):\n",
        "  lst3 = [value for value in lst1 if value in lst2]\n",
        "  return lst3\n",
        "lst1=[2,3,5,8,4,7]\n",
        "lst2=[3,6,5,7,9,8]\n",
        "print(intersection(lst1, lst2))"
      ]
    },
    {
      "cell_type": "code",
      "execution_count": null,
      "metadata": {
        "id": "r8STjYxpoqIY"
      },
      "outputs": [],
      "source": [
        "# DAY 5"
      ]
    },
    {
      "cell_type": "code",
      "execution_count": null,
      "metadata": {
        "colab": {
          "base_uri": "https://localhost:8080/"
        },
        "id": "FLCRrAvqs1pA",
        "outputId": "7207a9a5-55c1-4c2f-b84e-88f6422d0cb8"
      },
      "outputs": [
        {
          "name": "stdout",
          "output_type": "stream",
          "text": [
            "dlpkmrrddy\n"
          ]
        }
      ],
      "source": [
        "def alpha(string):\n",
        "  vowels = ['a', 'e', 'i', 'o', 'u', 'A', 'E', 'I', 'O', 'U']\n",
        "  result = [letter for letter in string if letter.lower() not in vowels]\n",
        "  result = ''.join(result)\n",
        "  print(result)\n",
        "alpha(\"dileepkumarreddy\")"
      ]
    },
    {
      "cell_type": "code",
      "execution_count": null,
      "metadata": {
        "colab": {
          "base_uri": "https://localhost:8080/"
        },
        "id": "fjpAFBKqXqwl",
        "outputId": "d442e017-a5c4-483e-d94e-dfa40c0ecf3d"
      },
      "outputs": [
        {
          "output_type": "stream",
          "name": "stdout",
          "text": [
            "d,l,p,k,m,r,r,d,d,y,"
          ]
        }
      ],
      "source": [
        "def hello(string):\n",
        "  vowels = ['a', 'e', 'i', 'o', 'u', 'A', 'E', 'I', 'O', 'U']\n",
        "  for i in string:\n",
        "    if i not in vowels:\n",
        "      print(i,end=\",\")\n",
        "hello(\"dileepkumarreddy\")"
      ]
    },
    {
      "cell_type": "code",
      "execution_count": null,
      "metadata": {
        "colab": {
          "base_uri": "https://localhost:8080/"
        },
        "id": "ziZqKPejgCA0",
        "outputId": "73a68dd6-8ea1-4de9-c517-4b8f7390b9b3"
      },
      "outputs": [
        {
          "name": "stdout",
          "output_type": "stream",
          "text": [
            "dileep\n"
          ]
        }
      ],
      "source": [
        "a=[\"dileep\",\"kumar\",\"reddy\"]\n",
        "max=a[0]\n",
        "for i in a:\n",
        "  if len(i) > len(max):\n",
        "    max=i\n",
        "  print(max)\n",
        "  break"
      ]
    },
    {
      "cell_type": "code",
      "execution_count": null,
      "metadata": {
        "colab": {
          "base_uri": "https://localhost:8080/"
        },
        "id": "7WdtAQu9hELn",
        "outputId": "502cc822-f1cc-410a-a5ea-7b50ed7e33f5"
      },
      "outputs": [
        {
          "name": "stdout",
          "output_type": "stream",
          "text": [
            "ajay,indra,"
          ]
        }
      ],
      "source": [
        "u=[\"dileep\",\"kumar\",\"reddy\",\"ajay\",\"indra\"]\n",
        "a=[]\n",
        "count=0\n",
        "vowels = ['a', 'e', 'i', 'o', 'u', 'A', 'E', 'I', 'O', 'U']\n",
        "for i in u:\n",
        "  if i[0] in vowels:\n",
        "    print(i,end=\",\")\n"
      ]
    },
    {
      "cell_type": "code",
      "execution_count": null,
      "metadata": {
        "colab": {
          "base_uri": "https://localhost:8080/"
        },
        "id": "-IgPhqKCi94m",
        "outputId": "6aba0a26-42a9-49ef-9d31-2d9201319171"
      },
      "outputs": [
        {
          "name": "stdout",
          "output_type": "stream",
          "text": [
            "dilep\n"
          ]
        }
      ],
      "source": [
        "def duplicates(string):\n",
        "  a=\"\"\n",
        "  for i in string:\n",
        "    if i not in a:\n",
        "      a=a+i\n",
        "  print(a)\n",
        "duplicates(\"dileep\")"
      ]
    },
    {
      "cell_type": "code",
      "execution_count": null,
      "metadata": {
        "colab": {
          "base_uri": "https://localhost:8080/"
        },
        "id": "UhDw86skkN-l",
        "outputId": "eed11ead-8970-4afb-d9ba-8c3944c9fb8c"
      },
      "outputs": [
        {
          "data": {
            "text/plain": [
              "True"
            ]
          },
          "execution_count": 40,
          "metadata": {},
          "output_type": "execute_result"
        }
      ],
      "source": [
        "def present(sentence, word):\n",
        "  a=sentence.split(\" \")\n",
        "  for i in a:\n",
        "    if (i==word):\n",
        "      return True\n",
        "  return False\n",
        "present(\"dileep kumar reddy\",\"kumar\")\n"
      ]
    },
    {
      "cell_type": "code",
      "execution_count": null,
      "metadata": {
        "id": "gMtYfg2VlYDN"
      },
      "outputs": [],
      "source": [
        "# DAY 6"
      ]
    },
    {
      "cell_type": "code",
      "execution_count": null,
      "metadata": {
        "colab": {
          "base_uri": "https://localhost:8080/"
        },
        "id": "cHgPiQXomdT_",
        "outputId": "b3adc28a-6f03-42d2-a86a-309d05efaf9c"
      },
      "outputs": [
        {
          "name": "stdout",
          "output_type": "stream",
          "text": [
            "[1, 4, 3, 6, 9, 2, 4, 5, 7, 10]\n"
          ]
        }
      ],
      "source": [
        "a=[1,4,3,6,9]\n",
        "b=[2,4,5,7,10]\n",
        "c=a+b\n",
        "print(c)"
      ]
    },
    {
      "cell_type": "code",
      "execution_count": null,
      "metadata": {
        "colab": {
          "base_uri": "https://localhost:8080/"
        },
        "id": "ZeVT7z2EmIwy",
        "outputId": "34e8cb0a-6c01-4810-e553-5cfa8c3dab7b"
      },
      "outputs": [
        {
          "name": "stdout",
          "output_type": "stream",
          "text": [
            "The largest n.o is:  45\n",
            "The smallest n.o is:  2\n"
          ]
        }
      ],
      "source": [
        "v=[4,2,45,12,64,98]\n",
        "max=v[0]\n",
        "min=v[0]\n",
        "for i in v:\n",
        "  if i > max:\n",
        "    max = i\n",
        "    print(\"The largest n.o is: \",max)\n",
        "    break;\n",
        "  elif i < min:\n",
        "    min = i\n",
        "print(\"The smallest n.o is: \",min)\n"
      ]
    },
    {
      "cell_type": "code",
      "execution_count": null,
      "metadata": {
        "colab": {
          "base_uri": "https://localhost:8080/"
        },
        "id": "xKQWtOOFnnBw",
        "outputId": "cde30f3d-63ef-42b5-d2eb-4527e474a022"
      },
      "outputs": [
        {
          "name": "stdout",
          "output_type": "stream",
          "text": [
            "[5, 7]\n"
          ]
        }
      ],
      "source": [
        "s=[2,4,6,5,7]\n",
        "t=[3,5,7,1,9]\n",
        "common=[]\n",
        "for i in s:\n",
        "  if i in t:\n",
        "    common.append(i)\n",
        "print(common)"
      ]
    },
    {
      "cell_type": "code",
      "execution_count": null,
      "metadata": {
        "colab": {
          "base_uri": "https://localhost:8080/"
        },
        "id": "VXXBkuE-z-z-",
        "outputId": "63cb5b42-4415-44de-ef84-3a4ceb9e8ad3"
      },
      "outputs": [
        {
          "name": "stdout",
          "output_type": "stream",
          "text": [
            "maximum length word is:  kumar  And length is:  5\n",
            "maximum length word is:  kumar  And length is:  5\n",
            "maximum length word is:  dileep  And length is:  6\n"
          ]
        }
      ],
      "source": [
        "a=[\"kumar\",\"reddy\",\"dileep\"]\n",
        "maxlen=\"\"\n",
        "for i in a:\n",
        "  if (len(i) > len(maxlen)):\n",
        "    maxlen=i\n",
        "  print(\"maximum length word is: \",maxlen,\" And length is: \",len(maxlen))\n"
      ]
    },
    {
      "cell_type": "code",
      "execution_count": null,
      "metadata": {
        "colab": {
          "base_uri": "https://localhost:8080/"
        },
        "id": "XuxaWuO-0ifK",
        "outputId": "f5a685b0-bd4e-4b0f-b8fc-8a46c89d7cdd"
      },
      "outputs": [
        {
          "name": "stdout",
          "output_type": "stream",
          "text": [
            "2 has occured 2 times\n"
          ]
        }
      ],
      "source": [
        "def count(list,a):\n",
        "  print(list.count(a))\n",
        "\n",
        "list=[2,5,77,4,2,8,9]\n",
        "a=2\n",
        "print(a,\"has occured\",list.count(a),\"times\")\n",
        "\n"
      ]
    },
    {
      "cell_type": "code",
      "execution_count": null,
      "metadata": {
        "colab": {
          "base_uri": "https://localhost:8080/"
        },
        "id": "IZGGDWXRo-1h",
        "outputId": "4d683c29-3a1e-495a-907a-412d56626d79"
      },
      "outputs": [
        {
          "name": "stdout",
          "output_type": "stream",
          "text": [
            "{'kumar', 'dileep', 'hi', 'jogi', 'reddy'}\n"
          ]
        }
      ],
      "source": [
        "q=[\"dileep\",\"kumar\",\"reddy\",\"dileep\",\"jogi\",\"hi\",\"jogi\"]\n",
        "a=set(q)\n",
        "print(a)"
      ]
    },
    {
      "cell_type": "code",
      "execution_count": null,
      "metadata": {
        "colab": {
          "base_uri": "https://localhost:8080/"
        },
        "id": "VXGzDjKLv5fC",
        "outputId": "85767ffd-5484-44a0-865c-00b262deead4"
      },
      "outputs": [
        {
          "name": "stdout",
          "output_type": "stream",
          "text": [
            "True\n"
          ]
        }
      ],
      "source": [
        "def is_sorted_ascending(lst):\n",
        "    return all(\n",
        "        lst[index] <= lst[index+1]\n",
        "        for index in range(len(lst) - 1)\n",
        "    )\n",
        "\n",
        "\n",
        "list_1 = [1, 2, 3, 4, 5]\n",
        "print(is_sorted_ascending(list_1))"
      ]
    },
    {
      "cell_type": "code",
      "execution_count": null,
      "metadata": {
        "colab": {
          "base_uri": "https://localhost:8080/"
        },
        "id": "Yb58wsPXy-MV",
        "outputId": "b122d9ac-2821-47fc-cf66-10487b4d830f"
      },
      "outputs": [
        {
          "data": {
            "text/plain": [
              "[2, 3, 4, 4, 5, 5, 6, 8]"
            ]
          },
          "execution_count": 45,
          "metadata": {},
          "output_type": "execute_result"
        }
      ],
      "source": [
        "def dileep(lst1,lst2):\n",
        "   final_list = sorted(lst1 + lst2)\n",
        "   return final_list\n",
        "list1=[2,3,4,5]\n",
        "list2=[8,4,5,6]\n",
        "dileep(list1,list2)"
      ]
    },
    {
      "cell_type": "code",
      "execution_count": null,
      "metadata": {
        "id": "tzeTsHAY1HJ0"
      },
      "outputs": [],
      "source": [
        "# DAY 7"
      ]
    },
    {
      "cell_type": "code",
      "execution_count": null,
      "metadata": {
        "colab": {
          "base_uri": "https://localhost:8080/"
        },
        "id": "qBbhfO2qwW9l",
        "outputId": "2858f336-b2fa-45f2-a774-e61c872fff1e"
      },
      "outputs": [
        {
          "name": "stdout",
          "output_type": "stream",
          "text": [
            "{'name': 'dileep', 'age': 21, 'welcome': 'kumar', 'your age': 24}\n"
          ]
        }
      ],
      "source": [
        "a={\"name\":\"dileep\",\"age\":21}\n",
        "b={\"welcome\":\"kumar\",\"your age\":24}\n",
        "a.update(b)\n",
        "print(a)"
      ]
    },
    {
      "cell_type": "code",
      "execution_count": null,
      "metadata": {
        "colab": {
          "base_uri": "https://localhost:8080/"
        },
        "id": "lKG8DPTKw1Ug",
        "outputId": "e65e164d-4dc8-4eb1-9fcc-4e3e339181d7"
      },
      "outputs": [
        {
          "data": {
            "text/plain": [
              "7"
            ]
          },
          "execution_count": 17,
          "metadata": {},
          "output_type": "execute_result"
        }
      ],
      "source": [
        "def freq(lst):\n",
        "  maxval=0\n",
        "  res=lst[0]\n",
        "  for i in lst:\n",
        "    if lst.count(i)> maxval:\n",
        "      maxval=lst.count(i)\n",
        "      res=i\n",
        "  return res\n",
        "lst=[1,2,3,7,5,7,4,8]\n",
        "freq(lst)"
      ]
    },
    {
      "cell_type": "code",
      "execution_count": null,
      "metadata": {
        "colab": {
          "base_uri": "https://localhost:8080/"
        },
        "id": "u_6WyS9U0Pff",
        "outputId": "6db98b07-a883-4420-acba-3ce98512570c"
      },
      "outputs": [
        {
          "name": "stdout",
          "output_type": "stream",
          "text": [
            "{}\n"
          ]
        }
      ],
      "source": [
        "def remove(dict):\n",
        "  return dict.clear()\n",
        "dict={\"name\":\"dileep\",\"age\":21}\n",
        "remove(dict)\n",
        "print(dict)\n"
      ]
    },
    {
      "cell_type": "code",
      "execution_count": null,
      "metadata": {
        "colab": {
          "base_uri": "https://localhost:8080/"
        },
        "id": "uOPktds40QhS",
        "outputId": "7b9bdf74-6410-4407-8194-ac742eef3723"
      },
      "outputs": [
        {
          "name": "stdout",
          "output_type": "stream",
          "text": [
            " true\n"
          ]
        }
      ],
      "source": [
        "set1={24,5,3,7,5}\n",
        "set2={4,7,2,1,6,98,3}\n",
        "common=set(set1).intersection(set2)\n",
        "\n",
        "if common:\n",
        "  print(\" true\")\n",
        "else:\n",
        "  print(\"false\")"
      ]
    },
    {
      "cell_type": "code",
      "execution_count": null,
      "metadata": {
        "colab": {
          "base_uri": "https://localhost:8080/"
        },
        "id": "lMG3Qff93DTI",
        "outputId": "0aa273f3-0c99-4f85-b74a-6a7d47cfedcf"
      },
      "outputs": [
        {
          "name": "stdout",
          "output_type": "stream",
          "text": [
            "All keys maximum : {'name': 3, 'age': 23}\n"
          ]
        }
      ],
      "source": [
        "a=[{\"name\":1,\"age\":21},{\"name\":2,\"age\":22},{\"name\":3,\"age\":23}]\n",
        "res={}\n",
        "for i in a:\n",
        "  for key,val in i.items():\n",
        "    if key in res:\n",
        "      res[key] = max(res[key], val)\n",
        "    else:\n",
        "      res[key] = val\n",
        "print(\"All keys maximum : \" + str(res))"
      ]
    },
    {
      "cell_type": "code",
      "execution_count": null,
      "metadata": {
        "colab": {
          "base_uri": "https://localhost:8080/"
        },
        "id": "WjLBXVIr5_pn",
        "outputId": "e16a384f-3cc7-4c9a-f817-3eb9868978ac"
      },
      "outputs": [
        {
          "name": "stdout",
          "output_type": "stream",
          "text": [
            "{'h': 1, 'e': 1, 'l': 3, 'o': 2, ' ': 1, 'w': 1, 'r': 1, 'd': 1}\n"
          ]
        }
      ],
      "source": [
        "def count_characters(str):\n",
        "  count_dict = {}\n",
        "  for i in str:\n",
        "    if i in count_dict:\n",
        "      count_dict[i] += 1\n",
        "    else:\n",
        "      count_dict[i] = 1\n",
        "  return count_dict\n",
        "\n",
        "print(count_characters(\"hello world\"))"
      ]
    },
    {
      "cell_type": "code",
      "execution_count": null,
      "metadata": {
        "colab": {
          "base_uri": "https://localhost:8080/"
        },
        "id": "D0lrp-PC8CjJ",
        "outputId": "594ae4bb-db79-41bd-d9ea-4460421fc132"
      },
      "outputs": [
        {
          "name": "stdout",
          "output_type": "stream",
          "text": [
            "Union : {0, 1, 2, 3, 4, 5, 6, 8}\n",
            "Intersection : {2, 4}\n",
            "Difference : {0, 8, 6}\n",
            "Symmetric difference : {0, 1, 3, 5, 6, 8}\n"
          ]
        }
      ],
      "source": [
        "A = {0, 2, 4, 6, 8};\n",
        "B = {1, 2, 3, 4, 5};\n",
        "\n",
        "# union\n",
        "print(\"Union :\", A | B)\n",
        "\n",
        "# intersection\n",
        "print(\"Intersection :\", A & B)\n",
        "\n",
        "# difference\n",
        "print(\"Difference :\", A - B)\n",
        "\n",
        "# symmetric difference\n",
        "print(\"Symmetric difference :\", A ^ B)"
      ]
    },
    {
      "cell_type": "code",
      "execution_count": null,
      "metadata": {
        "colab": {
          "base_uri": "https://localhost:8080/"
        },
        "id": "46_gBn_X9VzL",
        "outputId": "3823d2bb-5c26-4f66-beae-51eab7224516"
      },
      "outputs": [
        {
          "name": "stdout",
          "output_type": "stream",
          "text": [
            "{'a': 1, 'b': 2, 'c': 3}\n"
          ]
        }
      ],
      "source": [
        "my_dict = {'b': 2, 'a': 1, 'c': 3}\n",
        "sorted_dict = dict(sorted(my_dict.items()))\n",
        "\n",
        "print(sorted_dict)"
      ]
    },
    {
      "cell_type": "code",
      "execution_count": null,
      "metadata": {
        "colab": {
          "base_uri": "https://localhost:8080/"
        },
        "id": "viyxu_EP-Vq_",
        "outputId": "f15f7a05-0796-4785-a5f2-b1caed1d860b"
      },
      "outputs": [
        {
          "name": "stdout",
          "output_type": "stream",
          "text": [
            "The computed mean : 7.0\n"
          ]
        }
      ],
      "source": [
        "dict = {\"Gfg\" : 4, \"is\" : 7, \"Best\" : 8, \"for\" : 6, \"Geeks\" : 10}\n",
        "res = 0\n",
        "for val in dict.values():\n",
        "    res += val\n",
        "res = res / len(dict)\n",
        "print(\"The computed mean : \" + str(res))"
      ]
    },
    {
      "cell_type": "code",
      "execution_count": null,
      "metadata": {
        "colab": {
          "base_uri": "https://localhost:8080/"
        },
        "id": "MmqcoWZY_mLA",
        "outputId": "28f06cec-fd1a-459f-9bbc-2b782167b4cb"
      },
      "outputs": [
        {
          "name": "stdout",
          "output_type": "stream",
          "text": [
            "banana\n",
            "{'b', 'a', 'n'}\n"
          ]
        }
      ],
      "source": [
        "x = input()\n",
        "unique_characters = set(x)\n",
        "print(unique_characters)"
      ]
    },
    {
      "cell_type": "code",
      "execution_count": null,
      "metadata": {
        "colab": {
          "base_uri": "https://localhost:8080/"
        },
        "id": "J1XZBzUoAjb3",
        "outputId": "0f546233-9cf2-4be3-aee8-f2438b7ec924"
      },
      "outputs": [
        {
          "data": {
            "text/plain": [
              "{'d', 'e', 'h', 'l', 'o', 'r', 'w'}"
            ]
          },
          "execution_count": 12,
          "metadata": {},
          "output_type": "execute_result"
        }
      ],
      "source": [
        "def get_unique_characters(strings):\n",
        "  unique_characters = set()\n",
        "  for i in strings:\n",
        "    for character in i:\n",
        "      if character not in unique_characters:\n",
        "        unique_characters.add(character)\n",
        "\n",
        "  return unique_characters\n",
        "strings = [\"hello\", \"world\"]\n",
        "get_unique_characters(strings)"
      ]
    },
    {
      "cell_type": "code",
      "execution_count": null,
      "metadata": {
        "colab": {
          "base_uri": "https://localhost:8080/"
        },
        "id": "V3rcsXfdA2WL",
        "outputId": "9d19bdc3-549b-4c00-f98e-b0e145806dc1"
      },
      "outputs": [
        {
          "name": "stdout",
          "output_type": "stream",
          "text": [
            "{1, 2, 3, 4, 7}\n"
          ]
        }
      ],
      "source": [
        "l=[1,2,3,4,2,3,4,7]\n",
        "a=set(l)\n",
        "print(a)"
      ]
    },
    {
      "cell_type": "code",
      "execution_count": null,
      "metadata": {
        "id": "MVPl9kGfhp11"
      },
      "outputs": [],
      "source": [
        "# Day 8"
      ]
    },
    {
      "cell_type": "code",
      "source": [
        "q=[1,43,2,34,67]\n",
        "x=q.copy()\n",
        "print(x)"
      ],
      "metadata": {
        "colab": {
          "base_uri": "https://localhost:8080/"
        },
        "id": "fyJxPam-2e1J",
        "outputId": "865df95c-6c9c-4298-eeba-69071b0a3f71"
      },
      "execution_count": null,
      "outputs": [
        {
          "output_type": "stream",
          "name": "stdout",
          "text": [
            "[1, 43, 2, 34, 67]\n"
          ]
        }
      ]
    },
    {
      "cell_type": "code",
      "source": [
        "import numpy as np\n",
        "a=np.array(9)\n",
        "print(a)"
      ],
      "metadata": {
        "id": "Bo83JtRo2wue",
        "colab": {
          "base_uri": "https://localhost:8080/"
        },
        "outputId": "8a429c03-562d-4b51-ba73-bd7c8e16438b"
      },
      "execution_count": null,
      "outputs": [
        {
          "output_type": "stream",
          "name": "stdout",
          "text": [
            "9\n"
          ]
        }
      ]
    },
    {
      "cell_type": "code",
      "source": [
        "a=[20,3,22,445,67]\n",
        "b=np.asarray(a,dtype=float)\n",
        "print(b)"
      ],
      "metadata": {
        "colab": {
          "base_uri": "https://localhost:8080/"
        },
        "id": "ps6Cw0ILrqM8",
        "outputId": "68860207-611e-436e-bc7c-45f6ea42e500"
      },
      "execution_count": null,
      "outputs": [
        {
          "output_type": "stream",
          "name": "stdout",
          "text": [
            "[ 20.   3.  22. 445.  67.]\n"
          ]
        }
      ]
    },
    {
      "cell_type": "code",
      "source": [
        "c=[[22,34],[56,89]]\n",
        "d=np.asarray(c,dtype=int,order=\"f\")\n",
        "print(d)"
      ],
      "metadata": {
        "colab": {
          "base_uri": "https://localhost:8080/"
        },
        "id": "aB8FX54AsFdB",
        "outputId": "ac850d77-8005-4d84-a52a-e2aec9b6f309"
      },
      "execution_count": null,
      "outputs": [
        {
          "output_type": "stream",
          "name": "stdout",
          "text": [
            "[[22 34]\n",
            " [56 89]]\n"
          ]
        }
      ]
    },
    {
      "cell_type": "code",
      "source": [
        "for i in np.nditer(d):\n",
        "  print(i)"
      ],
      "metadata": {
        "colab": {
          "base_uri": "https://localhost:8080/"
        },
        "id": "LFZfeeR8s8Rn",
        "outputId": "5ffbf8c6-4346-43af-ccdf-3a5afd21c992"
      },
      "execution_count": null,
      "outputs": [
        {
          "output_type": "stream",
          "name": "stdout",
          "text": [
            "22\n",
            "56\n",
            "34\n",
            "89\n"
          ]
        }
      ]
    },
    {
      "cell_type": "code",
      "source": [],
      "metadata": {
        "id": "_lAvLqT5uz_7"
      },
      "execution_count": null,
      "outputs": []
    },
    {
      "cell_type": "code",
      "source": [
        "v=b\"dileepkumar\"\n",
        "n=np.frombuffer(v,dtype=\"S1\",count=5)\n",
        "print(n)"
      ],
      "metadata": {
        "colab": {
          "base_uri": "https://localhost:8080/"
        },
        "id": "jZquz54GtV-R",
        "outputId": "f954f18e-aa39-4158-8e4e-806d73bec2e2"
      },
      "execution_count": null,
      "outputs": [
        {
          "output_type": "stream",
          "name": "stdout",
          "text": [
            "[b'd' b'i' b'l' b'e' b'e']\n"
          ]
        }
      ]
    },
    {
      "cell_type": "code",
      "source": [
        "import numpy as np\n",
        "g=np.arange(2,20,2)\n",
        "print(g)"
      ],
      "metadata": {
        "id": "_Kla9qXlt0O_",
        "colab": {
          "base_uri": "https://localhost:8080/"
        },
        "outputId": "997aaa55-bcae-4e1b-bd3f-2981efea89b1"
      },
      "execution_count": null,
      "outputs": [
        {
          "output_type": "stream",
          "name": "stdout",
          "text": [
            "[ 2  4  6  8 10 12 14 16 18]\n"
          ]
        }
      ]
    },
    {
      "cell_type": "code",
      "source": [
        "g.reshape(3,3)"
      ],
      "metadata": {
        "colab": {
          "base_uri": "https://localhost:8080/"
        },
        "id": "dj7iPrK96oxr",
        "outputId": "78ac9489-9cf8-49e5-c9fb-c4baa439e728"
      },
      "execution_count": null,
      "outputs": [
        {
          "output_type": "execute_result",
          "data": {
            "text/plain": [
              "array([[ 2,  4,  6],\n",
              "       [ 8, 10, 12],\n",
              "       [14, 16, 18]])"
            ]
          },
          "metadata": {},
          "execution_count": 5
        }
      ]
    },
    {
      "cell_type": "code",
      "source": [
        "h=np.linspace(0,80,20,endpoint=False)\n",
        "print(h)"
      ],
      "metadata": {
        "colab": {
          "base_uri": "https://localhost:8080/"
        },
        "id": "milg4W7x6-HI",
        "outputId": "855e57f5-8036-498a-f8f3-5a062f4d729f"
      },
      "execution_count": null,
      "outputs": [
        {
          "output_type": "stream",
          "name": "stdout",
          "text": [
            "[ 0.  4.  8. 12. 16. 20. 24. 28. 32. 36. 40. 44. 48. 52. 56. 60. 64. 68.\n",
            " 72. 76.]\n"
          ]
        }
      ]
    },
    {
      "cell_type": "code",
      "source": [
        "l=np.logspace(0,20,3,base=10)\n",
        "print(l)"
      ],
      "metadata": {
        "colab": {
          "base_uri": "https://localhost:8080/"
        },
        "id": "IEPLBleJ7pb4",
        "outputId": "6a9a92fd-2fb1-4d34-ac3f-21e5335b4fd7"
      },
      "execution_count": null,
      "outputs": [
        {
          "output_type": "stream",
          "name": "stdout",
          "text": [
            "[1.e+00 1.e+10 1.e+20]\n"
          ]
        }
      ]
    },
    {
      "cell_type": "code",
      "source": [
        "np.size(l)"
      ],
      "metadata": {
        "colab": {
          "base_uri": "https://localhost:8080/"
        },
        "id": "oVQ0Z7NS8Ov4",
        "outputId": "85c57f62-eebe-439e-ac90-db261f0edc0d"
      },
      "execution_count": null,
      "outputs": [
        {
          "output_type": "execute_result",
          "data": {
            "text/plain": [
              "3"
            ]
          },
          "metadata": {},
          "execution_count": 14
        }
      ]
    },
    {
      "cell_type": "code",
      "source": [
        "l.dtype"
      ],
      "metadata": {
        "colab": {
          "base_uri": "https://localhost:8080/"
        },
        "id": "p91xqEaB8mU5",
        "outputId": "520fd17e-edc4-44aa-cfd0-6622e2a3b3fb"
      },
      "execution_count": null,
      "outputs": [
        {
          "output_type": "execute_result",
          "data": {
            "text/plain": [
              "dtype('float64')"
            ]
          },
          "metadata": {},
          "execution_count": 17
        }
      ]
    },
    {
      "cell_type": "code",
      "source": [
        "np.shape(l)"
      ],
      "metadata": {
        "colab": {
          "base_uri": "https://localhost:8080/"
        },
        "id": "ISznvd6T8pnW",
        "outputId": "1e176c01-ba6b-4820-f94a-b0737eeeba74"
      },
      "execution_count": null,
      "outputs": [
        {
          "output_type": "execute_result",
          "data": {
            "text/plain": [
              "(9,)"
            ]
          },
          "metadata": {},
          "execution_count": 20
        }
      ]
    },
    {
      "cell_type": "code",
      "source": [
        "np.split(g,3)"
      ],
      "metadata": {
        "colab": {
          "base_uri": "https://localhost:8080/"
        },
        "id": "oAZie14781Uu",
        "outputId": "e54afbac-3fb4-4d07-82e8-bbeb1aa7163c"
      },
      "execution_count": null,
      "outputs": [
        {
          "output_type": "execute_result",
          "data": {
            "text/plain": [
              "[array([2, 4, 6]), array([ 8, 10, 12]), array([14, 16, 18])]"
            ]
          },
          "metadata": {},
          "execution_count": 21
        }
      ]
    },
    {
      "cell_type": "code",
      "source": [
        "np.where(h%2==0)"
      ],
      "metadata": {
        "colab": {
          "base_uri": "https://localhost:8080/"
        },
        "id": "dM0ruhWRDVo_",
        "outputId": "fa46280e-87f3-4d41-9ced-b55867e32db6"
      },
      "execution_count": null,
      "outputs": [
        {
          "output_type": "execute_result",
          "data": {
            "text/plain": [
              "(array([ 0,  1,  2,  3,  4,  5,  6,  7,  8,  9, 10, 11, 12, 13, 14, 15, 16,\n",
              "        17, 18, 19]),)"
            ]
          },
          "metadata": {},
          "execution_count": 23
        }
      ]
    },
    {
      "cell_type": "code",
      "source": [
        "import pandas as pd\n",
        "a=pd.read_csv(\"C:/Users/91836/Downloads/example.xlsx\")\n",
        "df=pd.DataFrame(a)"
      ],
      "metadata": {
        "id": "7YivLcoOEYAG",
        "colab": {
          "base_uri": "https://localhost:8080/",
          "height": 355
        },
        "outputId": "2417b696-8f66-4f50-a12e-ec8088030fa9"
      },
      "execution_count": null,
      "outputs": [
        {
          "output_type": "error",
          "ename": "FileNotFoundError",
          "evalue": "ignored",
          "traceback": [
            "\u001b[0;31m---------------------------------------------------------------------------\u001b[0m",
            "\u001b[0;31mFileNotFoundError\u001b[0m                         Traceback (most recent call last)",
            "\u001b[0;32m<ipython-input-7-056a652aff23>\u001b[0m in \u001b[0;36m<cell line: 2>\u001b[0;34m()\u001b[0m\n\u001b[1;32m      1\u001b[0m \u001b[0;32mimport\u001b[0m \u001b[0mpandas\u001b[0m \u001b[0;32mas\u001b[0m \u001b[0mpd\u001b[0m\u001b[0;34m\u001b[0m\u001b[0;34m\u001b[0m\u001b[0m\n\u001b[0;32m----> 2\u001b[0;31m \u001b[0ma\u001b[0m\u001b[0;34m=\u001b[0m\u001b[0mpd\u001b[0m\u001b[0;34m.\u001b[0m\u001b[0mread_excel\u001b[0m\u001b[0;34m(\u001b[0m\u001b[0;34m\"C:/Users/91836/Downloads/example.xlsx\"\u001b[0m\u001b[0;34m)\u001b[0m\u001b[0;34m\u001b[0m\u001b[0;34m\u001b[0m\u001b[0m\n\u001b[0m\u001b[1;32m      3\u001b[0m \u001b[0mdf\u001b[0m\u001b[0;34m=\u001b[0m\u001b[0mpd\u001b[0m\u001b[0;34m.\u001b[0m\u001b[0mDataFrame\u001b[0m\u001b[0;34m(\u001b[0m\u001b[0ma\u001b[0m\u001b[0;34m)\u001b[0m\u001b[0;34m\u001b[0m\u001b[0;34m\u001b[0m\u001b[0m\n",
            "\u001b[0;32m/usr/local/lib/python3.10/dist-packages/pandas/util/_decorators.py\u001b[0m in \u001b[0;36mwrapper\u001b[0;34m(*args, **kwargs)\u001b[0m\n\u001b[1;32m    209\u001b[0m                 \u001b[0;32melse\u001b[0m\u001b[0;34m:\u001b[0m\u001b[0;34m\u001b[0m\u001b[0;34m\u001b[0m\u001b[0m\n\u001b[1;32m    210\u001b[0m                     \u001b[0mkwargs\u001b[0m\u001b[0;34m[\u001b[0m\u001b[0mnew_arg_name\u001b[0m\u001b[0;34m]\u001b[0m \u001b[0;34m=\u001b[0m \u001b[0mnew_arg_value\u001b[0m\u001b[0;34m\u001b[0m\u001b[0;34m\u001b[0m\u001b[0m\n\u001b[0;32m--> 211\u001b[0;31m             \u001b[0;32mreturn\u001b[0m \u001b[0mfunc\u001b[0m\u001b[0;34m(\u001b[0m\u001b[0;34m*\u001b[0m\u001b[0margs\u001b[0m\u001b[0;34m,\u001b[0m \u001b[0;34m**\u001b[0m\u001b[0mkwargs\u001b[0m\u001b[0;34m)\u001b[0m\u001b[0;34m\u001b[0m\u001b[0;34m\u001b[0m\u001b[0m\n\u001b[0m\u001b[1;32m    212\u001b[0m \u001b[0;34m\u001b[0m\u001b[0m\n\u001b[1;32m    213\u001b[0m         \u001b[0;32mreturn\u001b[0m \u001b[0mcast\u001b[0m\u001b[0;34m(\u001b[0m\u001b[0mF\u001b[0m\u001b[0;34m,\u001b[0m \u001b[0mwrapper\u001b[0m\u001b[0;34m)\u001b[0m\u001b[0;34m\u001b[0m\u001b[0;34m\u001b[0m\u001b[0m\n",
            "\u001b[0;32m/usr/local/lib/python3.10/dist-packages/pandas/util/_decorators.py\u001b[0m in \u001b[0;36mwrapper\u001b[0;34m(*args, **kwargs)\u001b[0m\n\u001b[1;32m    329\u001b[0m                     \u001b[0mstacklevel\u001b[0m\u001b[0;34m=\u001b[0m\u001b[0mfind_stack_level\u001b[0m\u001b[0;34m(\u001b[0m\u001b[0;34m)\u001b[0m\u001b[0;34m,\u001b[0m\u001b[0;34m\u001b[0m\u001b[0;34m\u001b[0m\u001b[0m\n\u001b[1;32m    330\u001b[0m                 )\n\u001b[0;32m--> 331\u001b[0;31m             \u001b[0;32mreturn\u001b[0m \u001b[0mfunc\u001b[0m\u001b[0;34m(\u001b[0m\u001b[0;34m*\u001b[0m\u001b[0margs\u001b[0m\u001b[0;34m,\u001b[0m \u001b[0;34m**\u001b[0m\u001b[0mkwargs\u001b[0m\u001b[0;34m)\u001b[0m\u001b[0;34m\u001b[0m\u001b[0;34m\u001b[0m\u001b[0m\n\u001b[0m\u001b[1;32m    332\u001b[0m \u001b[0;34m\u001b[0m\u001b[0m\n\u001b[1;32m    333\u001b[0m         \u001b[0;31m# error: \"Callable[[VarArg(Any), KwArg(Any)], Any]\" has no\u001b[0m\u001b[0;34m\u001b[0m\u001b[0;34m\u001b[0m\u001b[0m\n",
            "\u001b[0;32m/usr/local/lib/python3.10/dist-packages/pandas/io/excel/_base.py\u001b[0m in \u001b[0;36mread_excel\u001b[0;34m(io, sheet_name, header, names, index_col, usecols, squeeze, dtype, engine, converters, true_values, false_values, skiprows, nrows, na_values, keep_default_na, na_filter, verbose, parse_dates, date_parser, thousands, decimal, comment, skipfooter, convert_float, mangle_dupe_cols, storage_options)\u001b[0m\n\u001b[1;32m    480\u001b[0m     \u001b[0;32mif\u001b[0m \u001b[0;32mnot\u001b[0m \u001b[0misinstance\u001b[0m\u001b[0;34m(\u001b[0m\u001b[0mio\u001b[0m\u001b[0;34m,\u001b[0m \u001b[0mExcelFile\u001b[0m\u001b[0;34m)\u001b[0m\u001b[0;34m:\u001b[0m\u001b[0;34m\u001b[0m\u001b[0;34m\u001b[0m\u001b[0m\n\u001b[1;32m    481\u001b[0m         \u001b[0mshould_close\u001b[0m \u001b[0;34m=\u001b[0m \u001b[0;32mTrue\u001b[0m\u001b[0;34m\u001b[0m\u001b[0;34m\u001b[0m\u001b[0m\n\u001b[0;32m--> 482\u001b[0;31m         \u001b[0mio\u001b[0m \u001b[0;34m=\u001b[0m \u001b[0mExcelFile\u001b[0m\u001b[0;34m(\u001b[0m\u001b[0mio\u001b[0m\u001b[0;34m,\u001b[0m \u001b[0mstorage_options\u001b[0m\u001b[0;34m=\u001b[0m\u001b[0mstorage_options\u001b[0m\u001b[0;34m,\u001b[0m \u001b[0mengine\u001b[0m\u001b[0;34m=\u001b[0m\u001b[0mengine\u001b[0m\u001b[0;34m)\u001b[0m\u001b[0;34m\u001b[0m\u001b[0;34m\u001b[0m\u001b[0m\n\u001b[0m\u001b[1;32m    483\u001b[0m     \u001b[0;32melif\u001b[0m \u001b[0mengine\u001b[0m \u001b[0;32mand\u001b[0m \u001b[0mengine\u001b[0m \u001b[0;34m!=\u001b[0m \u001b[0mio\u001b[0m\u001b[0;34m.\u001b[0m\u001b[0mengine\u001b[0m\u001b[0;34m:\u001b[0m\u001b[0;34m\u001b[0m\u001b[0;34m\u001b[0m\u001b[0m\n\u001b[1;32m    484\u001b[0m         raise ValueError(\n",
            "\u001b[0;32m/usr/local/lib/python3.10/dist-packages/pandas/io/excel/_base.py\u001b[0m in \u001b[0;36m__init__\u001b[0;34m(self, path_or_buffer, engine, storage_options)\u001b[0m\n\u001b[1;32m   1650\u001b[0m                 \u001b[0mext\u001b[0m \u001b[0;34m=\u001b[0m \u001b[0;34m\"xls\"\u001b[0m\u001b[0;34m\u001b[0m\u001b[0;34m\u001b[0m\u001b[0m\n\u001b[1;32m   1651\u001b[0m             \u001b[0;32melse\u001b[0m\u001b[0;34m:\u001b[0m\u001b[0;34m\u001b[0m\u001b[0;34m\u001b[0m\u001b[0m\n\u001b[0;32m-> 1652\u001b[0;31m                 ext = inspect_excel_format(\n\u001b[0m\u001b[1;32m   1653\u001b[0m                     \u001b[0mcontent_or_path\u001b[0m\u001b[0;34m=\u001b[0m\u001b[0mpath_or_buffer\u001b[0m\u001b[0;34m,\u001b[0m \u001b[0mstorage_options\u001b[0m\u001b[0;34m=\u001b[0m\u001b[0mstorage_options\u001b[0m\u001b[0;34m\u001b[0m\u001b[0;34m\u001b[0m\u001b[0m\n\u001b[1;32m   1654\u001b[0m                 )\n",
            "\u001b[0;32m/usr/local/lib/python3.10/dist-packages/pandas/io/excel/_base.py\u001b[0m in \u001b[0;36minspect_excel_format\u001b[0;34m(content_or_path, storage_options)\u001b[0m\n\u001b[1;32m   1523\u001b[0m         \u001b[0mcontent_or_path\u001b[0m \u001b[0;34m=\u001b[0m \u001b[0mBytesIO\u001b[0m\u001b[0;34m(\u001b[0m\u001b[0mcontent_or_path\u001b[0m\u001b[0;34m)\u001b[0m\u001b[0;34m\u001b[0m\u001b[0;34m\u001b[0m\u001b[0m\n\u001b[1;32m   1524\u001b[0m \u001b[0;34m\u001b[0m\u001b[0m\n\u001b[0;32m-> 1525\u001b[0;31m     with get_handle(\n\u001b[0m\u001b[1;32m   1526\u001b[0m         \u001b[0mcontent_or_path\u001b[0m\u001b[0;34m,\u001b[0m \u001b[0;34m\"rb\"\u001b[0m\u001b[0;34m,\u001b[0m \u001b[0mstorage_options\u001b[0m\u001b[0;34m=\u001b[0m\u001b[0mstorage_options\u001b[0m\u001b[0;34m,\u001b[0m \u001b[0mis_text\u001b[0m\u001b[0;34m=\u001b[0m\u001b[0;32mFalse\u001b[0m\u001b[0;34m\u001b[0m\u001b[0;34m\u001b[0m\u001b[0m\n\u001b[1;32m   1527\u001b[0m     ) as handle:\n",
            "\u001b[0;32m/usr/local/lib/python3.10/dist-packages/pandas/io/common.py\u001b[0m in \u001b[0;36mget_handle\u001b[0;34m(path_or_buf, mode, encoding, compression, memory_map, is_text, errors, storage_options)\u001b[0m\n\u001b[1;32m    863\u001b[0m         \u001b[0;32melse\u001b[0m\u001b[0;34m:\u001b[0m\u001b[0;34m\u001b[0m\u001b[0;34m\u001b[0m\u001b[0m\n\u001b[1;32m    864\u001b[0m             \u001b[0;31m# Binary mode\u001b[0m\u001b[0;34m\u001b[0m\u001b[0;34m\u001b[0m\u001b[0m\n\u001b[0;32m--> 865\u001b[0;31m             \u001b[0mhandle\u001b[0m \u001b[0;34m=\u001b[0m \u001b[0mopen\u001b[0m\u001b[0;34m(\u001b[0m\u001b[0mhandle\u001b[0m\u001b[0;34m,\u001b[0m \u001b[0mioargs\u001b[0m\u001b[0;34m.\u001b[0m\u001b[0mmode\u001b[0m\u001b[0;34m)\u001b[0m\u001b[0;34m\u001b[0m\u001b[0;34m\u001b[0m\u001b[0m\n\u001b[0m\u001b[1;32m    866\u001b[0m         \u001b[0mhandles\u001b[0m\u001b[0;34m.\u001b[0m\u001b[0mappend\u001b[0m\u001b[0;34m(\u001b[0m\u001b[0mhandle\u001b[0m\u001b[0;34m)\u001b[0m\u001b[0;34m\u001b[0m\u001b[0;34m\u001b[0m\u001b[0m\n\u001b[1;32m    867\u001b[0m \u001b[0;34m\u001b[0m\u001b[0m\n",
            "\u001b[0;31mFileNotFoundError\u001b[0m: [Errno 2] No such file or directory: 'C:/Users/91836/Downloads/example.xlsx'"
          ]
        }
      ]
    },
    {
      "cell_type": "code",
      "source": [
        "a=[(\"dileep\",21),(\"kumar\",22),(\"reddy\",23)]\n",
        "df=pd.DataFrame(a)"
      ],
      "metadata": {
        "id": "ndbv8UPO6SPb"
      },
      "execution_count": null,
      "outputs": []
    },
    {
      "cell_type": "code",
      "source": [
        "df"
      ],
      "metadata": {
        "colab": {
          "base_uri": "https://localhost:8080/",
          "height": 143
        },
        "id": "uHAQSGb3DtoG",
        "outputId": "08e2d332-0ff4-4158-e027-949645f18d36"
      },
      "execution_count": null,
      "outputs": [
        {
          "output_type": "execute_result",
          "data": {
            "text/plain": [
              "        0   1\n",
              "0  dileep  21\n",
              "1   kumar  22\n",
              "2   reddy  23"
            ],
            "text/html": [
              "\n",
              "  <div id=\"df-8fb3b792-76c5-4103-9b0a-11d1cbb95d71\" class=\"colab-df-container\">\n",
              "    <div>\n",
              "<style scoped>\n",
              "    .dataframe tbody tr th:only-of-type {\n",
              "        vertical-align: middle;\n",
              "    }\n",
              "\n",
              "    .dataframe tbody tr th {\n",
              "        vertical-align: top;\n",
              "    }\n",
              "\n",
              "    .dataframe thead th {\n",
              "        text-align: right;\n",
              "    }\n",
              "</style>\n",
              "<table border=\"1\" class=\"dataframe\">\n",
              "  <thead>\n",
              "    <tr style=\"text-align: right;\">\n",
              "      <th></th>\n",
              "      <th>0</th>\n",
              "      <th>1</th>\n",
              "    </tr>\n",
              "  </thead>\n",
              "  <tbody>\n",
              "    <tr>\n",
              "      <th>0</th>\n",
              "      <td>dileep</td>\n",
              "      <td>21</td>\n",
              "    </tr>\n",
              "    <tr>\n",
              "      <th>1</th>\n",
              "      <td>kumar</td>\n",
              "      <td>22</td>\n",
              "    </tr>\n",
              "    <tr>\n",
              "      <th>2</th>\n",
              "      <td>reddy</td>\n",
              "      <td>23</td>\n",
              "    </tr>\n",
              "  </tbody>\n",
              "</table>\n",
              "</div>\n",
              "    <div class=\"colab-df-buttons\">\n",
              "\n",
              "  <div class=\"colab-df-container\">\n",
              "    <button class=\"colab-df-convert\" onclick=\"convertToInteractive('df-8fb3b792-76c5-4103-9b0a-11d1cbb95d71')\"\n",
              "            title=\"Convert this dataframe to an interactive table.\"\n",
              "            style=\"display:none;\">\n",
              "\n",
              "  <svg xmlns=\"http://www.w3.org/2000/svg\" height=\"24px\" viewBox=\"0 -960 960 960\">\n",
              "    <path d=\"M120-120v-720h720v720H120Zm60-500h600v-160H180v160Zm220 220h160v-160H400v160Zm0 220h160v-160H400v160ZM180-400h160v-160H180v160Zm440 0h160v-160H620v160ZM180-180h160v-160H180v160Zm440 0h160v-160H620v160Z\"/>\n",
              "  </svg>\n",
              "    </button>\n",
              "\n",
              "  <style>\n",
              "    .colab-df-container {\n",
              "      display:flex;\n",
              "      gap: 12px;\n",
              "    }\n",
              "\n",
              "    .colab-df-convert {\n",
              "      background-color: #E8F0FE;\n",
              "      border: none;\n",
              "      border-radius: 50%;\n",
              "      cursor: pointer;\n",
              "      display: none;\n",
              "      fill: #1967D2;\n",
              "      height: 32px;\n",
              "      padding: 0 0 0 0;\n",
              "      width: 32px;\n",
              "    }\n",
              "\n",
              "    .colab-df-convert:hover {\n",
              "      background-color: #E2EBFA;\n",
              "      box-shadow: 0px 1px 2px rgba(60, 64, 67, 0.3), 0px 1px 3px 1px rgba(60, 64, 67, 0.15);\n",
              "      fill: #174EA6;\n",
              "    }\n",
              "\n",
              "    .colab-df-buttons div {\n",
              "      margin-bottom: 4px;\n",
              "    }\n",
              "\n",
              "    [theme=dark] .colab-df-convert {\n",
              "      background-color: #3B4455;\n",
              "      fill: #D2E3FC;\n",
              "    }\n",
              "\n",
              "    [theme=dark] .colab-df-convert:hover {\n",
              "      background-color: #434B5C;\n",
              "      box-shadow: 0px 1px 3px 1px rgba(0, 0, 0, 0.15);\n",
              "      filter: drop-shadow(0px 1px 2px rgba(0, 0, 0, 0.3));\n",
              "      fill: #FFFFFF;\n",
              "    }\n",
              "  </style>\n",
              "\n",
              "    <script>\n",
              "      const buttonEl =\n",
              "        document.querySelector('#df-8fb3b792-76c5-4103-9b0a-11d1cbb95d71 button.colab-df-convert');\n",
              "      buttonEl.style.display =\n",
              "        google.colab.kernel.accessAllowed ? 'block' : 'none';\n",
              "\n",
              "      async function convertToInteractive(key) {\n",
              "        const element = document.querySelector('#df-8fb3b792-76c5-4103-9b0a-11d1cbb95d71');\n",
              "        const dataTable =\n",
              "          await google.colab.kernel.invokeFunction('convertToInteractive',\n",
              "                                                    [key], {});\n",
              "        if (!dataTable) return;\n",
              "\n",
              "        const docLinkHtml = 'Like what you see? Visit the ' +\n",
              "          '<a target=\"_blank\" href=https://colab.research.google.com/notebooks/data_table.ipynb>data table notebook</a>'\n",
              "          + ' to learn more about interactive tables.';\n",
              "        element.innerHTML = '';\n",
              "        dataTable['output_type'] = 'display_data';\n",
              "        await google.colab.output.renderOutput(dataTable, element);\n",
              "        const docLink = document.createElement('div');\n",
              "        docLink.innerHTML = docLinkHtml;\n",
              "        element.appendChild(docLink);\n",
              "      }\n",
              "    </script>\n",
              "  </div>\n",
              "\n",
              "\n",
              "<div id=\"df-713caeb6-a36b-447e-8c91-c48c1efdf86a\">\n",
              "  <button class=\"colab-df-quickchart\" onclick=\"quickchart('df-713caeb6-a36b-447e-8c91-c48c1efdf86a')\"\n",
              "            title=\"Suggest charts\"\n",
              "            style=\"display:none;\">\n",
              "\n",
              "<svg xmlns=\"http://www.w3.org/2000/svg\" height=\"24px\"viewBox=\"0 0 24 24\"\n",
              "     width=\"24px\">\n",
              "    <g>\n",
              "        <path d=\"M19 3H5c-1.1 0-2 .9-2 2v14c0 1.1.9 2 2 2h14c1.1 0 2-.9 2-2V5c0-1.1-.9-2-2-2zM9 17H7v-7h2v7zm4 0h-2V7h2v10zm4 0h-2v-4h2v4z\"/>\n",
              "    </g>\n",
              "</svg>\n",
              "  </button>\n",
              "\n",
              "<style>\n",
              "  .colab-df-quickchart {\n",
              "      --bg-color: #E8F0FE;\n",
              "      --fill-color: #1967D2;\n",
              "      --hover-bg-color: #E2EBFA;\n",
              "      --hover-fill-color: #174EA6;\n",
              "      --disabled-fill-color: #AAA;\n",
              "      --disabled-bg-color: #DDD;\n",
              "  }\n",
              "\n",
              "  [theme=dark] .colab-df-quickchart {\n",
              "      --bg-color: #3B4455;\n",
              "      --fill-color: #D2E3FC;\n",
              "      --hover-bg-color: #434B5C;\n",
              "      --hover-fill-color: #FFFFFF;\n",
              "      --disabled-bg-color: #3B4455;\n",
              "      --disabled-fill-color: #666;\n",
              "  }\n",
              "\n",
              "  .colab-df-quickchart {\n",
              "    background-color: var(--bg-color);\n",
              "    border: none;\n",
              "    border-radius: 50%;\n",
              "    cursor: pointer;\n",
              "    display: none;\n",
              "    fill: var(--fill-color);\n",
              "    height: 32px;\n",
              "    padding: 0;\n",
              "    width: 32px;\n",
              "  }\n",
              "\n",
              "  .colab-df-quickchart:hover {\n",
              "    background-color: var(--hover-bg-color);\n",
              "    box-shadow: 0 1px 2px rgba(60, 64, 67, 0.3), 0 1px 3px 1px rgba(60, 64, 67, 0.15);\n",
              "    fill: var(--button-hover-fill-color);\n",
              "  }\n",
              "\n",
              "  .colab-df-quickchart-complete:disabled,\n",
              "  .colab-df-quickchart-complete:disabled:hover {\n",
              "    background-color: var(--disabled-bg-color);\n",
              "    fill: var(--disabled-fill-color);\n",
              "    box-shadow: none;\n",
              "  }\n",
              "\n",
              "  .colab-df-spinner {\n",
              "    border: 2px solid var(--fill-color);\n",
              "    border-color: transparent;\n",
              "    border-bottom-color: var(--fill-color);\n",
              "    animation:\n",
              "      spin 1s steps(1) infinite;\n",
              "  }\n",
              "\n",
              "  @keyframes spin {\n",
              "    0% {\n",
              "      border-color: transparent;\n",
              "      border-bottom-color: var(--fill-color);\n",
              "      border-left-color: var(--fill-color);\n",
              "    }\n",
              "    20% {\n",
              "      border-color: transparent;\n",
              "      border-left-color: var(--fill-color);\n",
              "      border-top-color: var(--fill-color);\n",
              "    }\n",
              "    30% {\n",
              "      border-color: transparent;\n",
              "      border-left-color: var(--fill-color);\n",
              "      border-top-color: var(--fill-color);\n",
              "      border-right-color: var(--fill-color);\n",
              "    }\n",
              "    40% {\n",
              "      border-color: transparent;\n",
              "      border-right-color: var(--fill-color);\n",
              "      border-top-color: var(--fill-color);\n",
              "    }\n",
              "    60% {\n",
              "      border-color: transparent;\n",
              "      border-right-color: var(--fill-color);\n",
              "    }\n",
              "    80% {\n",
              "      border-color: transparent;\n",
              "      border-right-color: var(--fill-color);\n",
              "      border-bottom-color: var(--fill-color);\n",
              "    }\n",
              "    90% {\n",
              "      border-color: transparent;\n",
              "      border-bottom-color: var(--fill-color);\n",
              "    }\n",
              "  }\n",
              "</style>\n",
              "\n",
              "  <script>\n",
              "    async function quickchart(key) {\n",
              "      const quickchartButtonEl =\n",
              "        document.querySelector('#' + key + ' button');\n",
              "      quickchartButtonEl.disabled = true;  // To prevent multiple clicks.\n",
              "      quickchartButtonEl.classList.add('colab-df-spinner');\n",
              "      try {\n",
              "        const charts = await google.colab.kernel.invokeFunction(\n",
              "            'suggestCharts', [key], {});\n",
              "      } catch (error) {\n",
              "        console.error('Error during call to suggestCharts:', error);\n",
              "      }\n",
              "      quickchartButtonEl.classList.remove('colab-df-spinner');\n",
              "      quickchartButtonEl.classList.add('colab-df-quickchart-complete');\n",
              "    }\n",
              "    (() => {\n",
              "      let quickchartButtonEl =\n",
              "        document.querySelector('#df-713caeb6-a36b-447e-8c91-c48c1efdf86a button');\n",
              "      quickchartButtonEl.style.display =\n",
              "        google.colab.kernel.accessAllowed ? 'block' : 'none';\n",
              "    })();\n",
              "  </script>\n",
              "</div>\n",
              "    </div>\n",
              "  </div>\n"
            ]
          },
          "metadata": {},
          "execution_count": 20
        }
      ]
    },
    {
      "cell_type": "code",
      "source": [
        "df.head()\n",
        "df.tail()\n",
        "df.describe()\n",
        "df.shape\n",
        "df[0:4:1]\n",
        "df[1]\n",
        "for i in df.iterrows():\n",
        "  print(i)"
      ],
      "metadata": {
        "colab": {
          "base_uri": "https://localhost:8080/"
        },
        "id": "Mo7yBvOXDu24",
        "outputId": "25d0132e-2bfc-4b2e-8f64-03320d4cab78"
      },
      "execution_count": null,
      "outputs": [
        {
          "output_type": "stream",
          "name": "stdout",
          "text": [
            "(0, 0    dileep\n",
            "1        21\n",
            "Name: 0, dtype: object)\n",
            "(1, 0    kumar\n",
            "1       22\n",
            "Name: 1, dtype: object)\n",
            "(2, 0    reddy\n",
            "1       23\n",
            "Name: 2, dtype: object)\n"
          ]
        }
      ]
    },
    {
      "cell_type": "code",
      "source": [
        "df.loc[1] #last item included # acess columns by names only"
      ],
      "metadata": {
        "id": "ksB5hzFxEzOC",
        "colab": {
          "base_uri": "https://localhost:8080/"
        },
        "outputId": "acf82d9e-33ac-4a3a-f65b-4d8dd3a9aabf"
      },
      "execution_count": null,
      "outputs": [
        {
          "output_type": "execute_result",
          "data": {
            "text/plain": [
              "0    kumar\n",
              "1       22\n",
              "Name: 1, dtype: object"
            ]
          },
          "metadata": {},
          "execution_count": 13
        }
      ]
    },
    {
      "cell_type": "code",
      "source": [
        "df.loc[1,1]"
      ],
      "metadata": {
        "id": "LJVG0IXOFFWt",
        "colab": {
          "base_uri": "https://localhost:8080/"
        },
        "outputId": "8f4ae1e7-d2f0-4e6f-f4ec-0a5483a8f937"
      },
      "execution_count": null,
      "outputs": [
        {
          "output_type": "execute_result",
          "data": {
            "text/plain": [
              "22"
            ]
          },
          "metadata": {},
          "execution_count": 15
        }
      ]
    },
    {
      "cell_type": "code",
      "source": [
        "df.loc[0:4]"
      ],
      "metadata": {
        "colab": {
          "base_uri": "https://localhost:8080/",
          "height": 143
        },
        "id": "MzGtonJXHeuK",
        "outputId": "c9f07f92-6ab3-4184-ed61-68e641b493f5"
      },
      "execution_count": null,
      "outputs": [
        {
          "output_type": "execute_result",
          "data": {
            "text/plain": [
              "        0   1\n",
              "0  dileep  21\n",
              "1   kumar  22\n",
              "2   reddy  23"
            ],
            "text/html": [
              "\n",
              "  <div id=\"df-e8b5a490-537c-471b-8b7b-610962a5cf50\" class=\"colab-df-container\">\n",
              "    <div>\n",
              "<style scoped>\n",
              "    .dataframe tbody tr th:only-of-type {\n",
              "        vertical-align: middle;\n",
              "    }\n",
              "\n",
              "    .dataframe tbody tr th {\n",
              "        vertical-align: top;\n",
              "    }\n",
              "\n",
              "    .dataframe thead th {\n",
              "        text-align: right;\n",
              "    }\n",
              "</style>\n",
              "<table border=\"1\" class=\"dataframe\">\n",
              "  <thead>\n",
              "    <tr style=\"text-align: right;\">\n",
              "      <th></th>\n",
              "      <th>0</th>\n",
              "      <th>1</th>\n",
              "    </tr>\n",
              "  </thead>\n",
              "  <tbody>\n",
              "    <tr>\n",
              "      <th>0</th>\n",
              "      <td>dileep</td>\n",
              "      <td>21</td>\n",
              "    </tr>\n",
              "    <tr>\n",
              "      <th>1</th>\n",
              "      <td>kumar</td>\n",
              "      <td>22</td>\n",
              "    </tr>\n",
              "    <tr>\n",
              "      <th>2</th>\n",
              "      <td>reddy</td>\n",
              "      <td>23</td>\n",
              "    </tr>\n",
              "  </tbody>\n",
              "</table>\n",
              "</div>\n",
              "    <div class=\"colab-df-buttons\">\n",
              "\n",
              "  <div class=\"colab-df-container\">\n",
              "    <button class=\"colab-df-convert\" onclick=\"convertToInteractive('df-e8b5a490-537c-471b-8b7b-610962a5cf50')\"\n",
              "            title=\"Convert this dataframe to an interactive table.\"\n",
              "            style=\"display:none;\">\n",
              "\n",
              "  <svg xmlns=\"http://www.w3.org/2000/svg\" height=\"24px\" viewBox=\"0 -960 960 960\">\n",
              "    <path d=\"M120-120v-720h720v720H120Zm60-500h600v-160H180v160Zm220 220h160v-160H400v160Zm0 220h160v-160H400v160ZM180-400h160v-160H180v160Zm440 0h160v-160H620v160ZM180-180h160v-160H180v160Zm440 0h160v-160H620v160Z\"/>\n",
              "  </svg>\n",
              "    </button>\n",
              "\n",
              "  <style>\n",
              "    .colab-df-container {\n",
              "      display:flex;\n",
              "      gap: 12px;\n",
              "    }\n",
              "\n",
              "    .colab-df-convert {\n",
              "      background-color: #E8F0FE;\n",
              "      border: none;\n",
              "      border-radius: 50%;\n",
              "      cursor: pointer;\n",
              "      display: none;\n",
              "      fill: #1967D2;\n",
              "      height: 32px;\n",
              "      padding: 0 0 0 0;\n",
              "      width: 32px;\n",
              "    }\n",
              "\n",
              "    .colab-df-convert:hover {\n",
              "      background-color: #E2EBFA;\n",
              "      box-shadow: 0px 1px 2px rgba(60, 64, 67, 0.3), 0px 1px 3px 1px rgba(60, 64, 67, 0.15);\n",
              "      fill: #174EA6;\n",
              "    }\n",
              "\n",
              "    .colab-df-buttons div {\n",
              "      margin-bottom: 4px;\n",
              "    }\n",
              "\n",
              "    [theme=dark] .colab-df-convert {\n",
              "      background-color: #3B4455;\n",
              "      fill: #D2E3FC;\n",
              "    }\n",
              "\n",
              "    [theme=dark] .colab-df-convert:hover {\n",
              "      background-color: #434B5C;\n",
              "      box-shadow: 0px 1px 3px 1px rgba(0, 0, 0, 0.15);\n",
              "      filter: drop-shadow(0px 1px 2px rgba(0, 0, 0, 0.3));\n",
              "      fill: #FFFFFF;\n",
              "    }\n",
              "  </style>\n",
              "\n",
              "    <script>\n",
              "      const buttonEl =\n",
              "        document.querySelector('#df-e8b5a490-537c-471b-8b7b-610962a5cf50 button.colab-df-convert');\n",
              "      buttonEl.style.display =\n",
              "        google.colab.kernel.accessAllowed ? 'block' : 'none';\n",
              "\n",
              "      async function convertToInteractive(key) {\n",
              "        const element = document.querySelector('#df-e8b5a490-537c-471b-8b7b-610962a5cf50');\n",
              "        const dataTable =\n",
              "          await google.colab.kernel.invokeFunction('convertToInteractive',\n",
              "                                                    [key], {});\n",
              "        if (!dataTable) return;\n",
              "\n",
              "        const docLinkHtml = 'Like what you see? Visit the ' +\n",
              "          '<a target=\"_blank\" href=https://colab.research.google.com/notebooks/data_table.ipynb>data table notebook</a>'\n",
              "          + ' to learn more about interactive tables.';\n",
              "        element.innerHTML = '';\n",
              "        dataTable['output_type'] = 'display_data';\n",
              "        await google.colab.output.renderOutput(dataTable, element);\n",
              "        const docLink = document.createElement('div');\n",
              "        docLink.innerHTML = docLinkHtml;\n",
              "        element.appendChild(docLink);\n",
              "      }\n",
              "    </script>\n",
              "  </div>\n",
              "\n",
              "\n",
              "<div id=\"df-7b6f9847-e704-4127-888e-feee45d35c11\">\n",
              "  <button class=\"colab-df-quickchart\" onclick=\"quickchart('df-7b6f9847-e704-4127-888e-feee45d35c11')\"\n",
              "            title=\"Suggest charts\"\n",
              "            style=\"display:none;\">\n",
              "\n",
              "<svg xmlns=\"http://www.w3.org/2000/svg\" height=\"24px\"viewBox=\"0 0 24 24\"\n",
              "     width=\"24px\">\n",
              "    <g>\n",
              "        <path d=\"M19 3H5c-1.1 0-2 .9-2 2v14c0 1.1.9 2 2 2h14c1.1 0 2-.9 2-2V5c0-1.1-.9-2-2-2zM9 17H7v-7h2v7zm4 0h-2V7h2v10zm4 0h-2v-4h2v4z\"/>\n",
              "    </g>\n",
              "</svg>\n",
              "  </button>\n",
              "\n",
              "<style>\n",
              "  .colab-df-quickchart {\n",
              "      --bg-color: #E8F0FE;\n",
              "      --fill-color: #1967D2;\n",
              "      --hover-bg-color: #E2EBFA;\n",
              "      --hover-fill-color: #174EA6;\n",
              "      --disabled-fill-color: #AAA;\n",
              "      --disabled-bg-color: #DDD;\n",
              "  }\n",
              "\n",
              "  [theme=dark] .colab-df-quickchart {\n",
              "      --bg-color: #3B4455;\n",
              "      --fill-color: #D2E3FC;\n",
              "      --hover-bg-color: #434B5C;\n",
              "      --hover-fill-color: #FFFFFF;\n",
              "      --disabled-bg-color: #3B4455;\n",
              "      --disabled-fill-color: #666;\n",
              "  }\n",
              "\n",
              "  .colab-df-quickchart {\n",
              "    background-color: var(--bg-color);\n",
              "    border: none;\n",
              "    border-radius: 50%;\n",
              "    cursor: pointer;\n",
              "    display: none;\n",
              "    fill: var(--fill-color);\n",
              "    height: 32px;\n",
              "    padding: 0;\n",
              "    width: 32px;\n",
              "  }\n",
              "\n",
              "  .colab-df-quickchart:hover {\n",
              "    background-color: var(--hover-bg-color);\n",
              "    box-shadow: 0 1px 2px rgba(60, 64, 67, 0.3), 0 1px 3px 1px rgba(60, 64, 67, 0.15);\n",
              "    fill: var(--button-hover-fill-color);\n",
              "  }\n",
              "\n",
              "  .colab-df-quickchart-complete:disabled,\n",
              "  .colab-df-quickchart-complete:disabled:hover {\n",
              "    background-color: var(--disabled-bg-color);\n",
              "    fill: var(--disabled-fill-color);\n",
              "    box-shadow: none;\n",
              "  }\n",
              "\n",
              "  .colab-df-spinner {\n",
              "    border: 2px solid var(--fill-color);\n",
              "    border-color: transparent;\n",
              "    border-bottom-color: var(--fill-color);\n",
              "    animation:\n",
              "      spin 1s steps(1) infinite;\n",
              "  }\n",
              "\n",
              "  @keyframes spin {\n",
              "    0% {\n",
              "      border-color: transparent;\n",
              "      border-bottom-color: var(--fill-color);\n",
              "      border-left-color: var(--fill-color);\n",
              "    }\n",
              "    20% {\n",
              "      border-color: transparent;\n",
              "      border-left-color: var(--fill-color);\n",
              "      border-top-color: var(--fill-color);\n",
              "    }\n",
              "    30% {\n",
              "      border-color: transparent;\n",
              "      border-left-color: var(--fill-color);\n",
              "      border-top-color: var(--fill-color);\n",
              "      border-right-color: var(--fill-color);\n",
              "    }\n",
              "    40% {\n",
              "      border-color: transparent;\n",
              "      border-right-color: var(--fill-color);\n",
              "      border-top-color: var(--fill-color);\n",
              "    }\n",
              "    60% {\n",
              "      border-color: transparent;\n",
              "      border-right-color: var(--fill-color);\n",
              "    }\n",
              "    80% {\n",
              "      border-color: transparent;\n",
              "      border-right-color: var(--fill-color);\n",
              "      border-bottom-color: var(--fill-color);\n",
              "    }\n",
              "    90% {\n",
              "      border-color: transparent;\n",
              "      border-bottom-color: var(--fill-color);\n",
              "    }\n",
              "  }\n",
              "</style>\n",
              "\n",
              "  <script>\n",
              "    async function quickchart(key) {\n",
              "      const quickchartButtonEl =\n",
              "        document.querySelector('#' + key + ' button');\n",
              "      quickchartButtonEl.disabled = true;  // To prevent multiple clicks.\n",
              "      quickchartButtonEl.classList.add('colab-df-spinner');\n",
              "      try {\n",
              "        const charts = await google.colab.kernel.invokeFunction(\n",
              "            'suggestCharts', [key], {});\n",
              "      } catch (error) {\n",
              "        console.error('Error during call to suggestCharts:', error);\n",
              "      }\n",
              "      quickchartButtonEl.classList.remove('colab-df-spinner');\n",
              "      quickchartButtonEl.classList.add('colab-df-quickchart-complete');\n",
              "    }\n",
              "    (() => {\n",
              "      let quickchartButtonEl =\n",
              "        document.querySelector('#df-7b6f9847-e704-4127-888e-feee45d35c11 button');\n",
              "      quickchartButtonEl.style.display =\n",
              "        google.colab.kernel.accessAllowed ? 'block' : 'none';\n",
              "    })();\n",
              "  </script>\n",
              "</div>\n",
              "    </div>\n",
              "  </div>\n"
            ]
          },
          "metadata": {},
          "execution_count": 21
        }
      ]
    },
    {
      "cell_type": "code",
      "source": [
        "df.iloc[0:5] #last item excluded # access rows and columns by values"
      ],
      "metadata": {
        "colab": {
          "base_uri": "https://localhost:8080/",
          "height": 143
        },
        "id": "0inTigj7IwRR",
        "outputId": "f74bc118-4d00-4430-9959-11a995bd4462"
      },
      "execution_count": null,
      "outputs": [
        {
          "output_type": "execute_result",
          "data": {
            "text/plain": [
              "        0   1\n",
              "0  dileep  21\n",
              "1   kumar  22\n",
              "2   reddy  23"
            ],
            "text/html": [
              "\n",
              "  <div id=\"df-c74a618e-ce9c-4d4e-9552-0a4afe9ba577\" class=\"colab-df-container\">\n",
              "    <div>\n",
              "<style scoped>\n",
              "    .dataframe tbody tr th:only-of-type {\n",
              "        vertical-align: middle;\n",
              "    }\n",
              "\n",
              "    .dataframe tbody tr th {\n",
              "        vertical-align: top;\n",
              "    }\n",
              "\n",
              "    .dataframe thead th {\n",
              "        text-align: right;\n",
              "    }\n",
              "</style>\n",
              "<table border=\"1\" class=\"dataframe\">\n",
              "  <thead>\n",
              "    <tr style=\"text-align: right;\">\n",
              "      <th></th>\n",
              "      <th>0</th>\n",
              "      <th>1</th>\n",
              "    </tr>\n",
              "  </thead>\n",
              "  <tbody>\n",
              "    <tr>\n",
              "      <th>0</th>\n",
              "      <td>dileep</td>\n",
              "      <td>21</td>\n",
              "    </tr>\n",
              "    <tr>\n",
              "      <th>1</th>\n",
              "      <td>kumar</td>\n",
              "      <td>22</td>\n",
              "    </tr>\n",
              "    <tr>\n",
              "      <th>2</th>\n",
              "      <td>reddy</td>\n",
              "      <td>23</td>\n",
              "    </tr>\n",
              "  </tbody>\n",
              "</table>\n",
              "</div>\n",
              "    <div class=\"colab-df-buttons\">\n",
              "\n",
              "  <div class=\"colab-df-container\">\n",
              "    <button class=\"colab-df-convert\" onclick=\"convertToInteractive('df-c74a618e-ce9c-4d4e-9552-0a4afe9ba577')\"\n",
              "            title=\"Convert this dataframe to an interactive table.\"\n",
              "            style=\"display:none;\">\n",
              "\n",
              "  <svg xmlns=\"http://www.w3.org/2000/svg\" height=\"24px\" viewBox=\"0 -960 960 960\">\n",
              "    <path d=\"M120-120v-720h720v720H120Zm60-500h600v-160H180v160Zm220 220h160v-160H400v160Zm0 220h160v-160H400v160ZM180-400h160v-160H180v160Zm440 0h160v-160H620v160ZM180-180h160v-160H180v160Zm440 0h160v-160H620v160Z\"/>\n",
              "  </svg>\n",
              "    </button>\n",
              "\n",
              "  <style>\n",
              "    .colab-df-container {\n",
              "      display:flex;\n",
              "      gap: 12px;\n",
              "    }\n",
              "\n",
              "    .colab-df-convert {\n",
              "      background-color: #E8F0FE;\n",
              "      border: none;\n",
              "      border-radius: 50%;\n",
              "      cursor: pointer;\n",
              "      display: none;\n",
              "      fill: #1967D2;\n",
              "      height: 32px;\n",
              "      padding: 0 0 0 0;\n",
              "      width: 32px;\n",
              "    }\n",
              "\n",
              "    .colab-df-convert:hover {\n",
              "      background-color: #E2EBFA;\n",
              "      box-shadow: 0px 1px 2px rgba(60, 64, 67, 0.3), 0px 1px 3px 1px rgba(60, 64, 67, 0.15);\n",
              "      fill: #174EA6;\n",
              "    }\n",
              "\n",
              "    .colab-df-buttons div {\n",
              "      margin-bottom: 4px;\n",
              "    }\n",
              "\n",
              "    [theme=dark] .colab-df-convert {\n",
              "      background-color: #3B4455;\n",
              "      fill: #D2E3FC;\n",
              "    }\n",
              "\n",
              "    [theme=dark] .colab-df-convert:hover {\n",
              "      background-color: #434B5C;\n",
              "      box-shadow: 0px 1px 3px 1px rgba(0, 0, 0, 0.15);\n",
              "      filter: drop-shadow(0px 1px 2px rgba(0, 0, 0, 0.3));\n",
              "      fill: #FFFFFF;\n",
              "    }\n",
              "  </style>\n",
              "\n",
              "    <script>\n",
              "      const buttonEl =\n",
              "        document.querySelector('#df-c74a618e-ce9c-4d4e-9552-0a4afe9ba577 button.colab-df-convert');\n",
              "      buttonEl.style.display =\n",
              "        google.colab.kernel.accessAllowed ? 'block' : 'none';\n",
              "\n",
              "      async function convertToInteractive(key) {\n",
              "        const element = document.querySelector('#df-c74a618e-ce9c-4d4e-9552-0a4afe9ba577');\n",
              "        const dataTable =\n",
              "          await google.colab.kernel.invokeFunction('convertToInteractive',\n",
              "                                                    [key], {});\n",
              "        if (!dataTable) return;\n",
              "\n",
              "        const docLinkHtml = 'Like what you see? Visit the ' +\n",
              "          '<a target=\"_blank\" href=https://colab.research.google.com/notebooks/data_table.ipynb>data table notebook</a>'\n",
              "          + ' to learn more about interactive tables.';\n",
              "        element.innerHTML = '';\n",
              "        dataTable['output_type'] = 'display_data';\n",
              "        await google.colab.output.renderOutput(dataTable, element);\n",
              "        const docLink = document.createElement('div');\n",
              "        docLink.innerHTML = docLinkHtml;\n",
              "        element.appendChild(docLink);\n",
              "      }\n",
              "    </script>\n",
              "  </div>\n",
              "\n",
              "\n",
              "<div id=\"df-f6de18bd-959d-4db0-bb4b-246f9e05511a\">\n",
              "  <button class=\"colab-df-quickchart\" onclick=\"quickchart('df-f6de18bd-959d-4db0-bb4b-246f9e05511a')\"\n",
              "            title=\"Suggest charts\"\n",
              "            style=\"display:none;\">\n",
              "\n",
              "<svg xmlns=\"http://www.w3.org/2000/svg\" height=\"24px\"viewBox=\"0 0 24 24\"\n",
              "     width=\"24px\">\n",
              "    <g>\n",
              "        <path d=\"M19 3H5c-1.1 0-2 .9-2 2v14c0 1.1.9 2 2 2h14c1.1 0 2-.9 2-2V5c0-1.1-.9-2-2-2zM9 17H7v-7h2v7zm4 0h-2V7h2v10zm4 0h-2v-4h2v4z\"/>\n",
              "    </g>\n",
              "</svg>\n",
              "  </button>\n",
              "\n",
              "<style>\n",
              "  .colab-df-quickchart {\n",
              "      --bg-color: #E8F0FE;\n",
              "      --fill-color: #1967D2;\n",
              "      --hover-bg-color: #E2EBFA;\n",
              "      --hover-fill-color: #174EA6;\n",
              "      --disabled-fill-color: #AAA;\n",
              "      --disabled-bg-color: #DDD;\n",
              "  }\n",
              "\n",
              "  [theme=dark] .colab-df-quickchart {\n",
              "      --bg-color: #3B4455;\n",
              "      --fill-color: #D2E3FC;\n",
              "      --hover-bg-color: #434B5C;\n",
              "      --hover-fill-color: #FFFFFF;\n",
              "      --disabled-bg-color: #3B4455;\n",
              "      --disabled-fill-color: #666;\n",
              "  }\n",
              "\n",
              "  .colab-df-quickchart {\n",
              "    background-color: var(--bg-color);\n",
              "    border: none;\n",
              "    border-radius: 50%;\n",
              "    cursor: pointer;\n",
              "    display: none;\n",
              "    fill: var(--fill-color);\n",
              "    height: 32px;\n",
              "    padding: 0;\n",
              "    width: 32px;\n",
              "  }\n",
              "\n",
              "  .colab-df-quickchart:hover {\n",
              "    background-color: var(--hover-bg-color);\n",
              "    box-shadow: 0 1px 2px rgba(60, 64, 67, 0.3), 0 1px 3px 1px rgba(60, 64, 67, 0.15);\n",
              "    fill: var(--button-hover-fill-color);\n",
              "  }\n",
              "\n",
              "  .colab-df-quickchart-complete:disabled,\n",
              "  .colab-df-quickchart-complete:disabled:hover {\n",
              "    background-color: var(--disabled-bg-color);\n",
              "    fill: var(--disabled-fill-color);\n",
              "    box-shadow: none;\n",
              "  }\n",
              "\n",
              "  .colab-df-spinner {\n",
              "    border: 2px solid var(--fill-color);\n",
              "    border-color: transparent;\n",
              "    border-bottom-color: var(--fill-color);\n",
              "    animation:\n",
              "      spin 1s steps(1) infinite;\n",
              "  }\n",
              "\n",
              "  @keyframes spin {\n",
              "    0% {\n",
              "      border-color: transparent;\n",
              "      border-bottom-color: var(--fill-color);\n",
              "      border-left-color: var(--fill-color);\n",
              "    }\n",
              "    20% {\n",
              "      border-color: transparent;\n",
              "      border-left-color: var(--fill-color);\n",
              "      border-top-color: var(--fill-color);\n",
              "    }\n",
              "    30% {\n",
              "      border-color: transparent;\n",
              "      border-left-color: var(--fill-color);\n",
              "      border-top-color: var(--fill-color);\n",
              "      border-right-color: var(--fill-color);\n",
              "    }\n",
              "    40% {\n",
              "      border-color: transparent;\n",
              "      border-right-color: var(--fill-color);\n",
              "      border-top-color: var(--fill-color);\n",
              "    }\n",
              "    60% {\n",
              "      border-color: transparent;\n",
              "      border-right-color: var(--fill-color);\n",
              "    }\n",
              "    80% {\n",
              "      border-color: transparent;\n",
              "      border-right-color: var(--fill-color);\n",
              "      border-bottom-color: var(--fill-color);\n",
              "    }\n",
              "    90% {\n",
              "      border-color: transparent;\n",
              "      border-bottom-color: var(--fill-color);\n",
              "    }\n",
              "  }\n",
              "</style>\n",
              "\n",
              "  <script>\n",
              "    async function quickchart(key) {\n",
              "      const quickchartButtonEl =\n",
              "        document.querySelector('#' + key + ' button');\n",
              "      quickchartButtonEl.disabled = true;  // To prevent multiple clicks.\n",
              "      quickchartButtonEl.classList.add('colab-df-spinner');\n",
              "      try {\n",
              "        const charts = await google.colab.kernel.invokeFunction(\n",
              "            'suggestCharts', [key], {});\n",
              "      } catch (error) {\n",
              "        console.error('Error during call to suggestCharts:', error);\n",
              "      }\n",
              "      quickchartButtonEl.classList.remove('colab-df-spinner');\n",
              "      quickchartButtonEl.classList.add('colab-df-quickchart-complete');\n",
              "    }\n",
              "    (() => {\n",
              "      let quickchartButtonEl =\n",
              "        document.querySelector('#df-f6de18bd-959d-4db0-bb4b-246f9e05511a button');\n",
              "      quickchartButtonEl.style.display =\n",
              "        google.colab.kernel.accessAllowed ? 'block' : 'none';\n",
              "    })();\n",
              "  </script>\n",
              "</div>\n",
              "    </div>\n",
              "  </div>\n"
            ]
          },
          "metadata": {},
          "execution_count": 25
        }
      ]
    },
    {
      "cell_type": "code",
      "source": [
        "df.sort_values(1,ascending=False)"
      ],
      "metadata": {
        "colab": {
          "base_uri": "https://localhost:8080/",
          "height": 143
        },
        "id": "J34arPxsI0Wn",
        "outputId": "ddced5bf-bd0b-4d10-c20d-41bdc1b89f88"
      },
      "execution_count": null,
      "outputs": [
        {
          "output_type": "execute_result",
          "data": {
            "text/plain": [
              "        0   1\n",
              "2   reddy  23\n",
              "1   kumar  22\n",
              "0  dileep  21"
            ],
            "text/html": [
              "\n",
              "  <div id=\"df-1970fcc8-a33e-4dc9-9897-431b138fb15d\" class=\"colab-df-container\">\n",
              "    <div>\n",
              "<style scoped>\n",
              "    .dataframe tbody tr th:only-of-type {\n",
              "        vertical-align: middle;\n",
              "    }\n",
              "\n",
              "    .dataframe tbody tr th {\n",
              "        vertical-align: top;\n",
              "    }\n",
              "\n",
              "    .dataframe thead th {\n",
              "        text-align: right;\n",
              "    }\n",
              "</style>\n",
              "<table border=\"1\" class=\"dataframe\">\n",
              "  <thead>\n",
              "    <tr style=\"text-align: right;\">\n",
              "      <th></th>\n",
              "      <th>0</th>\n",
              "      <th>1</th>\n",
              "    </tr>\n",
              "  </thead>\n",
              "  <tbody>\n",
              "    <tr>\n",
              "      <th>2</th>\n",
              "      <td>reddy</td>\n",
              "      <td>23</td>\n",
              "    </tr>\n",
              "    <tr>\n",
              "      <th>1</th>\n",
              "      <td>kumar</td>\n",
              "      <td>22</td>\n",
              "    </tr>\n",
              "    <tr>\n",
              "      <th>0</th>\n",
              "      <td>dileep</td>\n",
              "      <td>21</td>\n",
              "    </tr>\n",
              "  </tbody>\n",
              "</table>\n",
              "</div>\n",
              "    <div class=\"colab-df-buttons\">\n",
              "\n",
              "  <div class=\"colab-df-container\">\n",
              "    <button class=\"colab-df-convert\" onclick=\"convertToInteractive('df-1970fcc8-a33e-4dc9-9897-431b138fb15d')\"\n",
              "            title=\"Convert this dataframe to an interactive table.\"\n",
              "            style=\"display:none;\">\n",
              "\n",
              "  <svg xmlns=\"http://www.w3.org/2000/svg\" height=\"24px\" viewBox=\"0 -960 960 960\">\n",
              "    <path d=\"M120-120v-720h720v720H120Zm60-500h600v-160H180v160Zm220 220h160v-160H400v160Zm0 220h160v-160H400v160ZM180-400h160v-160H180v160Zm440 0h160v-160H620v160ZM180-180h160v-160H180v160Zm440 0h160v-160H620v160Z\"/>\n",
              "  </svg>\n",
              "    </button>\n",
              "\n",
              "  <style>\n",
              "    .colab-df-container {\n",
              "      display:flex;\n",
              "      gap: 12px;\n",
              "    }\n",
              "\n",
              "    .colab-df-convert {\n",
              "      background-color: #E8F0FE;\n",
              "      border: none;\n",
              "      border-radius: 50%;\n",
              "      cursor: pointer;\n",
              "      display: none;\n",
              "      fill: #1967D2;\n",
              "      height: 32px;\n",
              "      padding: 0 0 0 0;\n",
              "      width: 32px;\n",
              "    }\n",
              "\n",
              "    .colab-df-convert:hover {\n",
              "      background-color: #E2EBFA;\n",
              "      box-shadow: 0px 1px 2px rgba(60, 64, 67, 0.3), 0px 1px 3px 1px rgba(60, 64, 67, 0.15);\n",
              "      fill: #174EA6;\n",
              "    }\n",
              "\n",
              "    .colab-df-buttons div {\n",
              "      margin-bottom: 4px;\n",
              "    }\n",
              "\n",
              "    [theme=dark] .colab-df-convert {\n",
              "      background-color: #3B4455;\n",
              "      fill: #D2E3FC;\n",
              "    }\n",
              "\n",
              "    [theme=dark] .colab-df-convert:hover {\n",
              "      background-color: #434B5C;\n",
              "      box-shadow: 0px 1px 3px 1px rgba(0, 0, 0, 0.15);\n",
              "      filter: drop-shadow(0px 1px 2px rgba(0, 0, 0, 0.3));\n",
              "      fill: #FFFFFF;\n",
              "    }\n",
              "  </style>\n",
              "\n",
              "    <script>\n",
              "      const buttonEl =\n",
              "        document.querySelector('#df-1970fcc8-a33e-4dc9-9897-431b138fb15d button.colab-df-convert');\n",
              "      buttonEl.style.display =\n",
              "        google.colab.kernel.accessAllowed ? 'block' : 'none';\n",
              "\n",
              "      async function convertToInteractive(key) {\n",
              "        const element = document.querySelector('#df-1970fcc8-a33e-4dc9-9897-431b138fb15d');\n",
              "        const dataTable =\n",
              "          await google.colab.kernel.invokeFunction('convertToInteractive',\n",
              "                                                    [key], {});\n",
              "        if (!dataTable) return;\n",
              "\n",
              "        const docLinkHtml = 'Like what you see? Visit the ' +\n",
              "          '<a target=\"_blank\" href=https://colab.research.google.com/notebooks/data_table.ipynb>data table notebook</a>'\n",
              "          + ' to learn more about interactive tables.';\n",
              "        element.innerHTML = '';\n",
              "        dataTable['output_type'] = 'display_data';\n",
              "        await google.colab.output.renderOutput(dataTable, element);\n",
              "        const docLink = document.createElement('div');\n",
              "        docLink.innerHTML = docLinkHtml;\n",
              "        element.appendChild(docLink);\n",
              "      }\n",
              "    </script>\n",
              "  </div>\n",
              "\n",
              "\n",
              "<div id=\"df-6e675d87-a1ef-4b23-9857-05fb7f47fa31\">\n",
              "  <button class=\"colab-df-quickchart\" onclick=\"quickchart('df-6e675d87-a1ef-4b23-9857-05fb7f47fa31')\"\n",
              "            title=\"Suggest charts\"\n",
              "            style=\"display:none;\">\n",
              "\n",
              "<svg xmlns=\"http://www.w3.org/2000/svg\" height=\"24px\"viewBox=\"0 0 24 24\"\n",
              "     width=\"24px\">\n",
              "    <g>\n",
              "        <path d=\"M19 3H5c-1.1 0-2 .9-2 2v14c0 1.1.9 2 2 2h14c1.1 0 2-.9 2-2V5c0-1.1-.9-2-2-2zM9 17H7v-7h2v7zm4 0h-2V7h2v10zm4 0h-2v-4h2v4z\"/>\n",
              "    </g>\n",
              "</svg>\n",
              "  </button>\n",
              "\n",
              "<style>\n",
              "  .colab-df-quickchart {\n",
              "      --bg-color: #E8F0FE;\n",
              "      --fill-color: #1967D2;\n",
              "      --hover-bg-color: #E2EBFA;\n",
              "      --hover-fill-color: #174EA6;\n",
              "      --disabled-fill-color: #AAA;\n",
              "      --disabled-bg-color: #DDD;\n",
              "  }\n",
              "\n",
              "  [theme=dark] .colab-df-quickchart {\n",
              "      --bg-color: #3B4455;\n",
              "      --fill-color: #D2E3FC;\n",
              "      --hover-bg-color: #434B5C;\n",
              "      --hover-fill-color: #FFFFFF;\n",
              "      --disabled-bg-color: #3B4455;\n",
              "      --disabled-fill-color: #666;\n",
              "  }\n",
              "\n",
              "  .colab-df-quickchart {\n",
              "    background-color: var(--bg-color);\n",
              "    border: none;\n",
              "    border-radius: 50%;\n",
              "    cursor: pointer;\n",
              "    display: none;\n",
              "    fill: var(--fill-color);\n",
              "    height: 32px;\n",
              "    padding: 0;\n",
              "    width: 32px;\n",
              "  }\n",
              "\n",
              "  .colab-df-quickchart:hover {\n",
              "    background-color: var(--hover-bg-color);\n",
              "    box-shadow: 0 1px 2px rgba(60, 64, 67, 0.3), 0 1px 3px 1px rgba(60, 64, 67, 0.15);\n",
              "    fill: var(--button-hover-fill-color);\n",
              "  }\n",
              "\n",
              "  .colab-df-quickchart-complete:disabled,\n",
              "  .colab-df-quickchart-complete:disabled:hover {\n",
              "    background-color: var(--disabled-bg-color);\n",
              "    fill: var(--disabled-fill-color);\n",
              "    box-shadow: none;\n",
              "  }\n",
              "\n",
              "  .colab-df-spinner {\n",
              "    border: 2px solid var(--fill-color);\n",
              "    border-color: transparent;\n",
              "    border-bottom-color: var(--fill-color);\n",
              "    animation:\n",
              "      spin 1s steps(1) infinite;\n",
              "  }\n",
              "\n",
              "  @keyframes spin {\n",
              "    0% {\n",
              "      border-color: transparent;\n",
              "      border-bottom-color: var(--fill-color);\n",
              "      border-left-color: var(--fill-color);\n",
              "    }\n",
              "    20% {\n",
              "      border-color: transparent;\n",
              "      border-left-color: var(--fill-color);\n",
              "      border-top-color: var(--fill-color);\n",
              "    }\n",
              "    30% {\n",
              "      border-color: transparent;\n",
              "      border-left-color: var(--fill-color);\n",
              "      border-top-color: var(--fill-color);\n",
              "      border-right-color: var(--fill-color);\n",
              "    }\n",
              "    40% {\n",
              "      border-color: transparent;\n",
              "      border-right-color: var(--fill-color);\n",
              "      border-top-color: var(--fill-color);\n",
              "    }\n",
              "    60% {\n",
              "      border-color: transparent;\n",
              "      border-right-color: var(--fill-color);\n",
              "    }\n",
              "    80% {\n",
              "      border-color: transparent;\n",
              "      border-right-color: var(--fill-color);\n",
              "      border-bottom-color: var(--fill-color);\n",
              "    }\n",
              "    90% {\n",
              "      border-color: transparent;\n",
              "      border-bottom-color: var(--fill-color);\n",
              "    }\n",
              "  }\n",
              "</style>\n",
              "\n",
              "  <script>\n",
              "    async function quickchart(key) {\n",
              "      const quickchartButtonEl =\n",
              "        document.querySelector('#' + key + ' button');\n",
              "      quickchartButtonEl.disabled = true;  // To prevent multiple clicks.\n",
              "      quickchartButtonEl.classList.add('colab-df-spinner');\n",
              "      try {\n",
              "        const charts = await google.colab.kernel.invokeFunction(\n",
              "            'suggestCharts', [key], {});\n",
              "      } catch (error) {\n",
              "        console.error('Error during call to suggestCharts:', error);\n",
              "      }\n",
              "      quickchartButtonEl.classList.remove('colab-df-spinner');\n",
              "      quickchartButtonEl.classList.add('colab-df-quickchart-complete');\n",
              "    }\n",
              "    (() => {\n",
              "      let quickchartButtonEl =\n",
              "        document.querySelector('#df-6e675d87-a1ef-4b23-9857-05fb7f47fa31 button');\n",
              "      quickchartButtonEl.style.display =\n",
              "        google.colab.kernel.accessAllowed ? 'block' : 'none';\n",
              "    })();\n",
              "  </script>\n",
              "</div>\n",
              "    </div>\n",
              "  </div>\n"
            ]
          },
          "metadata": {},
          "execution_count": 26
        }
      ]
    },
    {
      "cell_type": "code",
      "source": [
        "df[\"weight\"]=69,74,80"
      ],
      "metadata": {
        "id": "iPHkNFQGKNV5"
      },
      "execution_count": null,
      "outputs": []
    },
    {
      "cell_type": "code",
      "source": [
        "df"
      ],
      "metadata": {
        "colab": {
          "base_uri": "https://localhost:8080/",
          "height": 143
        },
        "id": "w_nmiXx_LGmS",
        "outputId": "87df6eb1-3168-4744-df42-70e272ace1f8"
      },
      "execution_count": null,
      "outputs": [
        {
          "output_type": "execute_result",
          "data": {
            "text/plain": [
              "        0   1  weight\n",
              "0  dileep  21      69\n",
              "1   kumar  22      74\n",
              "2   reddy  23      80"
            ],
            "text/html": [
              "\n",
              "  <div id=\"df-ba33d5d0-afec-44d5-b61d-6f2e7457740d\" class=\"colab-df-container\">\n",
              "    <div>\n",
              "<style scoped>\n",
              "    .dataframe tbody tr th:only-of-type {\n",
              "        vertical-align: middle;\n",
              "    }\n",
              "\n",
              "    .dataframe tbody tr th {\n",
              "        vertical-align: top;\n",
              "    }\n",
              "\n",
              "    .dataframe thead th {\n",
              "        text-align: right;\n",
              "    }\n",
              "</style>\n",
              "<table border=\"1\" class=\"dataframe\">\n",
              "  <thead>\n",
              "    <tr style=\"text-align: right;\">\n",
              "      <th></th>\n",
              "      <th>0</th>\n",
              "      <th>1</th>\n",
              "      <th>weight</th>\n",
              "    </tr>\n",
              "  </thead>\n",
              "  <tbody>\n",
              "    <tr>\n",
              "      <th>0</th>\n",
              "      <td>dileep</td>\n",
              "      <td>21</td>\n",
              "      <td>69</td>\n",
              "    </tr>\n",
              "    <tr>\n",
              "      <th>1</th>\n",
              "      <td>kumar</td>\n",
              "      <td>22</td>\n",
              "      <td>74</td>\n",
              "    </tr>\n",
              "    <tr>\n",
              "      <th>2</th>\n",
              "      <td>reddy</td>\n",
              "      <td>23</td>\n",
              "      <td>80</td>\n",
              "    </tr>\n",
              "  </tbody>\n",
              "</table>\n",
              "</div>\n",
              "    <div class=\"colab-df-buttons\">\n",
              "\n",
              "  <div class=\"colab-df-container\">\n",
              "    <button class=\"colab-df-convert\" onclick=\"convertToInteractive('df-ba33d5d0-afec-44d5-b61d-6f2e7457740d')\"\n",
              "            title=\"Convert this dataframe to an interactive table.\"\n",
              "            style=\"display:none;\">\n",
              "\n",
              "  <svg xmlns=\"http://www.w3.org/2000/svg\" height=\"24px\" viewBox=\"0 -960 960 960\">\n",
              "    <path d=\"M120-120v-720h720v720H120Zm60-500h600v-160H180v160Zm220 220h160v-160H400v160Zm0 220h160v-160H400v160ZM180-400h160v-160H180v160Zm440 0h160v-160H620v160ZM180-180h160v-160H180v160Zm440 0h160v-160H620v160Z\"/>\n",
              "  </svg>\n",
              "    </button>\n",
              "\n",
              "  <style>\n",
              "    .colab-df-container {\n",
              "      display:flex;\n",
              "      gap: 12px;\n",
              "    }\n",
              "\n",
              "    .colab-df-convert {\n",
              "      background-color: #E8F0FE;\n",
              "      border: none;\n",
              "      border-radius: 50%;\n",
              "      cursor: pointer;\n",
              "      display: none;\n",
              "      fill: #1967D2;\n",
              "      height: 32px;\n",
              "      padding: 0 0 0 0;\n",
              "      width: 32px;\n",
              "    }\n",
              "\n",
              "    .colab-df-convert:hover {\n",
              "      background-color: #E2EBFA;\n",
              "      box-shadow: 0px 1px 2px rgba(60, 64, 67, 0.3), 0px 1px 3px 1px rgba(60, 64, 67, 0.15);\n",
              "      fill: #174EA6;\n",
              "    }\n",
              "\n",
              "    .colab-df-buttons div {\n",
              "      margin-bottom: 4px;\n",
              "    }\n",
              "\n",
              "    [theme=dark] .colab-df-convert {\n",
              "      background-color: #3B4455;\n",
              "      fill: #D2E3FC;\n",
              "    }\n",
              "\n",
              "    [theme=dark] .colab-df-convert:hover {\n",
              "      background-color: #434B5C;\n",
              "      box-shadow: 0px 1px 3px 1px rgba(0, 0, 0, 0.15);\n",
              "      filter: drop-shadow(0px 1px 2px rgba(0, 0, 0, 0.3));\n",
              "      fill: #FFFFFF;\n",
              "    }\n",
              "  </style>\n",
              "\n",
              "    <script>\n",
              "      const buttonEl =\n",
              "        document.querySelector('#df-ba33d5d0-afec-44d5-b61d-6f2e7457740d button.colab-df-convert');\n",
              "      buttonEl.style.display =\n",
              "        google.colab.kernel.accessAllowed ? 'block' : 'none';\n",
              "\n",
              "      async function convertToInteractive(key) {\n",
              "        const element = document.querySelector('#df-ba33d5d0-afec-44d5-b61d-6f2e7457740d');\n",
              "        const dataTable =\n",
              "          await google.colab.kernel.invokeFunction('convertToInteractive',\n",
              "                                                    [key], {});\n",
              "        if (!dataTable) return;\n",
              "\n",
              "        const docLinkHtml = 'Like what you see? Visit the ' +\n",
              "          '<a target=\"_blank\" href=https://colab.research.google.com/notebooks/data_table.ipynb>data table notebook</a>'\n",
              "          + ' to learn more about interactive tables.';\n",
              "        element.innerHTML = '';\n",
              "        dataTable['output_type'] = 'display_data';\n",
              "        await google.colab.output.renderOutput(dataTable, element);\n",
              "        const docLink = document.createElement('div');\n",
              "        docLink.innerHTML = docLinkHtml;\n",
              "        element.appendChild(docLink);\n",
              "      }\n",
              "    </script>\n",
              "  </div>\n",
              "\n",
              "\n",
              "<div id=\"df-553cf91b-1ad5-4b7e-ae6e-8c7e23229621\">\n",
              "  <button class=\"colab-df-quickchart\" onclick=\"quickchart('df-553cf91b-1ad5-4b7e-ae6e-8c7e23229621')\"\n",
              "            title=\"Suggest charts\"\n",
              "            style=\"display:none;\">\n",
              "\n",
              "<svg xmlns=\"http://www.w3.org/2000/svg\" height=\"24px\"viewBox=\"0 0 24 24\"\n",
              "     width=\"24px\">\n",
              "    <g>\n",
              "        <path d=\"M19 3H5c-1.1 0-2 .9-2 2v14c0 1.1.9 2 2 2h14c1.1 0 2-.9 2-2V5c0-1.1-.9-2-2-2zM9 17H7v-7h2v7zm4 0h-2V7h2v10zm4 0h-2v-4h2v4z\"/>\n",
              "    </g>\n",
              "</svg>\n",
              "  </button>\n",
              "\n",
              "<style>\n",
              "  .colab-df-quickchart {\n",
              "      --bg-color: #E8F0FE;\n",
              "      --fill-color: #1967D2;\n",
              "      --hover-bg-color: #E2EBFA;\n",
              "      --hover-fill-color: #174EA6;\n",
              "      --disabled-fill-color: #AAA;\n",
              "      --disabled-bg-color: #DDD;\n",
              "  }\n",
              "\n",
              "  [theme=dark] .colab-df-quickchart {\n",
              "      --bg-color: #3B4455;\n",
              "      --fill-color: #D2E3FC;\n",
              "      --hover-bg-color: #434B5C;\n",
              "      --hover-fill-color: #FFFFFF;\n",
              "      --disabled-bg-color: #3B4455;\n",
              "      --disabled-fill-color: #666;\n",
              "  }\n",
              "\n",
              "  .colab-df-quickchart {\n",
              "    background-color: var(--bg-color);\n",
              "    border: none;\n",
              "    border-radius: 50%;\n",
              "    cursor: pointer;\n",
              "    display: none;\n",
              "    fill: var(--fill-color);\n",
              "    height: 32px;\n",
              "    padding: 0;\n",
              "    width: 32px;\n",
              "  }\n",
              "\n",
              "  .colab-df-quickchart:hover {\n",
              "    background-color: var(--hover-bg-color);\n",
              "    box-shadow: 0 1px 2px rgba(60, 64, 67, 0.3), 0 1px 3px 1px rgba(60, 64, 67, 0.15);\n",
              "    fill: var(--button-hover-fill-color);\n",
              "  }\n",
              "\n",
              "  .colab-df-quickchart-complete:disabled,\n",
              "  .colab-df-quickchart-complete:disabled:hover {\n",
              "    background-color: var(--disabled-bg-color);\n",
              "    fill: var(--disabled-fill-color);\n",
              "    box-shadow: none;\n",
              "  }\n",
              "\n",
              "  .colab-df-spinner {\n",
              "    border: 2px solid var(--fill-color);\n",
              "    border-color: transparent;\n",
              "    border-bottom-color: var(--fill-color);\n",
              "    animation:\n",
              "      spin 1s steps(1) infinite;\n",
              "  }\n",
              "\n",
              "  @keyframes spin {\n",
              "    0% {\n",
              "      border-color: transparent;\n",
              "      border-bottom-color: var(--fill-color);\n",
              "      border-left-color: var(--fill-color);\n",
              "    }\n",
              "    20% {\n",
              "      border-color: transparent;\n",
              "      border-left-color: var(--fill-color);\n",
              "      border-top-color: var(--fill-color);\n",
              "    }\n",
              "    30% {\n",
              "      border-color: transparent;\n",
              "      border-left-color: var(--fill-color);\n",
              "      border-top-color: var(--fill-color);\n",
              "      border-right-color: var(--fill-color);\n",
              "    }\n",
              "    40% {\n",
              "      border-color: transparent;\n",
              "      border-right-color: var(--fill-color);\n",
              "      border-top-color: var(--fill-color);\n",
              "    }\n",
              "    60% {\n",
              "      border-color: transparent;\n",
              "      border-right-color: var(--fill-color);\n",
              "    }\n",
              "    80% {\n",
              "      border-color: transparent;\n",
              "      border-right-color: var(--fill-color);\n",
              "      border-bottom-color: var(--fill-color);\n",
              "    }\n",
              "    90% {\n",
              "      border-color: transparent;\n",
              "      border-bottom-color: var(--fill-color);\n",
              "    }\n",
              "  }\n",
              "</style>\n",
              "\n",
              "  <script>\n",
              "    async function quickchart(key) {\n",
              "      const quickchartButtonEl =\n",
              "        document.querySelector('#' + key + ' button');\n",
              "      quickchartButtonEl.disabled = true;  // To prevent multiple clicks.\n",
              "      quickchartButtonEl.classList.add('colab-df-spinner');\n",
              "      try {\n",
              "        const charts = await google.colab.kernel.invokeFunction(\n",
              "            'suggestCharts', [key], {});\n",
              "      } catch (error) {\n",
              "        console.error('Error during call to suggestCharts:', error);\n",
              "      }\n",
              "      quickchartButtonEl.classList.remove('colab-df-spinner');\n",
              "      quickchartButtonEl.classList.add('colab-df-quickchart-complete');\n",
              "    }\n",
              "    (() => {\n",
              "      let quickchartButtonEl =\n",
              "        document.querySelector('#df-553cf91b-1ad5-4b7e-ae6e-8c7e23229621 button');\n",
              "      quickchartButtonEl.style.display =\n",
              "        google.colab.kernel.accessAllowed ? 'block' : 'none';\n",
              "    })();\n",
              "  </script>\n",
              "</div>\n",
              "    </div>\n",
              "  </div>\n"
            ]
          },
          "metadata": {},
          "execution_count": 43
        }
      ]
    },
    {
      "cell_type": "code",
      "source": [],
      "metadata": {
        "id": "q4eRHmgDM7Yp"
      },
      "execution_count": null,
      "outputs": []
    },
    {
      "cell_type": "code",
      "source": [
        "df.duplicated()"
      ],
      "metadata": {
        "colab": {
          "base_uri": "https://localhost:8080/"
        },
        "id": "uqNxJiYtP03v",
        "outputId": "2738a234-da3b-49d9-9e00-db2eda84d934"
      },
      "execution_count": null,
      "outputs": [
        {
          "output_type": "execute_result",
          "data": {
            "text/plain": [
              "0    False\n",
              "1    False\n",
              "2    False\n",
              "dtype: bool"
            ]
          },
          "metadata": {},
          "execution_count": 41
        }
      ]
    },
    {
      "cell_type": "code",
      "source": [
        "df.loc[df[\"weight\"]>70]"
      ],
      "metadata": {
        "colab": {
          "base_uri": "https://localhost:8080/",
          "height": 112
        },
        "id": "QK4L5YYpQD3E",
        "outputId": "e9f8f436-2ffc-4ce3-db94-3935faf45cc4"
      },
      "execution_count": null,
      "outputs": [
        {
          "output_type": "execute_result",
          "data": {
            "text/plain": [
              "       0   1  weight\n",
              "1  kumar  22      74\n",
              "2  reddy  23      80"
            ],
            "text/html": [
              "\n",
              "  <div id=\"df-2c28b069-253d-4dda-b088-33144cff7fb8\" class=\"colab-df-container\">\n",
              "    <div>\n",
              "<style scoped>\n",
              "    .dataframe tbody tr th:only-of-type {\n",
              "        vertical-align: middle;\n",
              "    }\n",
              "\n",
              "    .dataframe tbody tr th {\n",
              "        vertical-align: top;\n",
              "    }\n",
              "\n",
              "    .dataframe thead th {\n",
              "        text-align: right;\n",
              "    }\n",
              "</style>\n",
              "<table border=\"1\" class=\"dataframe\">\n",
              "  <thead>\n",
              "    <tr style=\"text-align: right;\">\n",
              "      <th></th>\n",
              "      <th>0</th>\n",
              "      <th>1</th>\n",
              "      <th>weight</th>\n",
              "    </tr>\n",
              "  </thead>\n",
              "  <tbody>\n",
              "    <tr>\n",
              "      <th>1</th>\n",
              "      <td>kumar</td>\n",
              "      <td>22</td>\n",
              "      <td>74</td>\n",
              "    </tr>\n",
              "    <tr>\n",
              "      <th>2</th>\n",
              "      <td>reddy</td>\n",
              "      <td>23</td>\n",
              "      <td>80</td>\n",
              "    </tr>\n",
              "  </tbody>\n",
              "</table>\n",
              "</div>\n",
              "    <div class=\"colab-df-buttons\">\n",
              "\n",
              "  <div class=\"colab-df-container\">\n",
              "    <button class=\"colab-df-convert\" onclick=\"convertToInteractive('df-2c28b069-253d-4dda-b088-33144cff7fb8')\"\n",
              "            title=\"Convert this dataframe to an interactive table.\"\n",
              "            style=\"display:none;\">\n",
              "\n",
              "  <svg xmlns=\"http://www.w3.org/2000/svg\" height=\"24px\" viewBox=\"0 -960 960 960\">\n",
              "    <path d=\"M120-120v-720h720v720H120Zm60-500h600v-160H180v160Zm220 220h160v-160H400v160Zm0 220h160v-160H400v160ZM180-400h160v-160H180v160Zm440 0h160v-160H620v160ZM180-180h160v-160H180v160Zm440 0h160v-160H620v160Z\"/>\n",
              "  </svg>\n",
              "    </button>\n",
              "\n",
              "  <style>\n",
              "    .colab-df-container {\n",
              "      display:flex;\n",
              "      gap: 12px;\n",
              "    }\n",
              "\n",
              "    .colab-df-convert {\n",
              "      background-color: #E8F0FE;\n",
              "      border: none;\n",
              "      border-radius: 50%;\n",
              "      cursor: pointer;\n",
              "      display: none;\n",
              "      fill: #1967D2;\n",
              "      height: 32px;\n",
              "      padding: 0 0 0 0;\n",
              "      width: 32px;\n",
              "    }\n",
              "\n",
              "    .colab-df-convert:hover {\n",
              "      background-color: #E2EBFA;\n",
              "      box-shadow: 0px 1px 2px rgba(60, 64, 67, 0.3), 0px 1px 3px 1px rgba(60, 64, 67, 0.15);\n",
              "      fill: #174EA6;\n",
              "    }\n",
              "\n",
              "    .colab-df-buttons div {\n",
              "      margin-bottom: 4px;\n",
              "    }\n",
              "\n",
              "    [theme=dark] .colab-df-convert {\n",
              "      background-color: #3B4455;\n",
              "      fill: #D2E3FC;\n",
              "    }\n",
              "\n",
              "    [theme=dark] .colab-df-convert:hover {\n",
              "      background-color: #434B5C;\n",
              "      box-shadow: 0px 1px 3px 1px rgba(0, 0, 0, 0.15);\n",
              "      filter: drop-shadow(0px 1px 2px rgba(0, 0, 0, 0.3));\n",
              "      fill: #FFFFFF;\n",
              "    }\n",
              "  </style>\n",
              "\n",
              "    <script>\n",
              "      const buttonEl =\n",
              "        document.querySelector('#df-2c28b069-253d-4dda-b088-33144cff7fb8 button.colab-df-convert');\n",
              "      buttonEl.style.display =\n",
              "        google.colab.kernel.accessAllowed ? 'block' : 'none';\n",
              "\n",
              "      async function convertToInteractive(key) {\n",
              "        const element = document.querySelector('#df-2c28b069-253d-4dda-b088-33144cff7fb8');\n",
              "        const dataTable =\n",
              "          await google.colab.kernel.invokeFunction('convertToInteractive',\n",
              "                                                    [key], {});\n",
              "        if (!dataTable) return;\n",
              "\n",
              "        const docLinkHtml = 'Like what you see? Visit the ' +\n",
              "          '<a target=\"_blank\" href=https://colab.research.google.com/notebooks/data_table.ipynb>data table notebook</a>'\n",
              "          + ' to learn more about interactive tables.';\n",
              "        element.innerHTML = '';\n",
              "        dataTable['output_type'] = 'display_data';\n",
              "        await google.colab.output.renderOutput(dataTable, element);\n",
              "        const docLink = document.createElement('div');\n",
              "        docLink.innerHTML = docLinkHtml;\n",
              "        element.appendChild(docLink);\n",
              "      }\n",
              "    </script>\n",
              "  </div>\n",
              "\n",
              "\n",
              "<div id=\"df-a1733de6-68e9-4571-b291-aa7e52b08d59\">\n",
              "  <button class=\"colab-df-quickchart\" onclick=\"quickchart('df-a1733de6-68e9-4571-b291-aa7e52b08d59')\"\n",
              "            title=\"Suggest charts\"\n",
              "            style=\"display:none;\">\n",
              "\n",
              "<svg xmlns=\"http://www.w3.org/2000/svg\" height=\"24px\"viewBox=\"0 0 24 24\"\n",
              "     width=\"24px\">\n",
              "    <g>\n",
              "        <path d=\"M19 3H5c-1.1 0-2 .9-2 2v14c0 1.1.9 2 2 2h14c1.1 0 2-.9 2-2V5c0-1.1-.9-2-2-2zM9 17H7v-7h2v7zm4 0h-2V7h2v10zm4 0h-2v-4h2v4z\"/>\n",
              "    </g>\n",
              "</svg>\n",
              "  </button>\n",
              "\n",
              "<style>\n",
              "  .colab-df-quickchart {\n",
              "      --bg-color: #E8F0FE;\n",
              "      --fill-color: #1967D2;\n",
              "      --hover-bg-color: #E2EBFA;\n",
              "      --hover-fill-color: #174EA6;\n",
              "      --disabled-fill-color: #AAA;\n",
              "      --disabled-bg-color: #DDD;\n",
              "  }\n",
              "\n",
              "  [theme=dark] .colab-df-quickchart {\n",
              "      --bg-color: #3B4455;\n",
              "      --fill-color: #D2E3FC;\n",
              "      --hover-bg-color: #434B5C;\n",
              "      --hover-fill-color: #FFFFFF;\n",
              "      --disabled-bg-color: #3B4455;\n",
              "      --disabled-fill-color: #666;\n",
              "  }\n",
              "\n",
              "  .colab-df-quickchart {\n",
              "    background-color: var(--bg-color);\n",
              "    border: none;\n",
              "    border-radius: 50%;\n",
              "    cursor: pointer;\n",
              "    display: none;\n",
              "    fill: var(--fill-color);\n",
              "    height: 32px;\n",
              "    padding: 0;\n",
              "    width: 32px;\n",
              "  }\n",
              "\n",
              "  .colab-df-quickchart:hover {\n",
              "    background-color: var(--hover-bg-color);\n",
              "    box-shadow: 0 1px 2px rgba(60, 64, 67, 0.3), 0 1px 3px 1px rgba(60, 64, 67, 0.15);\n",
              "    fill: var(--button-hover-fill-color);\n",
              "  }\n",
              "\n",
              "  .colab-df-quickchart-complete:disabled,\n",
              "  .colab-df-quickchart-complete:disabled:hover {\n",
              "    background-color: var(--disabled-bg-color);\n",
              "    fill: var(--disabled-fill-color);\n",
              "    box-shadow: none;\n",
              "  }\n",
              "\n",
              "  .colab-df-spinner {\n",
              "    border: 2px solid var(--fill-color);\n",
              "    border-color: transparent;\n",
              "    border-bottom-color: var(--fill-color);\n",
              "    animation:\n",
              "      spin 1s steps(1) infinite;\n",
              "  }\n",
              "\n",
              "  @keyframes spin {\n",
              "    0% {\n",
              "      border-color: transparent;\n",
              "      border-bottom-color: var(--fill-color);\n",
              "      border-left-color: var(--fill-color);\n",
              "    }\n",
              "    20% {\n",
              "      border-color: transparent;\n",
              "      border-left-color: var(--fill-color);\n",
              "      border-top-color: var(--fill-color);\n",
              "    }\n",
              "    30% {\n",
              "      border-color: transparent;\n",
              "      border-left-color: var(--fill-color);\n",
              "      border-top-color: var(--fill-color);\n",
              "      border-right-color: var(--fill-color);\n",
              "    }\n",
              "    40% {\n",
              "      border-color: transparent;\n",
              "      border-right-color: var(--fill-color);\n",
              "      border-top-color: var(--fill-color);\n",
              "    }\n",
              "    60% {\n",
              "      border-color: transparent;\n",
              "      border-right-color: var(--fill-color);\n",
              "    }\n",
              "    80% {\n",
              "      border-color: transparent;\n",
              "      border-right-color: var(--fill-color);\n",
              "      border-bottom-color: var(--fill-color);\n",
              "    }\n",
              "    90% {\n",
              "      border-color: transparent;\n",
              "      border-bottom-color: var(--fill-color);\n",
              "    }\n",
              "  }\n",
              "</style>\n",
              "\n",
              "  <script>\n",
              "    async function quickchart(key) {\n",
              "      const quickchartButtonEl =\n",
              "        document.querySelector('#' + key + ' button');\n",
              "      quickchartButtonEl.disabled = true;  // To prevent multiple clicks.\n",
              "      quickchartButtonEl.classList.add('colab-df-spinner');\n",
              "      try {\n",
              "        const charts = await google.colab.kernel.invokeFunction(\n",
              "            'suggestCharts', [key], {});\n",
              "      } catch (error) {\n",
              "        console.error('Error during call to suggestCharts:', error);\n",
              "      }\n",
              "      quickchartButtonEl.classList.remove('colab-df-spinner');\n",
              "      quickchartButtonEl.classList.add('colab-df-quickchart-complete');\n",
              "    }\n",
              "    (() => {\n",
              "      let quickchartButtonEl =\n",
              "        document.querySelector('#df-a1733de6-68e9-4571-b291-aa7e52b08d59 button');\n",
              "      quickchartButtonEl.style.display =\n",
              "        google.colab.kernel.accessAllowed ? 'block' : 'none';\n",
              "    })();\n",
              "  </script>\n",
              "</div>\n",
              "    </div>\n",
              "  </div>\n"
            ]
          },
          "metadata": {},
          "execution_count": 45
        }
      ]
    },
    {
      "cell_type": "code",
      "source": [
        "import pandas as pd\n",
        "a={\n",
        "    'Bikes':[\"ktm\",\"pulsar\",\"bmw\"],\n",
        "    \"models\":[\"duke200\",\"220f\",\"s series\"]\n",
        "}\n",
        "b=pd.DataFrame(a,index=[\"a\",\"b\",\"c\"])\n",
        "b"
      ],
      "metadata": {
        "id": "xveabkDlTJd6",
        "colab": {
          "base_uri": "https://localhost:8080/",
          "height": 143
        },
        "outputId": "91560c40-32f8-4bd3-825b-3613eeb814f8"
      },
      "execution_count": null,
      "outputs": [
        {
          "output_type": "execute_result",
          "data": {
            "text/plain": [
              "    Bikes    models\n",
              "a     ktm   duke200\n",
              "b  pulsar      220f\n",
              "c     bmw  s series"
            ],
            "text/html": [
              "\n",
              "  <div id=\"df-1e9e63d7-e324-40a9-b134-657f6483bc8f\" class=\"colab-df-container\">\n",
              "    <div>\n",
              "<style scoped>\n",
              "    .dataframe tbody tr th:only-of-type {\n",
              "        vertical-align: middle;\n",
              "    }\n",
              "\n",
              "    .dataframe tbody tr th {\n",
              "        vertical-align: top;\n",
              "    }\n",
              "\n",
              "    .dataframe thead th {\n",
              "        text-align: right;\n",
              "    }\n",
              "</style>\n",
              "<table border=\"1\" class=\"dataframe\">\n",
              "  <thead>\n",
              "    <tr style=\"text-align: right;\">\n",
              "      <th></th>\n",
              "      <th>Bikes</th>\n",
              "      <th>models</th>\n",
              "    </tr>\n",
              "  </thead>\n",
              "  <tbody>\n",
              "    <tr>\n",
              "      <th>a</th>\n",
              "      <td>ktm</td>\n",
              "      <td>duke200</td>\n",
              "    </tr>\n",
              "    <tr>\n",
              "      <th>b</th>\n",
              "      <td>pulsar</td>\n",
              "      <td>220f</td>\n",
              "    </tr>\n",
              "    <tr>\n",
              "      <th>c</th>\n",
              "      <td>bmw</td>\n",
              "      <td>s series</td>\n",
              "    </tr>\n",
              "  </tbody>\n",
              "</table>\n",
              "</div>\n",
              "    <div class=\"colab-df-buttons\">\n",
              "\n",
              "  <div class=\"colab-df-container\">\n",
              "    <button class=\"colab-df-convert\" onclick=\"convertToInteractive('df-1e9e63d7-e324-40a9-b134-657f6483bc8f')\"\n",
              "            title=\"Convert this dataframe to an interactive table.\"\n",
              "            style=\"display:none;\">\n",
              "\n",
              "  <svg xmlns=\"http://www.w3.org/2000/svg\" height=\"24px\" viewBox=\"0 -960 960 960\">\n",
              "    <path d=\"M120-120v-720h720v720H120Zm60-500h600v-160H180v160Zm220 220h160v-160H400v160Zm0 220h160v-160H400v160ZM180-400h160v-160H180v160Zm440 0h160v-160H620v160ZM180-180h160v-160H180v160Zm440 0h160v-160H620v160Z\"/>\n",
              "  </svg>\n",
              "    </button>\n",
              "\n",
              "  <style>\n",
              "    .colab-df-container {\n",
              "      display:flex;\n",
              "      gap: 12px;\n",
              "    }\n",
              "\n",
              "    .colab-df-convert {\n",
              "      background-color: #E8F0FE;\n",
              "      border: none;\n",
              "      border-radius: 50%;\n",
              "      cursor: pointer;\n",
              "      display: none;\n",
              "      fill: #1967D2;\n",
              "      height: 32px;\n",
              "      padding: 0 0 0 0;\n",
              "      width: 32px;\n",
              "    }\n",
              "\n",
              "    .colab-df-convert:hover {\n",
              "      background-color: #E2EBFA;\n",
              "      box-shadow: 0px 1px 2px rgba(60, 64, 67, 0.3), 0px 1px 3px 1px rgba(60, 64, 67, 0.15);\n",
              "      fill: #174EA6;\n",
              "    }\n",
              "\n",
              "    .colab-df-buttons div {\n",
              "      margin-bottom: 4px;\n",
              "    }\n",
              "\n",
              "    [theme=dark] .colab-df-convert {\n",
              "      background-color: #3B4455;\n",
              "      fill: #D2E3FC;\n",
              "    }\n",
              "\n",
              "    [theme=dark] .colab-df-convert:hover {\n",
              "      background-color: #434B5C;\n",
              "      box-shadow: 0px 1px 3px 1px rgba(0, 0, 0, 0.15);\n",
              "      filter: drop-shadow(0px 1px 2px rgba(0, 0, 0, 0.3));\n",
              "      fill: #FFFFFF;\n",
              "    }\n",
              "  </style>\n",
              "\n",
              "    <script>\n",
              "      const buttonEl =\n",
              "        document.querySelector('#df-1e9e63d7-e324-40a9-b134-657f6483bc8f button.colab-df-convert');\n",
              "      buttonEl.style.display =\n",
              "        google.colab.kernel.accessAllowed ? 'block' : 'none';\n",
              "\n",
              "      async function convertToInteractive(key) {\n",
              "        const element = document.querySelector('#df-1e9e63d7-e324-40a9-b134-657f6483bc8f');\n",
              "        const dataTable =\n",
              "          await google.colab.kernel.invokeFunction('convertToInteractive',\n",
              "                                                    [key], {});\n",
              "        if (!dataTable) return;\n",
              "\n",
              "        const docLinkHtml = 'Like what you see? Visit the ' +\n",
              "          '<a target=\"_blank\" href=https://colab.research.google.com/notebooks/data_table.ipynb>data table notebook</a>'\n",
              "          + ' to learn more about interactive tables.';\n",
              "        element.innerHTML = '';\n",
              "        dataTable['output_type'] = 'display_data';\n",
              "        await google.colab.output.renderOutput(dataTable, element);\n",
              "        const docLink = document.createElement('div');\n",
              "        docLink.innerHTML = docLinkHtml;\n",
              "        element.appendChild(docLink);\n",
              "      }\n",
              "    </script>\n",
              "  </div>\n",
              "\n",
              "\n",
              "<div id=\"df-d1dfe606-ed4b-407d-a477-24f4674e0275\">\n",
              "  <button class=\"colab-df-quickchart\" onclick=\"quickchart('df-d1dfe606-ed4b-407d-a477-24f4674e0275')\"\n",
              "            title=\"Suggest charts\"\n",
              "            style=\"display:none;\">\n",
              "\n",
              "<svg xmlns=\"http://www.w3.org/2000/svg\" height=\"24px\"viewBox=\"0 0 24 24\"\n",
              "     width=\"24px\">\n",
              "    <g>\n",
              "        <path d=\"M19 3H5c-1.1 0-2 .9-2 2v14c0 1.1.9 2 2 2h14c1.1 0 2-.9 2-2V5c0-1.1-.9-2-2-2zM9 17H7v-7h2v7zm4 0h-2V7h2v10zm4 0h-2v-4h2v4z\"/>\n",
              "    </g>\n",
              "</svg>\n",
              "  </button>\n",
              "\n",
              "<style>\n",
              "  .colab-df-quickchart {\n",
              "      --bg-color: #E8F0FE;\n",
              "      --fill-color: #1967D2;\n",
              "      --hover-bg-color: #E2EBFA;\n",
              "      --hover-fill-color: #174EA6;\n",
              "      --disabled-fill-color: #AAA;\n",
              "      --disabled-bg-color: #DDD;\n",
              "  }\n",
              "\n",
              "  [theme=dark] .colab-df-quickchart {\n",
              "      --bg-color: #3B4455;\n",
              "      --fill-color: #D2E3FC;\n",
              "      --hover-bg-color: #434B5C;\n",
              "      --hover-fill-color: #FFFFFF;\n",
              "      --disabled-bg-color: #3B4455;\n",
              "      --disabled-fill-color: #666;\n",
              "  }\n",
              "\n",
              "  .colab-df-quickchart {\n",
              "    background-color: var(--bg-color);\n",
              "    border: none;\n",
              "    border-radius: 50%;\n",
              "    cursor: pointer;\n",
              "    display: none;\n",
              "    fill: var(--fill-color);\n",
              "    height: 32px;\n",
              "    padding: 0;\n",
              "    width: 32px;\n",
              "  }\n",
              "\n",
              "  .colab-df-quickchart:hover {\n",
              "    background-color: var(--hover-bg-color);\n",
              "    box-shadow: 0 1px 2px rgba(60, 64, 67, 0.3), 0 1px 3px 1px rgba(60, 64, 67, 0.15);\n",
              "    fill: var(--button-hover-fill-color);\n",
              "  }\n",
              "\n",
              "  .colab-df-quickchart-complete:disabled,\n",
              "  .colab-df-quickchart-complete:disabled:hover {\n",
              "    background-color: var(--disabled-bg-color);\n",
              "    fill: var(--disabled-fill-color);\n",
              "    box-shadow: none;\n",
              "  }\n",
              "\n",
              "  .colab-df-spinner {\n",
              "    border: 2px solid var(--fill-color);\n",
              "    border-color: transparent;\n",
              "    border-bottom-color: var(--fill-color);\n",
              "    animation:\n",
              "      spin 1s steps(1) infinite;\n",
              "  }\n",
              "\n",
              "  @keyframes spin {\n",
              "    0% {\n",
              "      border-color: transparent;\n",
              "      border-bottom-color: var(--fill-color);\n",
              "      border-left-color: var(--fill-color);\n",
              "    }\n",
              "    20% {\n",
              "      border-color: transparent;\n",
              "      border-left-color: var(--fill-color);\n",
              "      border-top-color: var(--fill-color);\n",
              "    }\n",
              "    30% {\n",
              "      border-color: transparent;\n",
              "      border-left-color: var(--fill-color);\n",
              "      border-top-color: var(--fill-color);\n",
              "      border-right-color: var(--fill-color);\n",
              "    }\n",
              "    40% {\n",
              "      border-color: transparent;\n",
              "      border-right-color: var(--fill-color);\n",
              "      border-top-color: var(--fill-color);\n",
              "    }\n",
              "    60% {\n",
              "      border-color: transparent;\n",
              "      border-right-color: var(--fill-color);\n",
              "    }\n",
              "    80% {\n",
              "      border-color: transparent;\n",
              "      border-right-color: var(--fill-color);\n",
              "      border-bottom-color: var(--fill-color);\n",
              "    }\n",
              "    90% {\n",
              "      border-color: transparent;\n",
              "      border-bottom-color: var(--fill-color);\n",
              "    }\n",
              "  }\n",
              "</style>\n",
              "\n",
              "  <script>\n",
              "    async function quickchart(key) {\n",
              "      const quickchartButtonEl =\n",
              "        document.querySelector('#' + key + ' button');\n",
              "      quickchartButtonEl.disabled = true;  // To prevent multiple clicks.\n",
              "      quickchartButtonEl.classList.add('colab-df-spinner');\n",
              "      try {\n",
              "        const charts = await google.colab.kernel.invokeFunction(\n",
              "            'suggestCharts', [key], {});\n",
              "      } catch (error) {\n",
              "        console.error('Error during call to suggestCharts:', error);\n",
              "      }\n",
              "      quickchartButtonEl.classList.remove('colab-df-spinner');\n",
              "      quickchartButtonEl.classList.add('colab-df-quickchart-complete');\n",
              "    }\n",
              "    (() => {\n",
              "      let quickchartButtonEl =\n",
              "        document.querySelector('#df-d1dfe606-ed4b-407d-a477-24f4674e0275 button');\n",
              "      quickchartButtonEl.style.display =\n",
              "        google.colab.kernel.accessAllowed ? 'block' : 'none';\n",
              "    })();\n",
              "  </script>\n",
              "</div>\n",
              "    </div>\n",
              "  </div>\n"
            ]
          },
          "metadata": {},
          "execution_count": 17
        }
      ]
    },
    {
      "cell_type": "code",
      "source": [
        "b.loc[\"b\"]"
      ],
      "metadata": {
        "colab": {
          "base_uri": "https://localhost:8080/"
        },
        "id": "9EVZwM2X-jWt",
        "outputId": "1bfaf82b-9895-4481-b81f-be9bc9100df7"
      },
      "execution_count": null,
      "outputs": [
        {
          "output_type": "execute_result",
          "data": {
            "text/plain": [
              "Bikes     pulsar\n",
              "models      220f\n",
              "Name: b, dtype: object"
            ]
          },
          "metadata": {},
          "execution_count": 18
        }
      ]
    },
    {
      "cell_type": "code",
      "source": [
        "import matplotlib.pyplot as plt\n",
        "a=[2,3,4,5,6]\n",
        "b=[8,9,10,5,7]\n",
        "f1={'family' : 'arial','size' : 15, 'color' : 'blue'}\n",
        "plt.xlabel(\"energy\")\n",
        "plt.ylabel(\"efficiency\")\n",
        "plt.plot(a,b,marker=\"*\",mec=\"k\",mfc=\"y\",ms=\"10\",ls=\"dashdot\",c=\"r\",lw=\"2\")\n",
        "plt.title(\"program\",fontdict=f1)\n",
        "plt.grid(axis=\"both\",ls=\"dashed\",lw=1,c=\"k\")\n",
        "plt.show()"
      ],
      "metadata": {
        "id": "WgPxrEgm_696",
        "colab": {
          "base_uri": "https://localhost:8080/",
          "height": 561
        },
        "outputId": "d3105d3a-a5fa-4140-e3dd-d0a449b5461e"
      },
      "execution_count": null,
      "outputs": [
        {
          "output_type": "stream",
          "name": "stderr",
          "text": [
            "WARNING:matplotlib.font_manager:findfont: Font family 'arial' not found.\n",
            "WARNING:matplotlib.font_manager:findfont: Font family 'arial' not found.\n",
            "WARNING:matplotlib.font_manager:findfont: Font family 'arial' not found.\n",
            "WARNING:matplotlib.font_manager:findfont: Font family 'arial' not found.\n",
            "WARNING:matplotlib.font_manager:findfont: Font family 'arial' not found.\n"
          ]
        },
        {
          "output_type": "display_data",
          "data": {
            "text/plain": [
              "<Figure size 640x480 with 1 Axes>"
            ],
            "image/png": "[encoded data removed]"
          },
          "metadata": {}
        }
      ]
    },
    {
      "cell_type": "code",
      "source": [
        "import matplotlib.pyplot as plt\n",
        "x=[5,6,4,8,9]\n",
        "y=[3,6,2,7,10]\n",
        "z=[7,2,6,4,8]\n",
        "plt.suptitle(\"multiple plots\")\n",
        "plt.subplot(1,2,1)\n",
        "plt.plot(x,y)\n",
        "plt.title(\"graph-1\")\n",
        "plt.subplot(1,2,2)\n",
        "plt.plot(x,z)\n",
        "plt.title(\"graph-2\")\n",
        "plt.show()"
      ],
      "metadata": {
        "id": "601Rof9rDRtt",
        "colab": {
          "base_uri": "https://localhost:8080/",
          "height": 478
        },
        "outputId": "1ee399b6-a67b-4fa9-8f3b-ae981bb4a06a"
      },
      "execution_count": null,
      "outputs": [
        {
          "output_type": "display_data",
          "data": {
            "text/plain": [
              "<Figure size 640x480 with 2 Axes>"
            ],
            "image/png": "[encoded data removed]"
          },
          "metadata": {}
        }
      ]
    },
    {
      "cell_type": "code",
      "source": [
        "import matplotlib.pyplot as plt\n",
        "import numpy as np\n",
        "x=np.arange(0,10,2)\n",
        "y=x**2\n",
        "z=x**3\n",
        "plt.plot(x,y,label=\"squares\")\n",
        "plt.plot(x,z,label=\"cubes\")\n",
        "plt.legend(loc=\"center\",framealpha=1,facecolor=\"orange\",edgecolor=\"black\",fancybox=True,shadow=True,fontsize=10)\n",
        "plt.show()"
      ],
      "metadata": {
        "colab": {
          "base_uri": "https://localhost:8080/",
          "height": 430
        },
        "id": "iQmWO_I4x5II",
        "outputId": "89bd5808-7649-4cb8-de95-45de7f6145a8"
      },
      "execution_count": null,
      "outputs": [
        {
          "output_type": "display_data",
          "data": {
            "text/plain": [
              "<Figure size 640x480 with 1 Axes>"
            ],
            "image/png": "[encoded data removed]"
          },
          "metadata": {}
        }
      ]
    },
    {
      "cell_type": "code",
      "source": [
        "import matplotlib.pyplot as plt\n",
        "import random\n",
        "\n",
        "p=[3,6,9,4,5,7,8]\n",
        "q=[20,30,10,40,60,50,70]\n",
        "random.shuffle(y)\n",
        "plt.scatter(x,y,color=\"black\",marker=\"s\",s=100,linewidth=5,alpha=0.8,)\n",
        "plt.show()"
      ],
      "metadata": {
        "colab": {
          "base_uri": "https://localhost:8080/",
          "height": 430
        },
        "id": "TJP2I8wd0NNG",
        "outputId": "005c37a1-0e5a-4450-f736-3aea5397cc6e"
      },
      "execution_count": null,
      "outputs": [
        {
          "output_type": "display_data",
          "data": {
            "text/plain": [
              "<Figure size 640x480 with 1 Axes>"
            ],
            "image/png": "[encoded data removed]"
          },
          "metadata": {}
        }
      ]
    },
    {
      "cell_type": "code",
      "source": [
        "import matplotlib.pyplot as plt\n",
        "g=[2,3,7,5,4,9,10]\n",
        "h=[20,5,0,57,93,100,200]\n",
        "colors=[\"red\",\"blue\",\"black\",\"orange\",\"yellow\",\"white\",\"brown\"]\n",
        "sizes=[100,150,220,320,250,180,400]\n",
        "plt.scatter(g,h,c=colors,s=sizes,cmap=\"Accent\")\n",
        "plt.colorbar()\n",
        "plt.show()"
      ],
      "metadata": {
        "id": "T0pCIaO36OU7",
        "colab": {
          "base_uri": "https://localhost:8080/",
          "height": 490
        },
        "outputId": "b9705504-894f-41c5-afc2-1a372989d761"
      },
      "execution_count": null,
      "outputs": [
        {
          "output_type": "stream",
          "name": "stderr",
          "text": [
            "<ipython-input-10-333cf51b7df3>:6: UserWarning: No data for colormapping provided via 'c'. Parameters 'cmap' will be ignored\n",
            "  plt.scatter(g,h,c=colors,s=sizes,cmap=\"Accent\")\n"
          ]
        },
        {
          "output_type": "display_data",
          "data": {
            "text/plain": [
              "<Figure size 640x480 with 2 Axes>"
            ],
            "image/png": "[encoded data removed]"
          },
          "metadata": {}
        }
      ]
    },
    {
      "cell_type": "code",
      "source": [
        "import matplotlib.pyplot as plt\n",
        "a=[\"2020\",\"2021\",\"2022\",\"2023\"]\n",
        "b=[100,200,350,400]\n",
        "c=[\"red\",\"blue\",\"green\",\"yellow\"]\n",
        "plt.bar(a,b,color=c,width=0.4)\n",
        "plt.xlabel(\"year\")\n",
        "plt.ylabel(\"placements\")\n",
        "plt.show()"
      ],
      "metadata": {
        "colab": {
          "base_uri": "https://localhost:8080/",
          "height": 449
        },
        "id": "Dmi2EVVArvH8",
        "outputId": "cd780469-a23e-47ff-8b64-4db4e268a001"
      },
      "execution_count": null,
      "outputs": [
        {
          "output_type": "display_data",
          "data": {
            "text/plain": [
              "<Figure size 640x480 with 1 Axes>"
            ],
            "image/png": "[encoded data removed]"
          },
          "metadata": {}
        }
      ]
    },
    {
      "cell_type": "code",
      "source": [
        "import matplotlib.pyplot as plt\n",
        "p=[\"pass\",\"fail\",\"justpass\",\"backlog\"]\n",
        "m=[35,20,30,10]\n",
        "plt.figure(figsize=(8,10))\n",
        "plt.pie(m,labels=p,startangle=0,shadow=True)\n",
        "plt.legend(title=\"performances\")\n",
        "plt.show()"
      ],
      "metadata": {
        "colab": {
          "base_uri": "https://localhost:8080/",
          "height": 656
        },
        "id": "8d_qNk8AuRao",
        "outputId": "c55bee89-dadf-425b-d1ca-a3e090676b80"
      },
      "execution_count": null,
      "outputs": [
        {
          "output_type": "display_data",
          "data": {
            "text/plain": [
              "<Figure size 800x1000 with 1 Axes>"
            ],
            "image/png": "[encoded data removed]"
          },
          "metadata": {}
        }
      ]
    },
    {
      "cell_type": "code",
      "source": [
        "import matplotlib.pyplot as plt\n",
        "j=[30,24,67,89,34,56]\n",
        "k=[20,30,40,50]\n",
        "plt.title(\"grading\")\n",
        "plt.hist(j,k,histtype=\"bar\",rwidth=0.7,facecolor=\"b\")\n",
        "plt.xlabel(\"marks\")\n",
        "plt.ylabel(\"grades\")\n",
        "plt.show()"
      ],
      "metadata": {
        "colab": {
          "base_uri": "https://localhost:8080/",
          "height": 472
        },
        "id": "NphaTDP108jZ",
        "outputId": "f42bde2a-cef9-43ba-8513-3befc5ff7f2b"
      },
      "execution_count": null,
      "outputs": [
        {
          "output_type": "display_data",
          "data": {
            "text/plain": [
              "<Figure size 640x480 with 1 Axes>"
            ],
            "image/png": "[encoded data removed]"
          },
          "metadata": {}
        }
      ]
    },
    {
      "cell_type": "code",
      "source": [
        "class School:\n",
        "  def __init__(self,name,age,grade):\n",
        "    self.name=name\n",
        "    self.age=age\n",
        "    self.grade=grade\n",
        "  def __str__(self):\n",
        "    return f\"{self.name} is {self.age} years old and is in grade {self.grade}.\"\n",
        "\n",
        "  def get_name(self):\n",
        "    return self.name\n",
        "\n",
        "  def get_age(self):\n",
        "    return self.age\n",
        "\n",
        "  def get_grade(self):\n",
        "    return self.grade\n",
        "\n",
        "j=School(\"dileep\",21,8.7)\n",
        "j.get_name()\n",
        "j.get_age()\n",
        "j.get_grade()\n",
        "print(j.name)"
      ],
      "metadata": {
        "id": "E4_V1A6n2l0V",
        "colab": {
          "base_uri": "https://localhost:8080/"
        },
        "outputId": "59efcf7f-a815-4849-88f9-481c8f450930"
      },
      "execution_count": null,
      "outputs": [
        {
          "output_type": "stream",
          "name": "stdout",
          "text": [
            "dileep\n"
          ]
        }
      ]
    },
    {
      "cell_type": "code",
      "source": [
        "class Employee:\n",
        "  def __init__(self,name,position,salary):\n",
        "    self.name=name\n",
        "    self.position=position\n",
        "    self.salary=salary\n",
        "  def cmpny(self):\n",
        "    print(\" the \"+ self.name +\" belongs \"+ self.position+\" with salary \"+ self.salary)\n",
        "\n",
        "l=Employee(\"dileep\",\"developer\",\"5lpa\")\n",
        "l.cmpny()"
      ],
      "metadata": {
        "id": "6vBFdVJtOTFS",
        "colab": {
          "base_uri": "https://localhost:8080/"
        },
        "outputId": "be96b41d-e2e7-41c8-fbd4-e352dd7a8970"
      },
      "execution_count": null,
      "outputs": [
        {
          "output_type": "stream",
          "name": "stdout",
          "text": [
            " the dileep belongs developer with salary 5lpa\n"
          ]
        }
      ]
    },
    {
      "cell_type": "code",
      "source": [
        "class Rectangle:\n",
        "  def __init__(self,length,breadth):\n",
        "    self.length=length\n",
        "    self.breadth=breadth\n",
        "  def area(self):\n",
        "    print(\"area is :\",self.length*self.breadth)\n",
        "  def perimeter(self):\n",
        "    print(\"perimete is :\",2*(self.length+self.breadth))\n",
        "\n",
        "f=Rectangle(20,30)\n",
        "f.area()\n",
        "f.perimeter()"
      ],
      "metadata": {
        "colab": {
          "base_uri": "https://localhost:8080/"
        },
        "id": "2y2WQtGyKwUV",
        "outputId": "6d8644a0-a6d3-465c-a219-94f1052268d0"
      },
      "execution_count": null,
      "outputs": [
        {
          "output_type": "stream",
          "name": "stdout",
          "text": [
            "area is : 600\n",
            "perimete is : 100\n"
          ]
        }
      ]
    },
    {
      "cell_type": "code",
      "source": [
        "class Person:\n",
        "    def __init__(self, name, age, address):\n",
        "        self.name = name\n",
        "        self.age = age\n",
        "        self.address = address\n",
        "\n",
        "    def __str__(self):\n",
        "        return f\"Name: {self.name}, Age: {self.age}, Address: {self.address}\"\n",
        "\n",
        "# Example usage\n",
        "person1 = Person(\"John Doe\", 30, \"123 Main St\")\n",
        "person2 = Person(\"Alice Smith\", 25, \"456 Elm St\")\n",
        "\n",
        "# Accessing person details\n",
        "print(person1)\n",
        "print(person2)"
      ],
      "metadata": {
        "colab": {
          "base_uri": "https://localhost:8080/"
        },
        "id": "Gwrg0IytNoLE",
        "outputId": "9651fec1-9b55-41fa-efa1-8470cd64ed70"
      },
      "execution_count": null,
      "outputs": [
        {
          "output_type": "stream",
          "name": "stdout",
          "text": [
            "Name: John Doe, Age: 30, Address: 123 Main St\n",
            "Name: Alice Smith, Age: 25, Address: 456 Elm St\n"
          ]
        }
      ]
    },
    {
      "cell_type": "code",
      "source": [
        "class Movie:\n",
        "  def __init__(self,title,director,rating):\n",
        "    self.title=title\n",
        "    self.director=director\n",
        "    self.rating=rating\n",
        "  def mv(self):\n",
        "    print(\"movie \",self.title,\"is directed by \",self.director,\"with rating \",self.rating)\n",
        "\n",
        "l=Movie(\"gunturkaaram\",\"trivikram\",\"10\")\n",
        "l.mv()"
      ],
      "metadata": {
        "id": "emG3rE5yOhg-",
        "colab": {
          "base_uri": "https://localhost:8080/"
        },
        "outputId": "377b60fe-df41-4463-8cef-9ee26fd640ae"
      },
      "execution_count": null,
      "outputs": [
        {
          "output_type": "stream",
          "name": "stdout",
          "text": [
            "movie  gunturkaaram is directed by  trivikram with rating  10\n"
          ]
        }
      ]
    },
    {
      "cell_type": "code",
      "source": [
        "class shape:\n",
        "  def area(self):\n",
        "    pass\n",
        "  def perimeter(self):\n",
        "    pass\n",
        "class circle(shape):\n",
        "  def __init__(self,radius):\n",
        "    self.radius=radius\n",
        "  def calarea(self):\n",
        "    return 3.14*self.radius**2\n",
        "  def calperimeter(self):\n",
        "    return 2*3.14*self.radius\n",
        "class square(shape):\n",
        "  def __init__(self,side):\n",
        "    self.side=side\n",
        "  def calareas(self):\n",
        "    return self.side**2\n",
        "  def calperimeters(self):\n",
        "    return 4*self.side\n",
        "g=circle(4)\n",
        "g.calarea()\n",
        "g.calperimeter()\n",
        "\n",
        "h=square(5)\n",
        "h.calareas()\n",
        "h.calperimeters()\n"
      ],
      "metadata": {
        "colab": {
          "base_uri": "https://localhost:8080/"
        },
        "id": "3p3wFiY_CHCO",
        "outputId": "5b8bec4e-6471-46d0-d170-10db0302c6ae"
      },
      "execution_count": null,
      "outputs": [
        {
          "output_type": "execute_result",
          "data": {
            "text/plain": [
              "20"
            ]
          },
          "metadata": {},
          "execution_count": 11
        }
      ]
    },
    {
      "cell_type": "code",
      "source": [
        "class Animal:\n",
        "    def __init__(self, species, habitat):\n",
        "        self.species = species\n",
        "        self.habitat = habitat\n",
        "\n",
        "    def eat(self):\n",
        "        pass\n",
        "\n",
        "    def make_sound(self):\n",
        "        pass\n",
        "\n",
        "class Bird(Animal):\n",
        "    def __init__(self, species, habitat, wingspan):\n",
        "        super().__init__(species, habitat)\n",
        "        self.wingspan = wingspan\n",
        "\n",
        "    def fly(self):\n",
        "        pass\n",
        "\n",
        "    def build_nest(self):\n",
        "        pass\n",
        "\n",
        "    def make_sound(self):\n",
        "        return \"Chirp Chirp!\"\n",
        "\n",
        "class Fish(Animal):\n",
        "    def __init__(self, species, habitat, length):\n",
        "        super().__init__(species, habitat)\n",
        "        self.length = length\n",
        "\n",
        "    def swim(self):\n",
        "        pass\n",
        "\n",
        "    def breathe_underwater(self):\n",
        "        pass\n",
        "\n",
        "    def make_sound(self):\n",
        "        return \"Blub Blub!\"\n",
        "\n",
        "# Example usage\n",
        "bird = Bird(\"Sparrow\", \"Trees\", 20)\n",
        "print(\"Bird Species:\", bird.species)\n",
        "print(\"Habitat:\", bird.habitat)\n",
        "print(\"Wingspan:\", bird.wingspan)\n",
        "print(\"Sound:\", bird.make_sound())\n",
        "\n",
        "fish = Fish(\"Salmon\", \"River\", 30)\n",
        "print(\"\\nFish Species:\", fish.species)\n",
        "print(\"Habitat:\", fish.habitat)\n",
        "print(\"Length:\", fish.length)\n",
        "print(\"Sound:\", fish.make_sound())"
      ],
      "metadata": {
        "colab": {
          "base_uri": "https://localhost:8080/"
        },
        "id": "JuUqmBe3FWYk",
        "outputId": "77b63884-0eb5-4429-98ca-e73db2251774"
      },
      "execution_count": null,
      "outputs": [
        {
          "output_type": "stream",
          "name": "stdout",
          "text": [
            "Bird Species: Sparrow\n",
            "Habitat: Trees\n",
            "Wingspan: 20\n",
            "Sound: Chirp Chirp!\n",
            "\n",
            "Fish Species: Salmon\n",
            "Habitat: River\n",
            "Length: 30\n",
            "Sound: Blub Blub!\n"
          ]
        }
      ]
    },
    {
      "cell_type": "code",
      "source": [
        "class Vehicle:\n",
        "  def __init__(self,mileage):\n",
        "    self.mileage=mileage\n",
        "\n",
        "  def car(self):\n",
        "    print(\"Mileage is :\", self.mileage)\n",
        "  def truck(self):\n",
        "    print(\"Mileage is :\", self.mileage)\n",
        "  def bike(self):\n",
        "    print(\"Mileage is :\", self.mileage)\n",
        "\n",
        "d=Vehicle(\"15kmpl\")\n",
        "d.car()\n",
        "c=Vehicle(\"7kmpl\")\n",
        "c.truck()"
      ],
      "metadata": {
        "colab": {
          "base_uri": "https://localhost:8080/"
        },
        "id": "tACBIxAqKpza",
        "outputId": "7a733ba9-8e46-4e74-ab80-d976dd033f3a"
      },
      "execution_count": null,
      "outputs": [
        {
          "output_type": "stream",
          "name": "stdout",
          "text": [
            "Mileage is : 15kmpl\n",
            "Mileage is : 7kmpl\n"
          ]
        }
      ]
    },
    {
      "cell_type": "code",
      "source": [
        "class User:\n",
        "  def __init__(self,email,password):\n",
        "    self._email = email\n",
        "    self._password = password\n",
        "\n",
        "    def get_email(self):\n",
        "      return self._email\n",
        "    def set_mail(self, new_email):\n",
        "      self._email = new_email\n",
        "    def set_password(self, new_password):\n",
        "        self._password = new_password\n",
        "    def __str__(self):\n",
        "      return f\"email is :{self._email}\"\n",
        "\n",
        "e=User(\"dileepkumarreddyjogi@gmail.com\",\"pass12345\")\n",
        "print(e.get_email())\n",
        "e.set_mail(\"dileepjogi66@gmail.com\")\n",
        "print(e)\n",
        "\n",
        "\n"
      ],
      "metadata": {
        "id": "BkY2cRQzLcic",
        "colab": {
          "base_uri": "https://localhost:8080/",
          "height": 245
        },
        "outputId": "91ca5010-d87a-4618-87da-81a05290995c"
      },
      "execution_count": null,
      "outputs": [
        {
          "output_type": "error",
          "ename": "AttributeError",
          "evalue": "ignored",
          "traceback": [
            "\u001b[0;31m---------------------------------------------------------------------------\u001b[0m",
            "\u001b[0;31mAttributeError\u001b[0m                            Traceback (most recent call last)",
            "\u001b[0;32m<ipython-input-2-6a3204c3e28e>\u001b[0m in \u001b[0;36m<cell line: 16>\u001b[0;34m()\u001b[0m\n\u001b[1;32m     14\u001b[0m \u001b[0;34m\u001b[0m\u001b[0m\n\u001b[1;32m     15\u001b[0m \u001b[0me\u001b[0m\u001b[0;34m=\u001b[0m\u001b[0mUser\u001b[0m\u001b[0;34m(\u001b[0m\u001b[0;34m\"dileepkumarreddyjogi@gmail.com\"\u001b[0m\u001b[0;34m,\u001b[0m\u001b[0;34m\"pass12345\"\u001b[0m\u001b[0;34m)\u001b[0m\u001b[0;34m\u001b[0m\u001b[0;34m\u001b[0m\u001b[0m\n\u001b[0;32m---> 16\u001b[0;31m \u001b[0mprint\u001b[0m\u001b[0;34m(\u001b[0m\u001b[0me\u001b[0m\u001b[0;34m.\u001b[0m\u001b[0mget_email\u001b[0m\u001b[0;34m(\u001b[0m\u001b[0;34m)\u001b[0m\u001b[0;34m)\u001b[0m\u001b[0;34m\u001b[0m\u001b[0;34m\u001b[0m\u001b[0m\n\u001b[0m\u001b[1;32m     17\u001b[0m \u001b[0me\u001b[0m\u001b[0;34m.\u001b[0m\u001b[0mset_mail\u001b[0m\u001b[0;34m(\u001b[0m\u001b[0;34m\"dileepjogi66@gmail.com\"\u001b[0m\u001b[0;34m)\u001b[0m\u001b[0;34m\u001b[0m\u001b[0;34m\u001b[0m\u001b[0m\n\u001b[1;32m     18\u001b[0m \u001b[0mprint\u001b[0m\u001b[0;34m(\u001b[0m\u001b[0me\u001b[0m\u001b[0;34m)\u001b[0m\u001b[0;34m\u001b[0m\u001b[0;34m\u001b[0m\u001b[0m\n",
            "\u001b[0;31mAttributeError\u001b[0m: 'User' object has no attribute 'get_email'"
          ]
        }
      ]
    },
    {
      "cell_type": "code",
      "source": [
        "class User:\n",
        "    def __init__(self, password, email):\n",
        "        # Encapsulated variable\n",
        "        self._password = password  # Encapsulated variable\n",
        "        self._email = email        # Encapsulated variable\n",
        "\n",
        "\n",
        "    def get_email(self):\n",
        "        return self._email\n",
        "    def set_email(self, new_email):\n",
        "      self._email = new_email\n",
        "    def set_password(self, new_password):\n",
        "      self._password = new_password\n",
        "\n",
        "    def __str__(self):\n",
        "        return f\"Email: {self._email}\"\n",
        "\n",
        "user1 = User(\"pass123\", \"user123@example.com\")\n",
        "\n",
        "  # Accessing username using a getter method\n",
        "print(user1.get_email())     # Accessing email using a getter method\n",
        "\n",
        "user1.set_email(\"newemail@example.com\")\n",
        "print(user1)"
      ],
      "metadata": {
        "colab": {
          "base_uri": "https://localhost:8080/"
        },
        "id": "gPxMQbAzUbKA",
        "outputId": "7fd92080-e6fc-47e8-8787-833c2b272c36"
      },
      "execution_count": null,
      "outputs": [
        {
          "output_type": "stream",
          "name": "stdout",
          "text": [
            "user123@example.com\n",
            "Email: newemail@example.com\n"
          ]
        }
      ]
    },
    {
      "cell_type": "code",
      "source": [
        "class Electronics:\n",
        "    def __init__(self, brand, model, price):\n",
        "        self.brand = brand\n",
        "        self.model = model\n",
        "        self.price = price\n",
        "\n",
        "    def display_info(self):\n",
        "        return f\"Brand: {self.brand}, Model: {self.model}, Price: ${self.price}\"\n",
        "\n",
        "class Phone(Electronics):\n",
        "    def __init__(self, brand, model, price, os, screen_size):\n",
        "        super().__init__(brand, model, price)\n",
        "        self.os = os\n",
        "        self.screen_size = screen_size\n",
        "\n",
        "    def display_info(self):\n",
        "        return f\"Phone - {super().display_info()}, OS: {self.os}, Screen Size: {self.screen_size}\"\n",
        "\n",
        "class Laptop(Electronics):\n",
        "    def __init__(self, brand, model, price, os, processor):\n",
        "        super().__init__(brand, model, price)\n",
        "        self.os = os\n",
        "        self.processor = processor\n",
        "    def display_info(self):\n",
        "        return f\"Laptop - {super().display_info()}, OS: {self.os}, Processor: {self.processor}\"\n",
        "# Example usage:\n",
        "phone1 = Phone(\"Apple\", \"iPhone 13\", 999, \"iOS\", \"6.1 inches\")\n",
        "laptop1 = Laptop(\"Dell\", \"XPS 15\", 1499, \"Windows\", \"Intel Core i7\")\n",
        "\n",
        "print(phone1.display_info())\n",
        "print(laptop1.display_info())"
      ],
      "metadata": {
        "id": "yLAGWoUDYMyP"
      },
      "execution_count": null,
      "outputs": []
    },
    {
      "cell_type": "code",
      "source": [
        "string1='python is a programming language'\n",
        "a=[]\n",
        "vowels = ['a', 'e', 'i', 'o', 'u', 'A', 'E', 'I', 'O', 'U']\n",
        "for i in string1:\n",
        "  if i in vowels:\n",
        "    a.append(i)\n",
        "print(a,end=\",\")\n",
        "\n"
      ],
      "metadata": {
        "id": "1KLGHJbnnOlP",
        "colab": {
          "base_uri": "https://localhost:8080/"
        },
        "outputId": "c5372380-6dbc-441e-f7bc-e930acfa1aee"
      },
      "execution_count": null,
      "outputs": [
        {
          "output_type": "stream",
          "name": "stdout",
          "text": [
            "['o', 'i', 'a', 'o', 'a', 'i', 'a', 'u', 'a', 'e'],"
          ]
        }
      ]
    },
    {
      "cell_type": "code",
      "source": [
        "# dictionary"
      ],
      "metadata": {
        "id": "vFumaoleRLAs"
      },
      "execution_count": null,
      "outputs": []
    },
    {
      "cell_type": "code",
      "source": [
        "def func(x,y):\n",
        "  if y==0:\n",
        "    return x\n",
        "  return func(y,x%y)\n",
        "\n",
        "result = func(48,18)\n",
        "print(result)"
      ],
      "metadata": {
        "id": "0fB9NHdR6O74",
        "colab": {
          "base_uri": "https://localhost:8080/"
        },
        "outputId": "4ecda250-4de8-4685-d986-e5b61eb7dc06"
      },
      "execution_count": null,
      "outputs": [
        {
          "output_type": "stream",
          "name": "stdout",
          "text": [
            "6\n"
          ]
        }
      ]
    },
    {
      "cell_type": "code",
      "source": [
        "def pattern(n):\n",
        "  if n>0:\n",
        "    print(n,end=\"\")\n",
        "    pattern(n-2)\n",
        "    print(n,end=\"\")\n",
        "pattern(6)"
      ],
      "metadata": {
        "colab": {
          "base_uri": "https://localhost:8080/"
        },
        "id": "hnzvjE5qIHaL",
        "outputId": "f8c4db18-58f4-4444-d29f-24f1af64786c"
      },
      "execution_count": null,
      "outputs": [
        {
          "output_type": "stream",
          "name": "stdout",
          "text": [
            "642246"
          ]
        }
      ]
    },
    {
      "cell_type": "code",
      "source": [
        "x=10\n",
        "def func(x):\n",
        "  x+=5\n",
        "  return x\n",
        "func(x)\n",
        "print(x)"
      ],
      "metadata": {
        "colab": {
          "base_uri": "https://localhost:8080/"
        },
        "id": "80iWBn1xJZju",
        "outputId": "b1bdcce1-8cf4-47ad-d31d-64dae514dec4"
      },
      "execution_count": null,
      "outputs": [
        {
          "output_type": "stream",
          "name": "stdout",
          "text": [
            "10\n"
          ]
        }
      ]
    },
    {
      "cell_type": "code",
      "source": [
        "def func(a=[]):\n",
        "  a.append(1)\n",
        "  return a\n",
        "print(func())\n",
        "print(func())"
      ],
      "metadata": {
        "colab": {
          "base_uri": "https://localhost:8080/"
        },
        "id": "3zTiqsh3LqQs",
        "outputId": "ede2a255-3a4f-4058-911a-833fe7aaba55"
      },
      "execution_count": null,
      "outputs": [
        {
          "output_type": "stream",
          "name": "stdout",
          "text": [
            "[1]\n",
            "[1, 1]\n"
          ]
        }
      ]
    },
    {
      "cell_type": "code",
      "source": [
        "def count_char_frequency(string, char):\n",
        "    count = 0\n",
        "    for letter in string:\n",
        "        if letter == char:\n",
        "            count += 1\n",
        "    return count\n",
        "\n",
        "# Example usage:\n",
        "input_string = 'hello how are you'\n",
        "character_to_count = 'h'\n",
        "\n",
        "frequency = count_char_frequency(input_string, character_to_count)\n",
        "print(f\"The frequency of '{character_to_count}' in the string is: {frequency}\")"
      ],
      "metadata": {
        "colab": {
          "base_uri": "https://localhost:8080/"
        },
        "id": "D43RQ96SL4Vx",
        "outputId": "0d95813d-4b67-4ff4-d233-b0dbdccc4ade"
      },
      "execution_count": null,
      "outputs": [
        {
          "output_type": "stream",
          "name": "stdout",
          "text": [
            "The frequency of 'h' in the string is: 2\n"
          ]
        }
      ]
    },
    {
      "cell_type": "code",
      "source": [
        "class Book:\n",
        "    def __init__(self, book_id, title, author):\n",
        "        self.book_id = book_id\n",
        "        self.title = title\n",
        "        self.author = author\n",
        "        self.is_borrowed = False\n",
        "\n",
        "    def __str__(self):\n",
        "        return f\"Book ID: {self.book_id}, Title: {self.title}, Author: {self.author}, Borrowed: {self.is_borrowed}\"\n",
        "\n",
        "\n",
        "class Member:\n",
        "    def __init__(self, member_id, name):\n",
        "        self.member_id = member_id\n",
        "        self.name = name\n",
        "        self.borrowed_books = []\n",
        "\n",
        "    def __str__(self):\n",
        "        return f\"Member ID: {self.member_id}, Name: {self.name}, Borrowed Books: {', '.join(book.title for book in self.borrowed_books)}\"\n",
        "\n",
        "\n",
        "class Library:\n",
        "    def __init__(self):\n",
        "        self.books = []\n",
        "        self.members = []\n",
        "\n",
        "    def add_book(self, book):\n",
        "        self.books.append(book)\n",
        "\n",
        "    def add_member(self, member):\n",
        "        self.members.append(member)\n",
        "\n",
        "    def borrow_book(self, member, book_id):\n",
        "        for book in self.books:\n",
        "            if book.book_id == book_id and not book.is_borrowed:\n",
        "                book.is_borrowed = True\n",
        "                member.borrowed_books.append(book)\n",
        "                print(f\"Book '{book.title}' has been borrowed by {member.name}.\")\n",
        "                return\n",
        "        print(\"Book not available for borrowing or invalid book ID.\")\n",
        "\n",
        "    def return_book(self, member, book_id):\n",
        "        for book in member.borrowed_books:\n",
        "            if book.book_id == book_id:\n",
        "                book.is_borrowed = False\n",
        "                member.borrowed_books.remove(book)\n",
        "                print(f\"Book '{book.title}' has been returned by {member.name}.\")\n",
        "                return\n",
        "        print(\"Book not borrowed by this member or invalid book ID.\")\n",
        "\n",
        "    def display_books(self):\n",
        "        print(\"Available Books:\")\n",
        "        for book in self.books:\n",
        "            if not book.is_borrowed:\n",
        "                print(book)\n",
        "\n",
        "    def display_members(self):\n",
        "        print(\"Library Members:\")\n",
        "        for member in self.members:\n",
        "            print(member)\n",
        "\n",
        "\n",
        "# Example usage:\n",
        "library = Library()\n",
        "\n",
        "book1 = Book(1, \"Python Programming\", \"John Doe\")\n",
        "book2 = Book(2, \"Data Structures\", \"Jane Smith\")\n",
        "book3 = Book(3, \"Machine Learning\", \"Alice Johnson\")\n",
        "\n",
        "member1 = Member(101, \"Mike Johnson\")\n",
        "member2 = Member(102, \"Emily Brown\")\n",
        "\n",
        "library.add_book(book1)\n",
        "library.add_book(book2)\n",
        "library.add_book(book3)\n",
        "\n",
        "library.add_member(member1)\n",
        "library.add_member(member2)\n",
        "\n",
        "library.borrow_book(member1, 1)\n",
        "library.borrow_book(member2, 2)\n",
        "\n",
        "library.display_books()\n",
        "library.display_members()\n",
        "\n",
        "library.return_book(member1, 1)\n",
        "\n",
        "library.display_books()\n",
        "library.display_members()"
      ],
      "metadata": {
        "colab": {
          "base_uri": "https://localhost:8080/"
        },
        "id": "0ffnKNI7OqQA",
        "outputId": "0dd5a939-d4e4-4f1a-f48a-33b6b520eb1d"
      },
      "execution_count": null,
      "outputs": [
        {
          "output_type": "stream",
          "name": "stdout",
          "text": [
            "Book 'Python Programming' has been borrowed by Mike Johnson.\n",
            "Book 'Data Structures' has been borrowed by Emily Brown.\n",
            "Available Books:\n",
            "Book ID: 3, Title: Machine Learning, Author: Alice Johnson, Borrowed: False\n",
            "Library Members:\n",
            "Member ID: 101, Name: Mike Johnson, Borrowed Books: Python Programming\n",
            "Member ID: 102, Name: Emily Brown, Borrowed Books: Data Structures\n",
            "Book 'Python Programming' has been returned by Mike Johnson.\n",
            "Available Books:\n",
            "Book ID: 1, Title: Python Programming, Author: John Doe, Borrowed: False\n",
            "Book ID: 3, Title: Machine Learning, Author: Alice Johnson, Borrowed: False\n",
            "Library Members:\n",
            "Member ID: 101, Name: Mike Johnson, Borrowed Books: \n",
            "Member ID: 102, Name: Emily Brown, Borrowed Books: Data Structures\n"
          ]
        }
      ]
    },
    {
      "cell_type": "code",
      "source": [
        "# from collections import Counter\n",
        "\n",
        "# # Function to count word frequency and display top 5 most frequent words\n",
        "# def count_and_display_top_words(file_path):\n",
        "#     with open(file_path, 'r') as file:\n",
        "#         text = file.read().lower().split()  # Read file content, convert to lowercase, and split into words\n",
        "\n",
        "#     # Count word frequency using Counter from collections\n",
        "#     word_counts = Counter(text)\n",
        "\n",
        "#     # Display the top 5 most frequent words\n",
        "#     top_words = word_counts.most_common(5)\n",
        "#     print(\"Top 5 most frequent words:\")\n",
        "#     for word, count in top_words:\n",
        "#         print(f\"{word}: {count} times\")\n",
        "\n",
        "# # Replace 'file_path' with the path to your text file\n",
        "# file_path = 'path/to/your/file.txt'\n",
        "# count_and_display_top_words(file_path)"
      ],
      "metadata": {
        "id": "A1sstmdhPYh_"
      },
      "execution_count": null,
      "outputs": []
    },
    {
      "cell_type": "code",
      "source": [],
      "metadata": {
        "id": "sC0gQcReP-Bn"
      },
      "execution_count": null,
      "outputs": []
    }
  ],
  "metadata": {
    "colab": {
      "provenance": [],
      "toc_visible": true,
      "include_colab_link": true
    },
    "kernelspec": {
      "display_name": "Python 3",
      "name": "python3"
    },
    "language_info": {
      "name": "python"
    }
  },
  "nbformat": 4,
  "nbformat_minor": 0
}