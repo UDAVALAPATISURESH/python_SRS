{
  "nbformat": 4,
  "nbformat_minor": 0,
  "metadata": {
    "colab": {
      "provenance": [],
      "include_colab_link": true
    },
    "kernelspec": {
      "name": "python3",
      "display_name": "Python 3"
    },
    "language_info": {
      "name": "python"
    }
  },
  "cells": [
    {
      "cell_type": "markdown",
      "metadata": {
        "id": "view-in-github",
        "colab_type": "text"
      },
      "source": [
        "<a href=\"https://colab.research.google.com/github/UDAVALAPATISURESH/python_SRS/blob/main/Copy_of_Intro_Aaapu_Dhummu_Lepu.ipynb\" target=\"_parent\"><img src=\"https://colab.research.google.com/assets/colab-badge.svg\" alt=\"Open In Colab\"/></a>"
      ]
    },
    {
      "cell_type": "code",
      "source": [
        "a=10;\n",
        "b=5;\n",
        "print(a+b)"
      ],
      "metadata": {
        "colab": {
          "base_uri": "https://localhost:8080/"
        },
        "id": "p3r7HjDOtblf",
        "outputId": "fb0eb9f5-7280-4564-a87d-6525a12448c8"
      },
      "execution_count": null,
      "outputs": [
        {
          "output_type": "stream",
          "name": "stdout",
          "text": [
            "15\n"
          ]
        }
      ]
    },
    {
      "cell_type": "code",
      "source": [
        "#how to find python version?"
      ],
      "metadata": {
        "id": "OvGJIdUlsjOv"
      },
      "execution_count": null,
      "outputs": []
    },
    {
      "cell_type": "code",
      "execution_count": null,
      "metadata": {
        "colab": {
          "base_uri": "https://localhost:8080/"
        },
        "id": "fUJRyopDsKlO",
        "outputId": "9cd187d4-a6e2-4b2a-bc7e-89ee19531f05"
      },
      "outputs": [
        {
          "output_type": "stream",
          "name": "stdout",
          "text": [
            "hi\n"
          ]
        }
      ],
      "source": [
        "print(\"hi\")"
      ]
    },
    {
      "cell_type": "code",
      "source": [
        "import sys #library\n",
        "print(\"python version\")\n",
        "print(sys.version) #methods"
      ],
      "metadata": {
        "colab": {
          "base_uri": "https://localhost:8080/"
        },
        "id": "igV7Zr6fstve",
        "outputId": "ba756a20-332d-423c-b33f-0f629f80fc01"
      },
      "execution_count": null,
      "outputs": [
        {
          "output_type": "stream",
          "name": "stdout",
          "text": [
            "python version\n",
            "3.10.12 (main, Nov 20 2023, 15:14:05) [GCC 11.4.0]\n"
          ]
        }
      ]
    },
    {
      "cell_type": "code",
      "source": [
        "# variables are containers for storing data values."
      ],
      "metadata": {
        "id": "SCN5s5lLs_Uy"
      },
      "execution_count": null,
      "outputs": []
    },
    {
      "cell_type": "code",
      "source": [
        "a=2\n",
        "b=\"dileep\"[ ]\n",
        "a=10;\n",
        "b=5;\n",
        "print(a+b)\n",
        "output\n",
        "15\n",
        "[ ]\n",
        "#how to find python version?\n",
        "[ ]\n",
        "print(\"hi\")\n",
        "output\n",
        "hi\n",
        "[ ]\n",
        "import sys #library\n",
        "print(\"python version\")\n",
        "print(sys.version) #methods\n",
        "output\n",
        "python version\n",
        "3.10.12 (main, Jun 11 2023, 05:26:28) [GCC 11.4.0]\n",
        "[ ]\n",
        "# variables are containers for storing data values.\n",
        "[ ]\n",
        "\n",
        "print(type(a))\n",
        "print(type(b))"
      ],
      "metadata": {
        "colab": {
          "base_uri": "https://localhost:8080/"
        },
        "id": "G2JNs7Ynue07",
        "outputId": "0abec491-d848-46d6-a207-adf7ff821c9d"
      },
      "execution_count": null,
      "outputs": [
        {
          "output_type": "stream",
          "name": "stdout",
          "text": [
            "<class 'int'>\n",
            "<class 'str'>\n"
          ]
        }
      ]
    },
    {
      "cell_type": "code",
      "source": [
        "a=\"5\"\n",
        "print(type(a))"
      ],
      "metadata": {
        "colab": {
          "base_uri": "https://localhost:8080/"
        },
        "id": "poKYoHu3vS89",
        "outputId": "c05df142-9fe2-423d-f332-c8685095395e"
      },
      "execution_count": null,
      "outputs": [
        {
          "output_type": "stream",
          "name": "stdout",
          "text": [
            "<class 'str'>\n"
          ]
        }
      ]
    },
    {
      "cell_type": "code",
      "source": [
        "# type casting\n",
        "a=6\n",
        "b=str(6)\n",
        "print(b)\n",
        "print(type(b))"
      ],
      "metadata": {
        "colab": {
          "base_uri": "https://localhost:8080/"
        },
        "id": "ltfbccK_voqh",
        "outputId": "d3684442-8ca1-46b2-db1c-2a229634ecfd"
      },
      "execution_count": null,
      "outputs": [
        {
          "output_type": "stream",
          "name": "stdout",
          "text": [
            "6\n",
            "<class 'str'>\n"
          ]
        }
      ]
    },
    {
      "cell_type": "code",
      "source": [
        "a=20\n",
        "b=float(a)\n",
        "print(b)\n",
        "print(type(b))"
      ],
      "metadata": {
        "colab": {
          "base_uri": "https://localhost:8080/"
        },
        "id": "kOCrQi5hvwzc",
        "outputId": "7a713eac-2c28-4ded-8f6c-7ece388504d0"
      },
      "execution_count": null,
      "outputs": [
        {
          "output_type": "stream",
          "name": "stdout",
          "text": [
            "20.0\n",
            "<class 'float'>\n"
          ]
        }
      ]
    },
    {
      "cell_type": "code",
      "source": [
        "# operators are used to perform operations on variables and values.\n",
        "print(10%7)"
      ],
      "metadata": {
        "colab": {
          "base_uri": "https://localhost:8080/"
        },
        "id": "xPxmc0uFwF3p",
        "outputId": "33522faf-4bd3-4ec1-ab0c-6c4197150646"
      },
      "execution_count": null,
      "outputs": [
        {
          "output_type": "stream",
          "name": "stdout",
          "text": [
            "3\n"
          ]
        }
      ]
    },
    {
      "cell_type": "code",
      "source": [
        "#arithmetic operators\n",
        "# +\n",
        "# -\n",
        "# %\n",
        "# **"
      ],
      "metadata": {
        "id": "W1xgMKECxcvG"
      },
      "execution_count": null,
      "outputs": []
    },
    {
      "cell_type": "code",
      "source": [
        "# comparision operators\n",
        "# == equal\n",
        "# != not eql\n",
        "# >\n",
        "# <"
      ],
      "metadata": {
        "id": "eh9aSHIhyA3Y"
      },
      "execution_count": null,
      "outputs": []
    },
    {
      "cell_type": "code",
      "source": [
        "# assignment operators\n",
        "# =  x=5\n",
        "# += x+=4\n",
        "# -= x-=5"
      ],
      "metadata": {
        "id": "jw0m0vPNyWyD"
      },
      "execution_count": null,
      "outputs": []
    },
    {
      "cell_type": "code",
      "source": [
        "# area of circle\n",
        "pi=3.14\n",
        "r=float(input(\"enter radius value: \"))\n",
        "A=pi * r**2\n",
        "print(A)"
      ],
      "metadata": {
        "colab": {
          "base_uri": "https://localhost:8080/"
        },
        "id": "BVacBCv1yzo4",
        "outputId": "2371a558-b85c-4ccc-e75f-5e2757c0abf6"
      },
      "execution_count": null,
      "outputs": [
        {
          "output_type": "stream",
          "name": "stdout",
          "text": [
            "enter radius value: 10\n",
            "314.0\n"
          ]
        }
      ]
    },
    {
      "cell_type": "code",
      "source": [
        "a=\"Python is basic and Python is easy and Python is not dynamic\"\n",
        "print(a.count(\"Python\"))"
      ],
      "metadata": {
        "colab": {
          "base_uri": "https://localhost:8080/"
        },
        "id": "BV18wruv1-be",
        "outputId": "8b268144-327f-4590-de0c-92a1bc491c5f"
      },
      "execution_count": null,
      "outputs": [
        {
          "output_type": "stream",
          "name": "stdout",
          "text": [
            "3\n"
          ]
        }
      ]
    },
    {
      "cell_type": "code",
      "source": [
        "# data structures in python\n",
        "# storage that used to store and organize data\n",
        "# lists\n",
        "# tuple\n",
        "# sets\n",
        "# dictionaries"
      ],
      "metadata": {
        "id": "QOB5SjQ82OQn"
      },
      "execution_count": null,
      "outputs": []
    },
    {
      "cell_type": "code",
      "source": [
        "# list is an ordered collection of items enclosed with square barckets ([]).\n",
        "# allow to store and manipulate values of different data types in a single variable.\n",
        "list = [\"dileep\",\"kumar\",\"reddy\"]"
      ],
      "metadata": {
        "id": "1KfiugXX3zow"
      },
      "execution_count": null,
      "outputs": []
    },
    {
      "cell_type": "code",
      "source": [
        "list[0]"
      ],
      "metadata": {
        "colab": {
          "base_uri": "https://localhost:8080/",
          "height": 36
        },
        "id": "lnNvB55A3Swo",
        "outputId": "efaffc1b-b710-482f-81b0-81ad41e40184"
      },
      "execution_count": null,
      "outputs": [
        {
          "output_type": "execute_result",
          "data": {
            "text/plain": [
              "'dileep'"
            ],
            "application/vnd.google.colaboratory.intrinsic+json": {
              "type": "string"
            }
          },
          "metadata": {},
          "execution_count": 2
        }
      ]
    },
    {
      "cell_type": "code",
      "source": [
        "l=[\"hi\",\"hello\"]\n",
        "l.append(\"gm\")\n",
        "print(l)"
      ],
      "metadata": {
        "colab": {
          "base_uri": "https://localhost:8080/"
        },
        "id": "Mp3-ONSs33y5",
        "outputId": "3e5f1270-d9e5-4c5c-e2d8-b4ac12da76fb"
      },
      "execution_count": null,
      "outputs": [
        {
          "output_type": "stream",
          "name": "stdout",
          "text": [
            "['hi', 'hello', 'gm']\n"
          ]
        }
      ]
    },
    {
      "cell_type": "code",
      "source": [
        "l=[\"hi\",\"hello\"]\n",
        "l[0]=\"buddy\"\n",
        "print(l)"
      ],
      "metadata": {
        "colab": {
          "base_uri": "https://localhost:8080/"
        },
        "id": "llK0I5oA5UIp",
        "outputId": "fc7cc2ee-7844-49ed-d731-a9a8472030c5"
      },
      "execution_count": null,
      "outputs": [
        {
          "output_type": "stream",
          "name": "stdout",
          "text": [
            "['buddy', 'hello']\n"
          ]
        }
      ]
    },
    {
      "cell_type": "code",
      "source": [
        "l.insert(2,\"whats up\")"
      ],
      "metadata": {
        "id": "q4TnB_e95iZ2"
      },
      "execution_count": null,
      "outputs": []
    },
    {
      "cell_type": "code",
      "source": [
        "print(l)"
      ],
      "metadata": {
        "colab": {
          "base_uri": "https://localhost:8080/"
        },
        "id": "PLK01n6_6HYs",
        "outputId": "022c2edf-7594-40e1-cfbf-780c2e31cc99"
      },
      "execution_count": null,
      "outputs": [
        {
          "output_type": "stream",
          "name": "stdout",
          "text": [
            "['buddy', 'hello', 'whats up']\n"
          ]
        }
      ]
    },
    {
      "cell_type": "code",
      "source": [
        "#adding elements\n",
        "# The append() adds in end of list\n",
        "# The insert() at specific position like(position,\"item\")"
      ],
      "metadata": {
        "id": "Uz4rUKnl6J2B"
      },
      "execution_count": null,
      "outputs": []
    },
    {
      "cell_type": "code",
      "source": [
        "a=[\"ktm\",\"bajaj\",\"tvs\",\"harley davidson\"]\n",
        "a.remove(\"tvs\")\n",
        "print(a)"
      ],
      "metadata": {
        "colab": {
          "base_uri": "https://localhost:8080/"
        },
        "id": "WQ9Y5fn56owg",
        "outputId": "7b07f952-8c2e-4394-9b5e-87f24c9eece8"
      },
      "execution_count": null,
      "outputs": [
        {
          "output_type": "stream",
          "name": "stdout",
          "text": [
            "['ktm', 'bajaj', 'harley davidson']\n"
          ]
        }
      ]
    },
    {
      "cell_type": "code",
      "source": [
        "a.pop(2)\n",
        "print(a)"
      ],
      "metadata": {
        "colab": {
          "base_uri": "https://localhost:8080/"
        },
        "id": "aE9hMLsE76rf",
        "outputId": "440884d5-7513-4f28-b47c-8d96e3117529"
      },
      "execution_count": null,
      "outputs": [
        {
          "output_type": "stream",
          "name": "stdout",
          "text": [
            "['ktm', 'bajaj']\n"
          ]
        }
      ]
    },
    {
      "cell_type": "code",
      "source": [
        "# removing elements\n",
        "# remove() method removes an item\n",
        "# pop() method removes an element at specific index and returns its value"
      ],
      "metadata": {
        "id": "o3Xd2gv_8V_l"
      },
      "execution_count": null,
      "outputs": []
    },
    {
      "cell_type": "code",
      "source": [
        "# list slicing\n",
        "# It allows you to create a new list that contains a subset of elements from the original list\n",
        "# You can specify starting index,ending index and a step value for slicing"
      ],
      "metadata": {
        "id": "jxKMJI1e8qFB"
      },
      "execution_count": null,
      "outputs": []
    },
    {
      "cell_type": "code",
      "source": [
        "a=[10,20,30,40,50,60]\n",
        "b=a[1:4]\n",
        "print(b)"
      ],
      "metadata": {
        "colab": {
          "base_uri": "https://localhost:8080/"
        },
        "id": "6V7k8bxC9e-i",
        "outputId": "42f9c705-8c7b-4904-d626-abac0e9a342e"
      },
      "execution_count": null,
      "outputs": [
        {
          "output_type": "stream",
          "name": "stdout",
          "text": [
            "[20, 30, 40]\n"
          ]
        }
      ]
    },
    {
      "cell_type": "code",
      "source": [
        "c=a[1:5:2]\n",
        "print(c)"
      ],
      "metadata": {
        "colab": {
          "base_uri": "https://localhost:8080/"
        },
        "id": "1T5FTCIL-2XO",
        "outputId": "b2050da6-d25e-486c-8d5d-c467a52c3919"
      },
      "execution_count": null,
      "outputs": [
        {
          "output_type": "stream",
          "name": "stdout",
          "text": [
            "[20, 40]\n"
          ]
        }
      ]
    },
    {
      "cell_type": "code",
      "source": [
        "# List operations\n",
        "# concatination (+)\n",
        "# Repetition (*)\n",
        "# Length of list (len())"
      ],
      "metadata": {
        "id": "YPdAnd7R--gB"
      },
      "execution_count": null,
      "outputs": []
    },
    {
      "cell_type": "code",
      "source": [
        "a=[22,33,21,56,38,78]\n",
        "b=[78,77,79,44,62,22]\n",
        "c= a+b\n",
        "print(c)\n",
        "print(a*3)"
      ],
      "metadata": {
        "colab": {
          "base_uri": "https://localhost:8080/"
        },
        "id": "FwgLwa5-_mRl",
        "outputId": "90d4b3e1-773c-48a1-89de-17c5cfa13c02"
      },
      "execution_count": null,
      "outputs": [
        {
          "output_type": "stream",
          "name": "stdout",
          "text": [
            "[22, 33, 21, 56, 38, 78, 78, 77, 79, 44, 62, 22]\n",
            "[22, 33, 21, 56, 38, 78, 22, 33, 21, 56, 38, 78, 22, 33, 21, 56, 38, 78]\n"
          ]
        }
      ]
    },
    {
      "cell_type": "code",
      "source": [
        "print(len(a))\n",
        "print(len(b))\n",
        "print(len(c))"
      ],
      "metadata": {
        "colab": {
          "base_uri": "https://localhost:8080/"
        },
        "id": "Cy44BPJJ_8Zp",
        "outputId": "75b66e73-eaa4-42ef-e20c-fd201e2f5e98"
      },
      "execution_count": null,
      "outputs": [
        {
          "output_type": "stream",
          "name": "stdout",
          "text": [
            "6\n",
            "6\n",
            "12\n"
          ]
        }
      ]
    },
    {
      "cell_type": "code",
      "source": [
        "# list methods\n",
        "d=[44,34,67,22,45,99]\n",
        "d.sort()\n",
        "print(d)\n",
        "d.reverse()\n",
        "print(d)\n",
        "print(d.count(22))\n",
        "c=d.index(67)\n",
        "print(c)\n"
      ],
      "metadata": {
        "colab": {
          "base_uri": "https://localhost:8080/"
        },
        "id": "yXtzF_epAJWm",
        "outputId": "5138e907-f595-4dd4-cd05-d59b7e3dffee"
      },
      "execution_count": null,
      "outputs": [
        {
          "output_type": "stream",
          "name": "stdout",
          "text": [
            "[22, 34, 44, 45, 67, 99]\n",
            "[99, 67, 45, 44, 34, 22]\n",
            "1\n",
            "1\n"
          ]
        }
      ]
    },
    {
      "cell_type": "code",
      "source": [
        "# Dictionary\n",
        "# It is an unordered collection of key-value pairs."
      ],
      "metadata": {
        "id": "FZmdVT8pBUtQ"
      },
      "execution_count": null,
      "outputs": []
    },
    {
      "cell_type": "code",
      "source": [
        "a={'name':'dileep','age':21,'grade':'A+'}"
      ],
      "metadata": {
        "id": "4EylD7tZdcDj"
      },
      "execution_count": null,
      "outputs": []
    },
    {
      "cell_type": "code",
      "source": [
        "a.keys()"
      ],
      "metadata": {
        "colab": {
          "base_uri": "https://localhost:8080/"
        },
        "id": "0l7NMK4neAjA",
        "outputId": "d2768d55-dcec-4567-8f25-5e427454bcf7"
      },
      "execution_count": null,
      "outputs": [
        {
          "output_type": "execute_result",
          "data": {
            "text/plain": [
              "dict_keys(['name', 'age', 'grade'])"
            ]
          },
          "metadata": {},
          "execution_count": 3
        }
      ]
    },
    {
      "cell_type": "code",
      "source": [
        "a.values()"
      ],
      "metadata": {
        "colab": {
          "base_uri": "https://localhost:8080/"
        },
        "id": "2lEVS048eD3F",
        "outputId": "de982029-26e0-46f1-f713-07842043c6d1"
      },
      "execution_count": null,
      "outputs": [
        {
          "output_type": "execute_result",
          "data": {
            "text/plain": [
              "dict_values(['dileep', 21, 'A+'])"
            ]
          },
          "metadata": {},
          "execution_count": 4
        }
      ]
    },
    {
      "cell_type": "code",
      "source": [
        "print(a['name'])"
      ],
      "metadata": {
        "colab": {
          "base_uri": "https://localhost:8080/"
        },
        "id": "pxQ84yEEeGWy",
        "outputId": "e84dc837-098c-46d7-fb80-db447f20789c"
      },
      "execution_count": null,
      "outputs": [
        {
          "output_type": "stream",
          "name": "stdout",
          "text": [
            "dileep\n"
          ]
        }
      ]
    },
    {
      "cell_type": "code",
      "source": [
        "print(a['grade'])"
      ],
      "metadata": {
        "colab": {
          "base_uri": "https://localhost:8080/"
        },
        "id": "n4ttFn2EfCvD",
        "outputId": "32074686-7b5f-41a7-f25a-40442ef8d28a"
      },
      "execution_count": null,
      "outputs": [
        {
          "output_type": "stream",
          "name": "stdout",
          "text": [
            "A+\n"
          ]
        }
      ]
    },
    {
      "cell_type": "code",
      "source": [
        "a['name']='kumar'"
      ],
      "metadata": {
        "id": "IOGJb3OLfmuQ"
      },
      "execution_count": null,
      "outputs": []
    },
    {
      "cell_type": "code",
      "source": [
        "print(a)"
      ],
      "metadata": {
        "colab": {
          "base_uri": "https://localhost:8080/"
        },
        "id": "DxrF1AnefvYU",
        "outputId": "bd61fb00-3a36-4b2e-a7f8-c3019b95b71e"
      },
      "execution_count": null,
      "outputs": [
        {
          "output_type": "stream",
          "name": "stdout",
          "text": [
            "{'name': 'kumar', 'age': 21, 'grade': 'A+'}\n"
          ]
        }
      ]
    },
    {
      "cell_type": "code",
      "source": [
        "a['depart']='Ece'\n",
        "print(a)"
      ],
      "metadata": {
        "colab": {
          "base_uri": "https://localhost:8080/"
        },
        "id": "vbvddEkufxSJ",
        "outputId": "616d0b6f-aa67-40f5-e826-206b03bba10c"
      },
      "execution_count": null,
      "outputs": [
        {
          "output_type": "stream",
          "name": "stdout",
          "text": [
            "{'name': 'kumar', 'age': 21, 'grade': 'A+', 'depart': 'Ece'}\n"
          ]
        }
      ]
    },
    {
      "cell_type": "code",
      "source": [
        "# Dictionary methods"
      ],
      "metadata": {
        "id": "aoIl9QpfgtBl"
      },
      "execution_count": null,
      "outputs": []
    },
    {
      "cell_type": "code",
      "source": [
        "print(a.keys())\n"
      ],
      "metadata": {
        "colab": {
          "base_uri": "https://localhost:8080/"
        },
        "id": "C92H7CtdhUXs",
        "outputId": "6f8408e6-5bd5-4965-9b7b-2c810a76148d"
      },
      "execution_count": null,
      "outputs": [
        {
          "output_type": "stream",
          "name": "stdout",
          "text": [
            "dict_keys(['name', 'age', 'grade', 'depart'])\n"
          ]
        }
      ]
    },
    {
      "cell_type": "code",
      "source": [
        "print(a.values())\n"
      ],
      "metadata": {
        "colab": {
          "base_uri": "https://localhost:8080/"
        },
        "id": "1mnpthT7homq",
        "outputId": "46488938-3643-4132-bb65-bfabea43400c"
      },
      "execution_count": null,
      "outputs": [
        {
          "output_type": "stream",
          "name": "stdout",
          "text": [
            "dict_values(['kumar', 21, 'A+', 'Ece'])\n"
          ]
        }
      ]
    },
    {
      "cell_type": "code",
      "source": [
        "b=a.items()\n",
        "print(b)"
      ],
      "metadata": {
        "colab": {
          "base_uri": "https://localhost:8080/"
        },
        "id": "CRocq6Moh-Df",
        "outputId": "405f8404-fe5a-4dd5-f395-ab3048929e9e"
      },
      "execution_count": null,
      "outputs": [
        {
          "output_type": "stream",
          "name": "stdout",
          "text": [
            "dict_items([('name', 'kumar'), ('age', 21), ('grade', 'A+'), ('depart', 'Ece')])\n"
          ]
        }
      ]
    },
    {
      "cell_type": "code",
      "source": [
        "for i in a:\n",
        "  print('key is: ' ,i)\n",
        "  print(a[i])"
      ],
      "metadata": {
        "colab": {
          "base_uri": "https://localhost:8080/"
        },
        "id": "8lXjxljAjxFE",
        "outputId": "f1ab789e-6c72-4c19-82b1-5e2ada3786a6"
      },
      "execution_count": null,
      "outputs": [
        {
          "output_type": "stream",
          "name": "stdout",
          "text": [
            "key is:  name\n",
            "kumar\n",
            "key is:  age\n",
            "21\n",
            "key is:  grade\n",
            "A+\n",
            "key is:  depart\n",
            "Ece\n"
          ]
        }
      ]
    },
    {
      "cell_type": "code",
      "source": [
        "# Tuple\n",
        "# It is an ordered collection of elements enclosed in paranthesis().\n",
        "# Tuples are Immutable."
      ],
      "metadata": {
        "id": "-FDf4iShkc4I"
      },
      "execution_count": null,
      "outputs": []
    },
    {
      "cell_type": "code",
      "source": [
        "d=(\"dileep\",\"kumar\",6,21,\"reddy\")\n",
        "print(d[2])"
      ],
      "metadata": {
        "colab": {
          "base_uri": "https://localhost:8080/"
        },
        "id": "MrQg6Ewlm4lt",
        "outputId": "a132a5a9-d61f-458c-cbc0-0c585a7e0e1e"
      },
      "execution_count": null,
      "outputs": [
        {
          "output_type": "stream",
          "name": "stdout",
          "text": [
            "6\n"
          ]
        }
      ]
    },
    {
      "cell_type": "code",
      "source": [
        "d[2]=7\n",
        "print(d)"
      ],
      "metadata": {
        "colab": {
          "base_uri": "https://localhost:8080/",
          "height": 192
        },
        "id": "lqOTCewLnM8e",
        "outputId": "e818edb4-6596-4f23-8114-d4415e09cf32"
      },
      "execution_count": null,
      "outputs": [
        {
          "output_type": "error",
          "ename": "TypeError",
          "evalue": "ignored",
          "traceback": [
            "\u001b[0;31m---------------------------------------------------------------------------\u001b[0m",
            "\u001b[0;31mTypeError\u001b[0m                                 Traceback (most recent call last)",
            "\u001b[0;32m<ipython-input-29-20ab32112aba>\u001b[0m in \u001b[0;36m<cell line: 1>\u001b[0;34m()\u001b[0m\n\u001b[0;32m----> 1\u001b[0;31m \u001b[0md\u001b[0m\u001b[0;34m[\u001b[0m\u001b[0;36m2\u001b[0m\u001b[0;34m]\u001b[0m\u001b[0;34m=\u001b[0m\u001b[0;36m7\u001b[0m\u001b[0;34m\u001b[0m\u001b[0;34m\u001b[0m\u001b[0m\n\u001b[0m\u001b[1;32m      2\u001b[0m \u001b[0mprint\u001b[0m\u001b[0;34m(\u001b[0m\u001b[0md\u001b[0m\u001b[0;34m)\u001b[0m\u001b[0;34m\u001b[0m\u001b[0;34m\u001b[0m\u001b[0m\n",
            "\u001b[0;31mTypeError\u001b[0m: 'tuple' object does not support item assignment"
          ]
        }
      ]
    },
    {
      "cell_type": "code",
      "source": [
        "# Tuple packing and unpacking\n",
        "# Tuple can be written without paranthesis\n",
        "a=20,100\n",
        "print(type(a))0\n",
        "x,y=a\n",
        "print(x)\n",
        "print(y)"
      ],
      "metadata": {
        "colab": {
          "base_uri": "https://localhost:8080/"
        },
        "id": "NH4zUrWxnUJO",
        "outputId": "b0d6b523-0e9d-4382-d812-4b85b9edf79b"
      },
      "execution_count": null,
      "outputs": [
        {
          "output_type": "stream",
          "name": "stdout",
          "text": [
            "<class 'tuple'>\n",
            "20\n",
            "100\n"
          ]
        }
      ]
    },
    {
      "cell_type": "code",
      "source": [
        "# Tuples as Dictionary keys:\n",
        "\n",
        "# Tuples can be used as keys in dictionaries are immutable.\n",
        "# this can be useful when u need to use multiple values as composite key.\n",
        "\n",
        "student_grade={('john','dileep'):74,('kumar','reddy'):88}\n",
        "print(student_grade.keys())"
      ],
      "metadata": {
        "id": "tv7v5xp1oZgc",
        "colab": {
          "base_uri": "https://localhost:8080/"
        },
        "outputId": "6c8ff895-094c-489c-9ea6-e1e5ec31de52"
      },
      "execution_count": null,
      "outputs": [
        {
          "output_type": "stream",
          "name": "stdout",
          "text": [
            "dict_keys([('john', 'dileep'), ('kumar', 'reddy')])\n"
          ]
        }
      ]
    },
    {
      "cell_type": "code",
      "source": [
        "# Set\n",
        "\n",
        "# It is an unordered collection of unique elements.\n",
        "# It will remove duplicates and performing mathematical operations.\n",
        "\n",
        "fruits={'apple','mango','apple','grapes'}\n",
        "print(fruits)"
      ],
      "metadata": {
        "colab": {
          "base_uri": "https://localhost:8080/"
        },
        "id": "LLwgoNz-oVCF",
        "outputId": "5ff77bc5-7d67-4b9f-de06-abfebf8af070"
      },
      "execution_count": null,
      "outputs": [
        {
          "output_type": "stream",
          "name": "stdout",
          "text": [
            "{'mango', 'apple', 'grapes'}\n"
          ]
        }
      ]
    },
    {
      "cell_type": "code",
      "source": [
        "# Set operations\n",
        "# It has Union,Intersection,Difference.\n",
        "\n",
        "s1={33,23,44,78,66}\n",
        "s2={48,57,98,78,23}\n",
        "print((s1).union(s2))\n",
        "print((s1).intersection(s2))\n",
        "print((s1).difference(s2))\n",
        "print((s2).difference(s1))"
      ],
      "metadata": {
        "colab": {
          "base_uri": "https://localhost:8080/"
        },
        "id": "AxISmWEKpQ2h",
        "outputId": "41ca7a5b-f5eb-4373-c890-3b0111a5842a"
      },
      "execution_count": null,
      "outputs": [
        {
          "output_type": "stream",
          "name": "stdout",
          "text": [
            "{33, 66, 98, 44, 78, 48, 23, 57}\n",
            "{78, 23}\n",
            "{33, 66, 44}\n",
            "{48, 57, 98}\n"
          ]
        }
      ]
    },
    {
      "cell_type": "code",
      "source": [
        "# Set methods\n",
        "# Add()\n",
        "# Remove()\n",
        "# Pop()\n",
        "# Clear()\n",
        "# Len()\n",
        "\n",
        "a={22,13,22,55,22}\n",
        "a.add(68)\n",
        "print(a)\n",
        "a.remove(22)\n",
        "print(a)\n",
        "a.pop()\n",
        "print(a)\n",
        "b=len(a)\n",
        "print(b)\n",
        "b=a.clear()\n",
        "print(b)"
      ],
      "metadata": {
        "colab": {
          "base_uri": "https://localhost:8080/"
        },
        "id": "4ZxJy-4GrWjj",
        "outputId": "e401a0a4-3325-4800-ff6d-6fb622289f59"
      },
      "execution_count": null,
      "outputs": [
        {
          "output_type": "stream",
          "name": "stdout",
          "text": [
            "{68, 13, 22, 55}\n",
            "{68, 13, 55}\n",
            "{13, 55}\n",
            "2\n",
            "None\n"
          ]
        }
      ]
    },
    {
      "cell_type": "code",
      "source": [
        "a={22,33,45,23}\n",
        "print(13 in a)\n",
        "print(22 in a)"
      ],
      "metadata": {
        "colab": {
          "base_uri": "https://localhost:8080/"
        },
        "id": "2G176uLqtxE5",
        "outputId": "ff198764-bf2c-489f-e576-26160e1b8f5d"
      },
      "execution_count": null,
      "outputs": [
        {
          "output_type": "stream",
          "name": "stdout",
          "text": [
            "False\n",
            "True\n"
          ]
        }
      ]
    },
    {
      "cell_type": "code",
      "source": [
        "# Real time examples\n",
        "# checking unique email adress: Set can be used to check for unique email adress in a list or database.\n",
        "\n",
        "email=['dileepkumarreddyjogi@gmail.com','dileepjogi66@gmail.com','dileepkumarreddyjogi@gmail.com']\n",
        "print(set(email))"
      ],
      "metadata": {
        "colab": {
          "base_uri": "https://localhost:8080/"
        },
        "id": "Gdpe4ECRuSAo",
        "outputId": "6011d459-0912-4cf7-f4df-f2c3771d37e6"
      },
      "execution_count": null,
      "outputs": [
        {
          "output_type": "stream",
          "name": "stdout",
          "text": [
            "{'dileepkumarreddyjogi@gmail.com', 'dileepjogi66@gmail.com'}\n"
          ]
        }
      ]
    },
    {
      "cell_type": "code",
      "source": [
        "# conditional Statements\n",
        "\n",
        "#If allows you to control the flow of program based on certain conditions.\n",
        "#It executes if given condition is true.\n",
        "\n",
        "# If condition:\n",
        "#   program\n"
      ],
      "metadata": {
        "id": "2Dl-XCkeybx-"
      },
      "execution_count": null,
      "outputs": []
    },
    {
      "cell_type": "code",
      "source": [
        "num =int(input(\"enter an n.o: \"))\n",
        "if num>0:\n",
        "  print(\"it is a positive n.o: \",num)\n",
        "elif num==0:\n",
        "  print(\"it is neither positive nor negative: \",num)\n",
        "else:\n",
        "  print(\"it is negative n.o: \",num)"
      ],
      "metadata": {
        "colab": {
          "base_uri": "https://localhost:8080/"
        },
        "id": "w6KMwiIyyJm8",
        "outputId": "5842d527-0b48-488a-8f03-df32eaa8577e"
      },
      "execution_count": null,
      "outputs": [
        {
          "output_type": "stream",
          "name": "stdout",
          "text": [
            "enter an n.o: 0\n",
            "it is neither positive nor negative:  0\n"
          ]
        }
      ]
    },
    {
      "cell_type": "code",
      "source": [
        "# For loop\n",
        "\n",
        "# It is used to iterate over a sequence of elements such as list,tuple,string,or other iterable objects.\n",
        "# It allows you to perform a certain set of actions repeatedly for each element in the sequence."
      ],
      "metadata": {
        "id": "2nVt_FUCy1JL"
      },
      "execution_count": null,
      "outputs": []
    },
    {
      "cell_type": "code",
      "source": [
        "a=[22,45,67,88]\n",
        "for i in a:\n",
        "  print(i)"
      ],
      "metadata": {
        "colab": {
          "base_uri": "https://localhost:8080/"
        },
        "id": "6sm3PAFf1Yih",
        "outputId": "e4792a02-932d-4651-a2f8-5b0cccba7be8"
      },
      "execution_count": null,
      "outputs": [
        {
          "output_type": "stream",
          "name": "stdout",
          "text": [
            "22\n",
            "45\n",
            "67\n",
            "88\n"
          ]
        }
      ]
    },
    {
      "cell_type": "code",
      "source": [
        "for i in range(1,10):\n",
        "  if i%2==0:\n",
        "    print(i,\": It is even n.o\")\n",
        "  else:\n",
        "    print(i,\": it is odd n.o\")"
      ],
      "metadata": {
        "colab": {
          "base_uri": "https://localhost:8080/"
        },
        "id": "B4JZYUCT1eot",
        "outputId": "39193c9e-bedd-43e7-e6fb-8829eff7a028"
      },
      "execution_count": null,
      "outputs": [
        {
          "output_type": "stream",
          "name": "stdout",
          "text": [
            "1 : it is odd n.o\n",
            "2 : It is even n.o\n",
            "3 : it is odd n.o\n",
            "4 : It is even n.o\n",
            "5 : it is odd n.o\n",
            "6 : It is even n.o\n",
            "7 : it is odd n.o\n",
            "8 : It is even n.o\n",
            "9 : it is odd n.o\n"
          ]
        }
      ]
    },
    {
      "cell_type": "code",
      "source": [
        "fruits=[\"apple\",\"banana\",\"kiwi\",\"custard apple\"]\n",
        "for i in fruits:\n",
        "  print(i)\n"
      ],
      "metadata": {
        "colab": {
          "base_uri": "https://localhost:8080/"
        },
        "id": "pHVwBbDN2eng",
        "outputId": "451b1a75-c902-4d76-dbe0-6d6f1351ef29"
      },
      "execution_count": null,
      "outputs": [
        {
          "output_type": "stream",
          "name": "stdout",
          "text": [
            "apple\n",
            "banana\n",
            "kiwi\n",
            "custard apple\n"
          ]
        }
      ]
    },
    {
      "cell_type": "code",
      "source": [
        "numbers=[1,2,3,4,5]\n",
        "sum=0\n",
        "for i in numbers:\n",
        "  sum=sum+i\n",
        "print(\"sum is: \",sum)\n"
      ],
      "metadata": {
        "colab": {
          "base_uri": "https://localhost:8080/"
        },
        "id": "6le2uJDj4f4H",
        "outputId": "c8919d6d-17b0-4d7d-8f06-855998127df1"
      },
      "execution_count": null,
      "outputs": [
        {
          "output_type": "stream",
          "name": "stdout",
          "text": [
            "sum is:  15\n"
          ]
        }
      ]
    },
    {
      "cell_type": "code",
      "source": [
        "# While loop\n",
        "# It is used to execute a set of statements as long as a given conditions is true.\n",
        "# It allows you to repeat a block of code until the condition become false"
      ],
      "metadata": {
        "id": "PT3McQoD5ccD"
      },
      "execution_count": null,
      "outputs": []
    },
    {
      "cell_type": "code",
      "source": [
        "i=1\n",
        "while i<10:\n",
        "  print(i)\n",
        "  i+=1"
      ],
      "metadata": {
        "colab": {
          "base_uri": "https://localhost:8080/"
        },
        "id": "JkGUNAZG7uwb",
        "outputId": "018c7a6b-30b1-4826-9f33-dc62ee6fac36"
      },
      "execution_count": null,
      "outputs": [
        {
          "output_type": "stream",
          "name": "stdout",
          "text": [
            "1\n",
            "2\n",
            "3\n",
            "4\n",
            "5\n",
            "6\n",
            "7\n",
            "8\n",
            "9\n"
          ]
        }
      ]
    },
    {
      "cell_type": "code",
      "source": [
        "# calculate sum from 1 to 10 using while loop\n",
        "\n",
        "i=1\n",
        "sum=0\n",
        "while i<=10:\n",
        "  sum=sum+i\n",
        "  i+=1\n",
        "print(sum)"
      ],
      "metadata": {
        "id": "y87B_SlS70Zu",
        "colab": {
          "base_uri": "https://localhost:8080/"
        },
        "outputId": "d5c39163-6093-425f-9a25-4f05d547acf8"
      },
      "execution_count": null,
      "outputs": [
        {
          "output_type": "stream",
          "name": "stdout",
          "text": [
            "55\n"
          ]
        }
      ]
    },
    {
      "cell_type": "code",
      "source": [
        "# Break\n",
        "\n",
        "# Used to exit a loop prematurely,reagardless of whether the loop condition is still true."
      ],
      "metadata": {
        "id": "QuhB1zQ16qHT"
      },
      "execution_count": null,
      "outputs": []
    },
    {
      "cell_type": "code",
      "source": [
        "num=[1,3,5,7,6,9,10]\n",
        "for i in num:\n",
        "  if i%2==0:\n",
        "    print(\"first even n.o is : \",i)\n",
        "    break;\n"
      ],
      "metadata": {
        "colab": {
          "base_uri": "https://localhost:8080/"
        },
        "id": "gAcpx79L9Exj",
        "outputId": "16368ea2-ca43-4574-cbfe-d5cba8b83ea9"
      },
      "execution_count": null,
      "outputs": [
        {
          "output_type": "stream",
          "name": "stdout",
          "text": [
            "first even n.o is :  6\n"
          ]
        }
      ]
    },
    {
      "cell_type": "code",
      "source": [
        "# continue\n",
        "\n",
        "# The continue statement is used to skip the rest of current iterate and move to nxt iteration loop."
      ],
      "metadata": {
        "id": "RH0AJ7W49fGJ"
      },
      "execution_count": null,
      "outputs": []
    },
    {
      "cell_type": "code",
      "source": [
        "a=[\"moon\",\"moon\",\"star\",\"moon\",\"star\",\"moon\"]\n",
        "for i in a:\n",
        "  if i==\"star\":\n",
        "    continue\n",
        "print(i)\n"
      ],
      "metadata": {
        "colab": {
          "base_uri": "https://localhost:8080/"
        },
        "id": "Zh5uQ7hD-v7F",
        "outputId": "9e52efc2-6a0a-448b-b940-7e4c48bbaa01"
      },
      "execution_count": null,
      "outputs": [
        {
          "output_type": "stream",
          "name": "stdout",
          "text": [
            "moon\n"
          ]
        }
      ]
    },
    {
      "cell_type": "code",
      "source": [
        "num=[1,2,3,4,5,6,7,8,9,10]\n",
        "for i in num:\n",
        "  if i%2==0:\n",
        "    continue\n",
        "  print(i)\n"
      ],
      "metadata": {
        "colab": {
          "base_uri": "https://localhost:8080/"
        },
        "id": "tbZr-XCU_sRW",
        "outputId": "c66058dc-d3a5-422d-bf32-d0f67c03c77b"
      },
      "execution_count": null,
      "outputs": [
        {
          "output_type": "stream",
          "name": "stdout",
          "text": [
            "1\n",
            "3\n",
            "5\n",
            "7\n",
            "9\n"
          ]
        }
      ]
    },
    {
      "cell_type": "code",
      "source": [
        "# range\n",
        "\n",
        "# range() is used to generate a sequence of numbers that can used in loops.\n",
        "# It can take upto three arguments: start, stop, and step."
      ],
      "metadata": {
        "id": "fbOw9Kc8ABLF"
      },
      "execution_count": null,
      "outputs": []
    },
    {
      "cell_type": "code",
      "source": [
        "for i in range(1,10,2):\n",
        "  print(i)"
      ],
      "metadata": {
        "colab": {
          "base_uri": "https://localhost:8080/"
        },
        "id": "X0OAkNpUBGVr",
        "outputId": "519ea793-4d08-4e1a-abd9-b54bd2b65d27"
      },
      "execution_count": null,
      "outputs": [
        {
          "output_type": "stream",
          "name": "stdout",
          "text": [
            "1\n",
            "3\n",
            "5\n",
            "7\n",
            "9\n"
          ]
        }
      ]
    },
    {
      "cell_type": "code",
      "source": [
        "for i in range(5,11):\n",
        "  print(i)"
      ],
      "metadata": {
        "colab": {
          "base_uri": "https://localhost:8080/"
        },
        "id": "pAwI6pNBBLfg",
        "outputId": "4232025c-2191-4e6d-8235-df7509ecc8f7"
      },
      "execution_count": null,
      "outputs": [
        {
          "output_type": "stream",
          "name": "stdout",
          "text": [
            "5\n",
            "6\n",
            "7\n",
            "8\n",
            "9\n",
            "10\n"
          ]
        }
      ]
    },
    {
      "cell_type": "code",
      "source": [
        "# Assert\n",
        "\n",
        "\n",
        "# It is used to check if a condition is true.If the condition is false,it raises an assertion error exception,\n",
        "# Indicating that something unexpected or incorrect has occured."
      ],
      "metadata": {
        "id": "wbbXptWXBjp0"
      },
      "execution_count": null,
      "outputs": []
    },
    {
      "cell_type": "code",
      "source": [
        "num=-2\n",
        "assert num>0, \"the n.o should be positive\"\n",
        "print(num)"
      ],
      "metadata": {
        "colab": {
          "base_uri": "https://localhost:8080/",
          "height": 210
        },
        "id": "aW3Orm5CC47r",
        "outputId": "d48c95d1-3ca2-4516-b4f7-229a91510de5"
      },
      "execution_count": null,
      "outputs": [
        {
          "output_type": "error",
          "ename": "AssertionError",
          "evalue": "ignored",
          "traceback": [
            "\u001b[0;31m---------------------------------------------------------------------------\u001b[0m",
            "\u001b[0;31mAssertionError\u001b[0m                            Traceback (most recent call last)",
            "\u001b[0;32m<ipython-input-29-7852b0dd8fe8>\u001b[0m in \u001b[0;36m<cell line: 2>\u001b[0;34m()\u001b[0m\n\u001b[1;32m      1\u001b[0m \u001b[0mnum\u001b[0m\u001b[0;34m=\u001b[0m\u001b[0;34m-\u001b[0m\u001b[0;36m2\u001b[0m\u001b[0;34m\u001b[0m\u001b[0;34m\u001b[0m\u001b[0m\n\u001b[0;32m----> 2\u001b[0;31m \u001b[0;32massert\u001b[0m \u001b[0mnum\u001b[0m\u001b[0;34m>\u001b[0m\u001b[0;36m0\u001b[0m\u001b[0;34m,\u001b[0m \u001b[0;34m\"the n.o should be positive\"\u001b[0m\u001b[0;34m\u001b[0m\u001b[0;34m\u001b[0m\u001b[0m\n\u001b[0m\u001b[1;32m      3\u001b[0m \u001b[0mprint\u001b[0m\u001b[0;34m(\u001b[0m\u001b[0mnum\u001b[0m\u001b[0;34m)\u001b[0m\u001b[0;34m\u001b[0m\u001b[0;34m\u001b[0m\u001b[0m\n",
            "\u001b[0;31mAssertionError\u001b[0m: the n.o should be positive"
          ]
        }
      ]
    },
    {
      "cell_type": "code",
      "source": [
        "a=[1,2,3,4,5]\n",
        "b=[1,2,3,4,5]\n",
        "if a==b:\n",
        "  print(\"both list are equal\")\n",
        "else:\n",
        "  print(\"not equal\")"
      ],
      "metadata": {
        "colab": {
          "base_uri": "https://localhost:8080/"
        },
        "id": "qCr0N9xoDPVE",
        "outputId": "51628e9f-7cc4-4cad-a39c-18590fc87c67"
      },
      "execution_count": null,
      "outputs": [
        {
          "output_type": "stream",
          "name": "stdout",
          "text": [
            "both list are equal\n"
          ]
        }
      ]
    },
    {
      "cell_type": "code",
      "source": [
        "a=[1,2,3,4,5]\n",
        "b=[1,2,3,5,4]\n",
        "b.sort()\n",
        "if a==b:\n",
        "  print(\"both lists are equal\")\n",
        "else:\n",
        "  print(\"not equal\")"
      ],
      "metadata": {
        "colab": {
          "base_uri": "https://localhost:8080/"
        },
        "id": "LfHnk8hvEIIP",
        "outputId": "81cc04d4-25d0-4fb6-8b97-4c7ecbc54bad"
      },
      "execution_count": null,
      "outputs": [
        {
          "output_type": "stream",
          "name": "stdout",
          "text": [
            "both lists are equal\n"
          ]
        }
      ]
    },
    {
      "cell_type": "code",
      "source": [],
      "metadata": {
        "id": "M7Rv3cM6E21h"
      },
      "execution_count": null,
      "outputs": []
    },
    {
      "cell_type": "code",
      "source": [
        "num=[4,2,9,7,5]\n",
        "c=max(num)\n",
        "print(c)"
      ],
      "metadata": {
        "id": "9SM_XJ-0G3vY",
        "colab": {
          "base_uri": "https://localhost:8080/"
        },
        "outputId": "349bcfcc-c166-43f7-f1d4-f1eb92767ae1"
      },
      "execution_count": null,
      "outputs": [
        {
          "output_type": "stream",
          "name": "stdout",
          "text": [
            "9\n"
          ]
        }
      ]
    },
    {
      "cell_type": "code",
      "source": [],
      "metadata": {
        "id": "QbOFOA9AXeOg"
      },
      "execution_count": null,
      "outputs": []
    },
    {
      "cell_type": "code",
      "source": [
        "num=[4,2,10,7,5,12]\n",
        "max=num[0]\n",
        "for i in num:\n",
        "  if i>max:\n",
        "    max=i\n",
        "    print(\"maximum n.o is: \",max)"
      ],
      "metadata": {
        "colab": {
          "base_uri": "https://localhost:8080/"
        },
        "id": "jptmBP5jZBHP",
        "outputId": "7aeabbac-9c13-406d-d8e3-9a269ee4c25e"
      },
      "execution_count": null,
      "outputs": [
        {
          "output_type": "stream",
          "name": "stdout",
          "text": [
            "maximum n.o is:  10\n",
            "maximum n.o is:  12\n"
          ]
        }
      ]
    },
    {
      "cell_type": "code",
      "source": [
        "# Function\n",
        "\n",
        "# It is a reusable block of code that performs a specific task.\n",
        "# It allows you to breakdown your code into smaller,easier to understand.*"
      ],
      "metadata": {
        "id": "XOD8Z8vjZzW3"
      },
      "execution_count": null,
      "outputs": []
    },
    {
      "cell_type": "code",
      "source": [
        "def greet(name):\n",
        "  print(\"hi morning\",name)\n",
        "greet(\"dileep\")"
      ],
      "metadata": {
        "colab": {
          "base_uri": "https://localhost:8080/"
        },
        "id": "Fd4SN09aag4F",
        "outputId": "32a0443b-465f-40f0-fd84-d48195209974"
      },
      "execution_count": null,
      "outputs": [
        {
          "output_type": "stream",
          "name": "stdout",
          "text": [
            "hi morning dileep\n"
          ]
        }
      ]
    },
    {
      "cell_type": "code",
      "source": [
        "def mul(a,b):\n",
        "  print(\"the multiplied value is:\",a*b )\n",
        "mul(2,3)"
      ],
      "metadata": {
        "colab": {
          "base_uri": "https://localhost:8080/"
        },
        "id": "8KpPZzG4avAP",
        "outputId": "24916001-6201-4119-fe2c-af0cbc199c56"
      },
      "execution_count": null,
      "outputs": [
        {
          "output_type": "stream",
          "name": "stdout",
          "text": [
            "the multiplied value is: 6\n"
          ]
        }
      ]
    },
    {
      "cell_type": "code",
      "source": [
        "def greet(name):\n",
        "  print(\"hello\",name,\"welcome\")\n",
        "greet(\"dileep\")"
      ],
      "metadata": {
        "colab": {
          "base_uri": "https://localhost:8080/"
        },
        "id": "XUc1_Uofckon",
        "outputId": "8487ba89-e345-4feb-8355-2b5dc9b884ec"
      },
      "execution_count": null,
      "outputs": [
        {
          "output_type": "stream",
          "name": "stdout",
          "text": [
            "hello dileep welcome\n"
          ]
        }
      ]
    },
    {
      "cell_type": "code",
      "source": [
        "def mul(a,b):\n",
        "  res=a*b\n",
        "  return res\n",
        "res=mul(3,4)\n",
        "print(res)"
      ],
      "metadata": {
        "colab": {
          "base_uri": "https://localhost:8080/"
        },
        "id": "9XqOmEK-cx7-",
        "outputId": "ba47f890-4d26-421a-df66-c77140f8315d"
      },
      "execution_count": null,
      "outputs": [
        {
          "output_type": "stream",
          "name": "stdout",
          "text": [
            "12\n"
          ]
        }
      ]
    },
    {
      "cell_type": "code",
      "source": [
        "def movies(m1,m2,m3,m4):\n",
        "  print(\"movies are:\",[m1,m2,m3,m4])\n",
        "movies(\"leo\",\"bhagavath kesari\",\"tigernageswarrao\",\"gunturkaaram\")"
      ],
      "metadata": {
        "colab": {
          "base_uri": "https://localhost:8080/"
        },
        "id": "Cx8f5yeddyxb",
        "outputId": "3747a7c1-197f-4ba3-e368-5751055eb743"
      },
      "execution_count": null,
      "outputs": [
        {
          "output_type": "stream",
          "name": "stdout",
          "text": [
            "movies are: ['leo', 'bhagavath kesari', 'tigernageswarrao', 'gunturkaaram']\n"
          ]
        }
      ]
    },
    {
      "cell_type": "code",
      "source": [
        "def add(a,b):\n",
        "  print(\"addition of n.o's  are:\",a+b)\n",
        "add(4,5)"
      ],
      "metadata": {
        "colab": {
          "base_uri": "https://localhost:8080/"
        },
        "id": "EXnATPObft-N",
        "outputId": "aae397de-41a6-4256-e422-2e0ef3536096"
      },
      "execution_count": null,
      "outputs": [
        {
          "output_type": "stream",
          "name": "stdout",
          "text": [
            "addition of n.o's  are: 9\n"
          ]
        }
      ]
    },
    {
      "cell_type": "code",
      "source": [
        "def bikes(cmpy):\n",
        "  print(\"bikes are: \",cmpy)\n",
        "a=[\"ktm\",\"bajaj\",\"tvs\",\"bmw\"]\n",
        "bikes(a)"
      ],
      "metadata": {
        "id": "apy3qOrThsvL",
        "colab": {
          "base_uri": "https://localhost:8080/"
        },
        "outputId": "a6ac2672-e4a3-4673-9ff3-8209bb4b666b"
      },
      "execution_count": null,
      "outputs": [
        {
          "output_type": "stream",
          "name": "stdout",
          "text": [
            "bikes are:  ['ktm', 'bajaj', 'tvs', 'bmw']\n"
          ]
        }
      ]
    },
    {
      "cell_type": "code",
      "source": [
        "# Positional Arguments\n",
        "\n",
        "def car(name,model):\n",
        "  print(name,\"model is:\",model)\n",
        "car(\"mahindra\",\"xuv700\")"
      ],
      "metadata": {
        "id": "ab__kf_5gAV9",
        "colab": {
          "base_uri": "https://localhost:8080/"
        },
        "outputId": "e0285287-a7bb-4e1d-f301-802aeadcffdb"
      },
      "execution_count": null,
      "outputs": [
        {
          "output_type": "stream",
          "name": "stdout",
          "text": [
            "mahindra model is: xuv700\n"
          ]
        }
      ]
    },
    {
      "cell_type": "code",
      "source": [
        "# Keyword Arguments\n",
        "\n",
        "def bike(name,model):\n",
        "  print(name,\"model is: \",model)\n",
        "bike(model=\"duke200\",name=\"ktm\")"
      ],
      "metadata": {
        "colab": {
          "base_uri": "https://localhost:8080/"
        },
        "id": "I68f_1ghhnzm",
        "outputId": "1715a5b0-19a8-4512-f4c7-96d3f6ffad52"
      },
      "execution_count": null,
      "outputs": [
        {
          "output_type": "stream",
          "name": "stdout",
          "text": [
            "ktm model is:  duke200\n"
          ]
        }
      ]
    },
    {
      "cell_type": "code",
      "source": [
        "# Default Arguments\n",
        "\n",
        "def mobile(name,model=\"15promax\"):\n",
        "  print(name,\"model is:\",model)\n",
        "mobile(\"iphone\")"
      ],
      "metadata": {
        "colab": {
          "base_uri": "https://localhost:8080/"
        },
        "id": "mhUV7oOtiXqT",
        "outputId": "04f4a56e-ef78-4f95-914a-2fd221b6f24f"
      },
      "execution_count": null,
      "outputs": [
        {
          "output_type": "stream",
          "name": "stdout",
          "text": [
            "iphone model is: 15promax\n"
          ]
        }
      ]
    },
    {
      "cell_type": "code",
      "source": [
        "# Optional Arguments\n",
        "\n",
        "def calendar(year,month,date=''):\n",
        "  print(year,'/',month,'/',date)\n",
        "calendar(17,10,2023)\n"
      ],
      "metadata": {
        "colab": {
          "base_uri": "https://localhost:8080/"
        },
        "id": "Yk-LxD3Yi9FR",
        "outputId": "3c4bda34-7750-48ee-e112-ab5bda9dc16d"
      },
      "execution_count": null,
      "outputs": [
        {
          "output_type": "stream",
          "name": "stdout",
          "text": [
            "17 / 10 / 2023\n"
          ]
        }
      ]
    },
    {
      "cell_type": "code",
      "source": [
        "# Arbitary Arguments\n",
        "\n",
        "def mobiles(*list):\n",
        "  print(list)\n",
        "mobiles(\"15promax\",\"s24 ultra\",\"iqoo12\",\"oneplus12R\",\"foldablephn\")"
      ],
      "metadata": {
        "colab": {
          "base_uri": "https://localhost:8080/"
        },
        "id": "tBdcl0MMkCg3",
        "outputId": "92ee3347-4131-4719-c0c5-d8159410c0de"
      },
      "execution_count": null,
      "outputs": [
        {
          "output_type": "stream",
          "name": "stdout",
          "text": [
            "('15promax', 's24 ultra', 'iqoo12', 'oneplus12R', 'foldablephn')\n"
          ]
        }
      ]
    },
    {
      "cell_type": "code",
      "source": [
        "# Nested functions\n",
        "\n",
        "def f1():\n",
        "  a=\"dileep\"\n",
        "  def f2():\n",
        "    print(a)\n",
        "  f2()\n",
        "f1()"
      ],
      "metadata": {
        "colab": {
          "base_uri": "https://localhost:8080/"
        },
        "id": "whX-czyGlFre",
        "outputId": "22a4041a-42c4-4045-b468-86d28ba255b8"
      },
      "execution_count": null,
      "outputs": [
        {
          "output_type": "stream",
          "name": "stdout",
          "text": [
            "dileep\n"
          ]
        }
      ]
    },
    {
      "cell_type": "code",
      "source": [
        "# A certain print Order costs 3.00per copy for order of less than ten copies,$1.25 for orders of 10-99 copies,and $0.90 per copy for orders of 100 copies or more.\n",
        "# Write a code that return a total price for the order\n",
        "a=int(input(\"enter n.o of copies: \"))\n",
        "if a<10:\n",
        "  print(\"the total cost is:\",a*3.00)\n",
        "elif a<100:\n",
        "  print(\"the total cost is:\",a*1.25)\n",
        "else:\n",
        "  print(\"the total cost is:\",a*0.90)"
      ],
      "metadata": {
        "colab": {
          "base_uri": "https://localhost:8080/"
        },
        "id": "uCsCCmpAmPhD",
        "outputId": "cc20b9ce-6b87-46a2-acd4-e35286ef1b3e"
      },
      "execution_count": null,
      "outputs": [
        {
          "output_type": "stream",
          "name": "stdout",
          "text": [
            "enter n.o of copies: 10000000000000000\n",
            "the total cost is: 9000000000000000.0\n"
          ]
        }
      ]
    },
    {
      "cell_type": "code",
      "source": [
        "def add(a,b):\n",
        "  print(\"the addition value is: \",a+b)\n",
        "def sub(a,b):\n",
        "  print(\"the subtraction value is: \",a-b)\n",
        "def mul(a,b):\n",
        "  print(\"the multiplied value is :\",a*b)\n",
        "def div(a,b):\n",
        "  print(\"the divided value is: \",a/b)\n",
        "add(2,3)\n",
        "mul(4,8)\n",
        "sub(9,3)\n",
        "div(6,3)"
      ],
      "metadata": {
        "colab": {
          "base_uri": "https://localhost:8080/"
        },
        "id": "miABqcvxpJNq",
        "outputId": "0aeca925-43da-4215-fa97-b49dda9810bc"
      },
      "execution_count": null,
      "outputs": [
        {
          "output_type": "stream",
          "name": "stdout",
          "text": [
            "the addition value is:  5\n",
            "the multiplied value is : 32\n",
            "the subtraction value is:  6\n",
            "the divided value is:  2.0\n"
          ]
        }
      ]
    },
    {
      "cell_type": "code",
      "source": [
        "# Operators\n",
        "# These are symbols or special characters that perform various operations on values or variables.\n",
        "# Used to perform arithmetic calculations,comapare values.\n",
        "# diff types are\n",
        "\n",
        "# Arithmetic Operators\n",
        "\n",
        "# Addition\n",
        "# subtraction\n",
        "# multiplication\n",
        "# Div : /\n",
        "# Floor div ://\n",
        "# Modulus : %\n",
        "# Exponentation :**"
      ],
      "metadata": {
        "id": "z5qAz0EPsGji"
      },
      "execution_count": null,
      "outputs": []
    },
    {
      "cell_type": "code",
      "source": [
        "# Assignment Operators\n",
        "\n",
        "# assig :=\n",
        "# Add assig :+=\n",
        "# Sub assig :-=\n",
        "# Mul assig :*=\n",
        "# div assig :/=\n",
        "# Modulo assig :%=\n"
      ],
      "metadata": {
        "id": "aYKuAvUatAkR"
      },
      "execution_count": null,
      "outputs": []
    },
    {
      "cell_type": "code",
      "source": [
        "# Comparision Operators\n",
        "\n",
        "# Equal to :==\n",
        "# Not equal :!=\n",
        "# Greater than :>\n",
        "# Less than :<\n",
        "# greater than or equal to :>=\n",
        "# Less Than or Equal to :<=\n",
        "\n",
        "# Data type of  output will be Boolean"
      ],
      "metadata": {
        "id": "ZIicljAutzaV"
      },
      "execution_count": null,
      "outputs": []
    },
    {
      "cell_type": "code",
      "source": [
        "# Logical Operators\n",
        "\n",
        "# Logical And :And\n",
        "# Logical or :OR\n",
        "# Logical not :NOT"
      ],
      "metadata": {
        "id": "cRKelSkSux7b"
      },
      "execution_count": null,
      "outputs": []
    },
    {
      "cell_type": "code",
      "source": [
        "# Membership Operators\n",
        "\n",
        "# In : evaluates values present\n",
        "# Not In : Evaluates values is not present"
      ],
      "metadata": {
        "id": "ia8CragZvGa2"
      },
      "execution_count": null,
      "outputs": []
    },
    {
      "cell_type": "code",
      "source": [
        "# Identity Operators\n",
        "\n",
        "# Is : Evaluates if two variables refer to same object.\n",
        "# Is Not : Evaluates if two variables to diff objects."
      ],
      "metadata": {
        "id": "l6wsTtm_vscZ"
      },
      "execution_count": null,
      "outputs": []
    },
    {
      "cell_type": "code",
      "source": [
        "# Unary Opeartors\n",
        "\n",
        "# Unary Plus: +\n",
        "# Unary Minus :-\n"
      ],
      "metadata": {
        "id": "Seee9pkpwHae"
      },
      "execution_count": null,
      "outputs": []
    },
    {
      "cell_type": "code",
      "source": [
        "# Exception handling\n",
        "\n",
        "# Exception handling in python allows you to handle and manage runtime errorsand exceptional situations that may occur during execution of code.\n",
        "\n",
        "try:\n",
        "  #code that may raise exception\n",
        "except exception type:\n",
        "  #code to handle exception\n"
      ],
      "metadata": {
        "id": "WSOFoKV7wxDP"
      },
      "execution_count": null,
      "outputs": []
    },
    {
      "cell_type": "code",
      "source": [
        "try:\n",
        "  numerator=int(input(\"enter n.o: \"))\n",
        "  denominator=int(input(\"enter n.o: \"))\n",
        "  result=numerator/denominator\n",
        "except ZeroDivisionError:\n",
        "  print(\"enter other than zero\")\n",
        "except ValueError:\n",
        "  print(\"enter only integers\")\n",
        "else:\n",
        "  print(result)\n",
        "finally:\n",
        "  print(\"code executed successfully\")\n",
        "print(type(result))"
      ],
      "metadata": {
        "colab": {
          "base_uri": "https://localhost:8080/"
        },
        "id": "maKrk10YNjch",
        "outputId": "29bc4f55-fee6-4401-f7c1-a903dc002cfb"
      },
      "execution_count": null,
      "outputs": [
        {
          "output_type": "stream",
          "name": "stdout",
          "text": [
            "enter n.o: 8\n",
            "enter n.o: 4\n",
            "2.0\n",
            "code executed successfully\n",
            "<class 'float'>\n"
          ]
        }
      ]
    },
    {
      "cell_type": "code",
      "source": [
        "try:\n",
        "  a=1\n",
        "  b=\"dileep\"\n",
        "  c=a+b\n",
        "  print(c)\n",
        "except TypeError:\n",
        "  print(\"select same datatypes to concate\")"
      ],
      "metadata": {
        "colab": {
          "base_uri": "https://localhost:8080/"
        },
        "id": "DxzvJtBIz0xE",
        "outputId": "138f8e2d-1f99-4dc6-ac7f-178c05b115c9"
      },
      "execution_count": null,
      "outputs": [
        {
          "output_type": "stream",
          "name": "stdout",
          "text": [
            "select same datatypes to concate\n"
          ]
        }
      ]
    },
    {
      "cell_type": "code",
      "source": [
        "a=input(\"enter username: \")\n",
        "b=int(input(\"enter age: \"))\n",
        "print(\"hi welcome\",a,\"of age\",b)"
      ],
      "metadata": {
        "id": "pmMqTWDw0JcS",
        "colab": {
          "base_uri": "https://localhost:8080/"
        },
        "outputId": "55163e32-53e9-4dff-8240-0c902c309480"
      },
      "execution_count": null,
      "outputs": [
        {
          "output_type": "stream",
          "name": "stdout",
          "text": [
            "enter username: dileep\n",
            "enter age: 21\n",
            "hi welcome dileep of age 21\n"
          ]
        }
      ]
    },
    {
      "cell_type": "code",
      "source": [
        "l=[1,2,3,4,2,3,4,7]\n",
        "a=set(l)\n",
        "c=list(a)\n",
        "print(c)"
      ],
      "metadata": {
        "id": "kJaBkSgt_WnE",
        "colab": {
          "base_uri": "https://localhost:8080/"
        },
        "outputId": "f68dcc24-66f5-400d-ba8c-436cf7bbcc22"
      },
      "execution_count": null,
      "outputs": [
        {
          "output_type": "stream",
          "name": "stdout",
          "text": [
            "[1, 2, 3, 4, 7]\n"
          ]
        }
      ]
    },
    {
      "cell_type": "code",
      "source": [
        "l=[1,2,3,4,2,3,4,7]\n",
        "d=list(set(l))\n",
        "print(d)"
      ],
      "metadata": {
        "colab": {
          "base_uri": "https://localhost:8080/"
        },
        "id": "hu8qXIaNizeD",
        "outputId": "0732ce48-e501-4f31-c333-47b073847d61"
      },
      "execution_count": null,
      "outputs": [
        {
          "output_type": "stream",
          "name": "stdout",
          "text": [
            "[1, 2, 3, 4, 7]\n"
          ]
        }
      ]
    },
    {
      "cell_type": "code",
      "source": [
        "a=[1,2,3,4,2,3,4,7]\n",
        "b=[1,2,4,7,9,10,12,19]\n",
        "c=list(set(a) & set(b))\n",
        "print(c)"
      ],
      "metadata": {
        "colab": {
          "base_uri": "https://localhost:8080/"
        },
        "id": "9HqNfzMfjfWK",
        "outputId": "29773b41-3b4b-4a28-fa7a-035a95d40a38"
      },
      "execution_count": null,
      "outputs": [
        {
          "output_type": "stream",
          "name": "stdout",
          "text": [
            "[1, 2, 4, 7]\n"
          ]
        }
      ]
    },
    {
      "cell_type": "code",
      "source": [
        "a=[1,2,3,4,3,7]\n",
        "b=[1,2,4,7,9,10,12,19]\n",
        "c=[]\n",
        "for i in a:\n",
        "  if i in b:\n",
        "    c.append(i)\n",
        "print(c)"
      ],
      "metadata": {
        "colab": {
          "base_uri": "https://localhost:8080/"
        },
        "id": "Fu4U8oOQmbrX",
        "outputId": "2c931d85-ecc6-403b-f7a0-895b4401e219"
      },
      "execution_count": null,
      "outputs": [
        {
          "output_type": "stream",
          "name": "stdout",
          "text": [
            "[1, 2, 4, 7]\n"
          ]
        }
      ]
    },
    {
      "cell_type": "code",
      "source": [
        "a=[1,2,3,4,2,3,4,7]\n",
        "b=[1,2,4,7,9,10,12,19]\n",
        "c=list(set(a).intersection(set(b)))\n",
        "print(c)"
      ],
      "metadata": {
        "colab": {
          "base_uri": "https://localhost:8080/"
        },
        "id": "Y6H4fkC7m1DV",
        "outputId": "7b2bfa5d-dda4-404b-b6ee-36f2fd12a396"
      },
      "execution_count": null,
      "outputs": [
        {
          "output_type": "stream",
          "name": "stdout",
          "text": [
            "[1, 2, 4, 7]\n"
          ]
        }
      ]
    },
    {
      "cell_type": "code",
      "source": [
        "a=int(input(\"enter n.o: \"))\n",
        "if a%5==0 and a%10==0:\n",
        "  print(\"the n.o is divisible by 5 and 10\")\n",
        "else:p,\n",
        "  print(\"not divisible\")"
      ],
      "metadata": {
        "id": "W7bTdp5bp36u",
        "colab": {
          "base_uri": "https://localhost:8080/"
        },
        "outputId": "72d2df59-fad5-498b-ebc6-e00dfe4cd351"
      },
      "execution_count": null,
      "outputs": [
        {
          "output_type": "stream",
          "name": "stdout",
          "text": [
            "enter n.o: 30\n",
            "the n.o is divisible by 5 and 10\n"
          ]
        }
      ]
    },
    {
      "cell_type": "code",
      "source": [
        "b= \"besant technology\"\n",
        "count = 0\n",
        "vowels = [\"a\", \"e\", \"i\", \"o\", \"u\"]\n",
        "\n",
        "for i in range(len(b)):\n",
        "    if b[i] in vowels:\n",
        "        count += 1\n",
        "print(count)\n"
      ],
      "metadata": {
        "colab": {
          "base_uri": "https://localhost:8080/"
        },
        "id": "rf9G-rgWyU50",
        "outputId": "c86c67eb-e741-4db1-a4d4-085a2dc3d534"
      },
      "execution_count": null,
      "outputs": [
        {
          "output_type": "stream",
          "name": "stdout",
          "text": [
            "5\n"
          ]
        }
      ]
    },
    {
      "cell_type": "code",
      "source": [
        "b= \"besant technology\"\n",
        "b.split()\n",
        "count=0\n",
        "vowels = [\"a\", \"e\", \"i\", \"o\", \"u\"]\n",
        "for i in b:\n",
        "  if i in vowels:\n",
        "    count+=1\n",
        "print(count)"
      ],
      "metadata": {
        "colab": {
          "base_uri": "https://localhost:8080/"
        },
        "id": "Epi2joBOy47X",
        "outputId": "a08279c9-0904-4c23-c45d-9a10187d7ea6"
      },
      "execution_count": null,
      "outputs": [
        {
          "output_type": "stream",
          "name": "stdout",
          "text": [
            "6\n"
          ]
        }
      ]
    },
    {
      "cell_type": "code",
      "source": [
        "rows=10\n",
        "for i in range(1,rows+1):\n",
        "  for j in range(rows-i):\n",
        "    print(\"*\",end=\" \")\n",
        "  print('')"
      ],
      "metadata": {
        "colab": {
          "base_uri": "https://localhost:8080/"
        },
        "id": "wE5tmRZm1RoD",
        "outputId": "e60c38e9-163f-409d-cd8b-b36940dbab85"
      },
      "execution_count": null,
      "outputs": [
        {
          "output_type": "stream",
          "name": "stdout",
          "text": [
            "* * * * * * * * * \n",
            "* * * * * * * * \n",
            "* * * * * * * \n",
            "* * * * * * \n",
            "* * * * * \n",
            "* * * * \n",
            "* * * \n",
            "* * \n",
            "* \n",
            "\n"
          ]
        }
      ]
    },
    {
      "cell_type": "code",
      "source": [
        "sum=0\n",
        "for i in range(1,11):\n",
        "  if i%2==0 or i%2!=0:\n",
        "    sum=sum+i\n",
        "print(sum)"
      ],
      "metadata": {
        "colab": {
          "base_uri": "https://localhost:8080/"
        },
        "id": "xl1GLmfM4KEp",
        "outputId": "9568fa61-9cc1-42d1-bdf9-f5d2f605e33f"
      },
      "execution_count": null,
      "outputs": [
        {
          "output_type": "stream",
          "name": "stdout",
          "text": [
            "55\n"
          ]
        }
      ]
    },
    {
      "cell_type": "code",
      "source": [
        "l=[10,20,12,13,25,50,75,35,100]\n",
        "for i in l:\n",
        "  if i%5==0:\n",
        "    print(i)"
      ],
      "metadata": {
        "id": "F3x0AqHL6FVt",
        "colab": {
          "base_uri": "https://localhost:8080/"
        },
        "outputId": "b89280a8-d976-47e8-e951-94c84771804b"
      },
      "execution_count": null,
      "outputs": [
        {
          "output_type": "stream",
          "name": "stdout",
          "text": [
            "10\n",
            "20\n",
            "25\n",
            "50\n",
            "75\n",
            "35\n",
            "100\n"
          ]
        }
      ]
    },
    {
      "cell_type": "code",
      "source": [
        "a=[[10,7,15],[25,14,30],[42,50,11]]\n",
        "b=[]\n",
        "for i in a:\n",
        "  for j in i:\n",
        "    if j%5==0:\n",
        "      b.append(j)\n",
        "print(b)"
      ],
      "metadata": {
        "colab": {
          "base_uri": "https://localhost:8080/"
        },
        "id": "jqYy2LVWGcoW",
        "outputId": "34df4ddd-dcc4-415d-a233-d6d5c22287e1"
      },
      "execution_count": null,
      "outputs": [
        {
          "output_type": "stream",
          "name": "stdout",
          "text": [
            "[10, 15, 25, 30, 50]\n"
          ]
        }
      ]
    },
    {
      "cell_type": "code",
      "source": [
        "c =\"python\"\n",
        "d=[]\n",
        "for i in c:\n",
        "  d.append(i)\n",
        "print(d)"
      ],
      "metadata": {
        "colab": {
          "base_uri": "https://localhost:8080/"
        },
        "id": "6vxKV7wIG1e0",
        "outputId": "c2de30be-d1d4-44ee-8205-ba0304933701"
      },
      "execution_count": null,
      "outputs": [
        {
          "output_type": "stream",
          "name": "stdout",
          "text": [
            "['p', 'y', 't', 'h', 'o', 'n']\n"
          ]
        }
      ]
    },
    {
      "cell_type": "code",
      "source": [
        "e=[-10,20,-20,-4,45,-45,45,99,-12,19]\n",
        "a=[]\n",
        "b=[]\n",
        "for i in e:\n",
        "  if i >= 0:\n",
        "    a.append(i)\n",
        "  else:\n",
        "    b.append(i)\n",
        "print(\"pos n.o's are: \",a)\n",
        "print(\"neg n.o's are: \",b)"
      ],
      "metadata": {
        "colab": {
          "base_uri": "https://localhost:8080/"
        },
        "id": "NH_gMJ6rOf0_",
        "outputId": "209aff4c-19b6-4ae8-8b54-16ce16760d54"
      },
      "execution_count": null,
      "outputs": [
        {
          "output_type": "stream",
          "name": "stdout",
          "text": [
            "pos n.o's are:  [20, 45, 45, 99, 19]\n",
            "neg n.o's are:  [-10, -20, -4, -45, -12]\n"
          ]
        }
      ]
    },
    {
      "cell_type": "code",
      "source": [
        "v=[10,20,20,4,45,45,45,99]\n",
        "largest=v[0]\n",
        "for i in v:\n",
        "  if i > largest:\n",
        "    largest = i\n",
        "print(largest)"
      ],
      "metadata": {
        "colab": {
          "base_uri": "https://localhost:8080/"
        },
        "id": "SbiiD7pMQtCk",
        "outputId": "ac7fcad9-2f95-4c91-dcc9-165db4c754e1"
      },
      "execution_count": null,
      "outputs": [
        {
          "output_type": "stream",
          "name": "stdout",
          "text": [
            "99\n"
          ]
        }
      ]
    },
    {
      "cell_type": "code",
      "source": [
        "list=[]\n",
        "if len(list)>0:\n",
        "  print(\"not empty list\")\n",
        "else:\n",
        "  print(\"empty list\")"
      ],
      "metadata": {
        "colab": {
          "base_uri": "https://localhost:8080/"
        },
        "id": "z1BsvE31RDbC",
        "outputId": "e681e572-e4f7-43c2-dcf9-a443d58021b5"
      },
      "execution_count": null,
      "outputs": [
        {
          "output_type": "stream",
          "name": "stdout",
          "text": [
            "empty list\n"
          ]
        }
      ]
    },
    {
      "cell_type": "code",
      "source": [
        "Tuple =(1,2,3,4,5)\n",
        "a=list(Tuple)\n",
        "a.append(6)\n",
        "print(a)\n",
        "b=tuple(a)\n",
        "print(b)"
      ],
      "metadata": {
        "id": "LeECWl1PRVt3",
        "colab": {
          "base_uri": "https://localhost:8080/",
          "height": 245
        },
        "outputId": "b9295fd0-36ec-4b33-9852-542ce25a86c0"
      },
      "execution_count": null,
      "outputs": [
        {
          "output_type": "stream",
          "name": "stdout",
          "text": [
            "[1, 2, 3, 4, 5, 6]\n"
          ]
        },
        {
          "output_type": "error",
          "ename": "TypeError",
          "evalue": "ignored",
          "traceback": [
            "\u001b[0;31m---------------------------------------------------------------------------\u001b[0m",
            "\u001b[0;31mTypeError\u001b[0m                                 Traceback (most recent call last)",
            "\u001b[0;32m<ipython-input-29-14ecd5fecd64>\u001b[0m in \u001b[0;36m<cell line: 5>\u001b[0;34m()\u001b[0m\n\u001b[1;32m      3\u001b[0m \u001b[0ma\u001b[0m\u001b[0;34m.\u001b[0m\u001b[0mappend\u001b[0m\u001b[0;34m(\u001b[0m\u001b[0;36m6\u001b[0m\u001b[0;34m)\u001b[0m\u001b[0;34m\u001b[0m\u001b[0;34m\u001b[0m\u001b[0m\n\u001b[1;32m      4\u001b[0m \u001b[0mprint\u001b[0m\u001b[0;34m(\u001b[0m\u001b[0ma\u001b[0m\u001b[0;34m)\u001b[0m\u001b[0;34m\u001b[0m\u001b[0;34m\u001b[0m\u001b[0m\n\u001b[0;32m----> 5\u001b[0;31m \u001b[0mb\u001b[0m\u001b[0;34m=\u001b[0m\u001b[0mtuple\u001b[0m\u001b[0;34m(\u001b[0m\u001b[0ma\u001b[0m\u001b[0;34m)\u001b[0m\u001b[0;34m\u001b[0m\u001b[0;34m\u001b[0m\u001b[0m\n\u001b[0m\u001b[1;32m      6\u001b[0m \u001b[0mprint\u001b[0m\u001b[0;34m(\u001b[0m\u001b[0mb\u001b[0m\u001b[0;34m)\u001b[0m\u001b[0;34m\u001b[0m\u001b[0;34m\u001b[0m\u001b[0m\n",
            "\u001b[0;31mTypeError\u001b[0m: 'tuple' object is not callable"
          ]
        }
      ]
    },
    {
      "cell_type": "code",
      "source": [
        "a=(1,2,3,4,[7,8,9])\n",
        "a[4][0]=25\n",
        "print(a)\n"
      ],
      "metadata": {
        "colab": {
          "base_uri": "https://localhost:8080/"
        },
        "id": "pKZWMwRDmIjY",
        "outputId": "b9d81a70-92b1-4029-852c-d85a6a281081"
      },
      "execution_count": null,
      "outputs": [
        {
          "output_type": "stream",
          "name": "stdout",
          "text": [
            "(1, 2, 3, 4, [25, 8, 9])\n"
          ]
        }
      ]
    },
    {
      "cell_type": "code",
      "source": [
        "# generator and iterators\n",
        "\n",
        "#It is a special type of iterator that generates values on the fly rather than storing them in memory all at once.\n",
        "#it allow you to create iterable sequence of items,similar to lists or tuples,but it is diff approach to generating values.\n"
      ],
      "metadata": {
        "id": "ZxldWLLpnbIX"
      },
      "execution_count": null,
      "outputs": []
    },
    {
      "cell_type": "code",
      "source": [
        "def num(n):\n",
        "  for i in range(n):\n",
        "    yield i\n",
        "\n",
        "gen=num(6)\n",
        "print(gen)\n",
        "for j in gen:\n",
        "  print(j)"
      ],
      "metadata": {
        "colab": {
          "base_uri": "https://localhost:8080/"
        },
        "id": "-emq3qk7UwWV",
        "outputId": "0ca6b964-44fe-46f9-fe28-69fe854f62a2"
      },
      "execution_count": null,
      "outputs": [
        {
          "output_type": "stream",
          "name": "stdout",
          "text": [
            "<generator object num at 0x798ffd8ae570>\n",
            "0\n",
            "1\n",
            "2\n",
            "3\n",
            "4\n",
            "5\n"
          ]
        }
      ]
    },
    {
      "cell_type": "code",
      "source": [
        "def sq(a):\n",
        "  for i in range(a):\n",
        "    yield i*i\n",
        "\n",
        "res=sq(5)\n",
        "for j in res:\n",
        "  print(j,end=',')"
      ],
      "metadata": {
        "colab": {
          "base_uri": "https://localhost:8080/"
        },
        "id": "yXaTUWfAVfzF",
        "outputId": "654ceffe-7ff8-41b9-fa76-1ed2abddd515"
      },
      "execution_count": null,
      "outputs": [
        {
          "output_type": "stream",
          "name": "stdout",
          "text": [
            "0,1,4,9,16,"
          ]
        }
      ]
    },
    {
      "cell_type": "code",
      "source": [
        "#Iterator\n",
        "# These are objects that allow you to traverse through all the elements of a collection and return one element at a time.\n"
      ],
      "metadata": {
        "id": "Gc4-OPDiWRkW"
      },
      "execution_count": null,
      "outputs": []
    },
    {
      "cell_type": "code",
      "source": [
        "a=[3,6,9,12]\n",
        "b=iter(a)\n",
        "print(next(b))\n",
        "print(next(b))\n",
        "print(next(b))"
      ],
      "metadata": {
        "colab": {
          "base_uri": "https://localhost:8080/"
        },
        "id": "mFIDqSC7XqOV",
        "outputId": "865c0acf-f2b4-45c8-cab8-6d0e37bed4dc"
      },
      "execution_count": null,
      "outputs": [
        {
          "output_type": "stream",
          "name": "stdout",
          "text": [
            "3\n",
            "6\n",
            "9\n"
          ]
        }
      ]
    },
    {
      "cell_type": "code",
      "source": [
        "i=0\n",
        "sum=0\n",
        "while i<=5:\n",
        "  sum=sum+i\n",
        "  i+=1\n",
        "print(sum)\n"
      ],
      "metadata": {
        "id": "w2WqFjF3X4gT",
        "colab": {
          "base_uri": "https://localhost:8080/"
        },
        "outputId": "189b6a03-2c7b-44f1-dd8e-24f0c21c4936"
      },
      "execution_count": null,
      "outputs": [
        {
          "output_type": "stream",
          "name": "stdout",
          "text": [
            "15\n"
          ]
        }
      ]
    },
    {
      "cell_type": "code",
      "source": [
        "# Class\n",
        "#  It is reusability of code\n",
        "\n"
      ],
      "metadata": {
        "id": "-9tsZf97BLii"
      },
      "execution_count": null,
      "outputs": []
    },
    {
      "cell_type": "code",
      "source": [
        "class person:\n",
        "  def __init__(self,name,age):\n",
        "    self.name=name\n",
        "    self.age=age\n",
        "\n",
        "  def introduce(self):\n",
        "    print(f\"hi ,my name is {self.name},and i am {self.age} old\")\n",
        "\n",
        "a=person(\"dileep\",21)\n",
        "a.introduce()\n",
        "\n",
        "b=person(\"apasham kirikiri\",52)\n",
        "b.introduce()"
      ],
      "metadata": {
        "colab": {
          "base_uri": "https://localhost:8080/"
        },
        "id": "QfOQTidRtRyy",
        "outputId": "10eba97e-105c-4d8a-ef10-ee64b4b35474"
      },
      "execution_count": null,
      "outputs": [
        {
          "output_type": "stream",
          "name": "stdout",
          "text": [
            "hi ,my name is dileep,and i am 21 old\n",
            "hi ,my name is apasham kirikiri,and i am 52 old\n"
          ]
        }
      ]
    },
    {
      "cell_type": "code",
      "source": [
        "class circle:\n",
        "  def __init__(self,r):\n",
        "    self.r=r\n",
        "  def area(self):\n",
        "    print (3.14 *self.r *self.r)\n",
        "c=circle(4)\n",
        "c.area()"
      ],
      "metadata": {
        "colab": {
          "base_uri": "https://localhost:8080/"
        },
        "id": "9532OZWSvjoS",
        "outputId": "c0cfb68a-04a0-4fe1-a5bc-1e7e9cb2fddf"
      },
      "execution_count": null,
      "outputs": [
        {
          "output_type": "stream",
          "name": "stdout",
          "text": [
            "50.24\n"
          ]
        }
      ]
    },
    {
      "cell_type": "code",
      "source": [
        "class bankaccount():\n",
        "  def __init__(self,balance,money):\n",
        "    self.money=money\n",
        "    self.balance=balance\n",
        "\n",
        "  def deposit(self):\n",
        "    print(f\"total deposited amount is {self.balance+self.money}\")\n",
        "  def withdraw(self):\n",
        "    print(f\"total withdrawn money is {self.balance-self.money}\")\n",
        "  def accountbalance(self):\n",
        "    print(f\"total balance is {self.balance}\")\n",
        "m=bankaccount(300,200)\n",
        "m.deposit()\n",
        "m.withdraw()\n",
        "m.accountbalance()"
      ],
      "metadata": {
        "colab": {
          "base_uri": "https://localhost:8080/"
        },
        "id": "Ij7L6w1SxPen",
        "outputId": "b6553bc9-60a3-4c59-ee05-8376cb254050"
      },
      "execution_count": null,
      "outputs": [
        {
          "output_type": "stream",
          "name": "stdout",
          "text": [
            "total deposited amount is 500\n",
            "total withdrawn money is 100\n",
            "total balance is 300\n"
          ]
        }
      ]
    },
    {
      "cell_type": "code",
      "source": [
        "class bankaccount():\n",
        "  def __init__(self,accountno,balance):\n",
        "    self.accountno=accountno\n",
        "    self.balance=balance\n",
        "  def deposit(self,amount):\n",
        "    self.balance+=amount\n",
        "    print(self.balance)\n",
        "  def withdraw(self,amount):\n",
        "      self.balance-=amount\n",
        "      print(self.balance)\n",
        "  def get_balance(self):\n",
        "    print(self.balance)\n",
        "m=bankaccount(241080,300)\n",
        "m.deposit(200)\n",
        "m.withdraw(150)\n",
        "m.get_balance()"
      ],
      "metadata": {
        "colab": {
          "base_uri": "https://localhost:8080/"
        },
        "id": "pADNkvF_0e3A",
        "outputId": "16d1ac48-d677-4c7d-d8b9-03a4d247deb8"
      },
      "execution_count": null,
      "outputs": [
        {
          "output_type": "stream",
          "name": "stdout",
          "text": [
            "500\n",
            "350\n",
            "350\n"
          ]
        }
      ]
    },
    {
      "cell_type": "code",
      "source": [
        "class traffic_signals:\n",
        "  def __init__(self,color):\n",
        "    self.color=color\n",
        "\n",
        "  def red(self):\n",
        "    print(\"stop the vehicle\")\n",
        "  def orange(self):\n",
        "    print(\"get ready to move\")\n",
        "  def green(self):\n",
        "    print(\"move the vehicle\")\n",
        "\n",
        "l=traffic_signals([\"red\",\"orange\",\"green\"])\n",
        "l.red()\n",
        "l.orange()\n",
        "l.green()"
      ],
      "metadata": {
        "id": "1De4W2De4-kK",
        "colab": {
          "base_uri": "https://localhost:8080/"
        },
        "outputId": "85678cca-48f8-4f3c-e929-97e2fe651b32"
      },
      "execution_count": null,
      "outputs": [
        {
          "output_type": "stream",
          "name": "stdout",
          "text": [
            "stop the vehicle\n",
            "get ready to move\n",
            "move the vehicle\n"
          ]
        }
      ]
    },
    {
      "cell_type": "code",
      "source": [
        "class House:\n",
        "  height=\"572ft\"\n",
        "  architect=\"dileep\"\n",
        "\n",
        "  def display_height(self):\n",
        "    print(\"this house is\"+self.height)\n",
        "  def display_architect(self):\n",
        "    print(\"the architect is\"+self.architect)\n",
        "\n",
        "v=House()\n",
        "print(v.height)\n",
        "print(v.architect)\n",
        "v.display_height()\n",
        "v.display_architect()\n",
        "\n",
        "\n"
      ],
      "metadata": {
        "id": "OirzPK6du2j1",
        "colab": {
          "base_uri": "https://localhost:8080/"
        },
        "outputId": "9a40fb3f-f2e1-4e05-84c7-c0858b77fc5c"
      },
      "execution_count": null,
      "outputs": [
        {
          "output_type": "stream",
          "name": "stdout",
          "text": [
            "572ft\n",
            "dileep\n",
            "this house is572ft\n",
            "the architect isdileep\n"
          ]
        }
      ]
    },
    {
      "cell_type": "code",
      "source": [
        "# polymorphism\n",
        "\n",
        "#It means having many forms.It refers to methods/functions/operators with the same name that can be executed on many objects or classes.\n"
      ],
      "metadata": {
        "id": "SN4REISS0U0h"
      },
      "execution_count": null,
      "outputs": []
    },
    {
      "cell_type": "code",
      "source": [
        "class bird:\n",
        "  def intro(self):\n",
        "    print(\"there are many birds to fly\")\n",
        "  def flight(self):\n",
        "    print(\"most of the birds can fly some cannot\")\n",
        "\n",
        "class sparrow(bird):\n",
        "  def flight(self):\n",
        "    print(\"sparrow can fly\")\n",
        "\n",
        "class ostrich(bird):\n",
        "  def flight(self):\n",
        "    print(\"ostrich cannot fly\")\n",
        "\n",
        "a=bird()\n",
        "b=sparrow()\n",
        "c=ostrich()\n",
        "\n",
        "a.intro()\n",
        "a.flight()\n",
        "\n",
        "b.intro()\n",
        "b.flight()\n",
        "\n",
        "c.intro()\n",
        "c.flight()"
      ],
      "metadata": {
        "colab": {
          "base_uri": "https://localhost:8080/"
        },
        "id": "F2pZCg3Y1y-U",
        "outputId": "20359e57-612f-4ed3-914f-83c5e093a9df"
      },
      "execution_count": null,
      "outputs": [
        {
          "output_type": "stream",
          "name": "stdout",
          "text": [
            "there are many birds to fly\n",
            "most of the birds can fly some cannot\n",
            "there are many birds to fly\n",
            "sparrow can fly\n",
            "there are many birds to fly\n",
            "ostrich cannot fly\n"
          ]
        }
      ]
    },
    {
      "cell_type": "code",
      "source": [
        "class India:\n",
        "  def capital(self):\n",
        "    print(\"capital is delhi\")\n",
        "  def language(self):\n",
        "    print(\"Hindi\")\n",
        "class Usa:\n",
        "  def capital(self):\n",
        "    print(\"capital of usa is Washington, D.C\")\n",
        "  def language(self):\n",
        "    print(\"English\")\n",
        "class Germany:\n",
        "  def capital(self):\n",
        "    print(\"capital of germany is berlin \")\n",
        "  def language(self):\n",
        "    print(\"German\")\n",
        "\n",
        "m=India()\n",
        "n=Usa()\n",
        "o=Germany()\n",
        "\n",
        "m.capital()\n",
        "m.language()\n",
        "\n",
        "n.capital()\n",
        "n.language()\n",
        "\n",
        "o.capital()\n",
        "o.language()"
      ],
      "metadata": {
        "colab": {
          "base_uri": "https://localhost:8080/"
        },
        "id": "q1BqLo-Q4EjF",
        "outputId": "1debb49c-3a1e-4dd4-8e73-cf5a921d1eeb"
      },
      "execution_count": null,
      "outputs": [
        {
          "output_type": "stream",
          "name": "stdout",
          "text": [
            "capital is delhi\n",
            "Hindi\n",
            "capital of usa is Washington, D.C\n",
            "English\n",
            "capital of germany is berlin \n",
            "German\n"
          ]
        }
      ]
    },
    {
      "cell_type": "code",
      "source": [
        "# Inheritance\n",
        "\n",
        "# The child class acquires the properties and can access all data members and functions defined in parent class.\n",
        "# inheriting properties of the parent class into child class known as inheritance.\n"
      ],
      "metadata": {
        "id": "vwsoQy7u6db5"
      },
      "execution_count": null,
      "outputs": []
    },
    {
      "cell_type": "code",
      "source": [
        "class parent():\n",
        "  def first(self):\n",
        "    print(\"first func\")\n",
        "class child(parent):\n",
        "  def second(self):\n",
        "    print(\"second func\")\n",
        "\n",
        "a=child()\n",
        "a.first()\n",
        "a.second()"
      ],
      "metadata": {
        "colab": {
          "base_uri": "https://localhost:8080/"
        },
        "id": "AUWUTXD_9JnV",
        "outputId": "f0fd96c2-f5ea-48b8-a51a-3f79c16a126a"
      },
      "execution_count": null,
      "outputs": [
        {
          "output_type": "stream",
          "name": "stdout",
          "text": [
            "first func\n",
            "second func\n"
          ]
        }
      ]
    },
    {
      "cell_type": "code",
      "source": [
        "class parent():\n",
        "  def first(self):\n",
        "    print(\"hi\")\n",
        "class child1(parent):\n",
        "  def second(self):\n",
        "    print(\"hello\")\n",
        "class child2(child1):\n",
        "  def third(self):\n",
        "    print(\"welcome\")\n",
        "\n",
        "c=child2()\n",
        "c.first()\n",
        "c.second()\n",
        "c.third()"
      ],
      "metadata": {
        "colab": {
          "base_uri": "https://localhost:8080/"
        },
        "id": "Poj7gZ9K9r0c",
        "outputId": "8920622e-ce90-47e0-f198-297912f2c712"
      },
      "execution_count": null,
      "outputs": [
        {
          "output_type": "stream",
          "name": "stdout",
          "text": [
            "hi\n",
            "hello\n",
            "welcome\n"
          ]
        }
      ]
    },
    {
      "cell_type": "code",
      "source": [
        "class vehicle:\n",
        "  def veh(self):\n",
        "    print(\"it is a vehicle\")\n",
        "class car(vehicle):\n",
        "  def ca(self):\n",
        "    print(\"it is a car\")\n",
        "class sportscar(car):\n",
        "  def sp(self):\n",
        "    print(\"it is a sportz car\")\n",
        "\n",
        "x=sportscar()\n",
        "x.veh()\n",
        "x.ca()\n",
        "x.sp()\n"
      ],
      "metadata": {
        "id": "q5-0vr53-PxZ",
        "colab": {
          "base_uri": "https://localhost:8080/"
        },
        "outputId": "1ec26ba6-092f-4388-c14b-909dc4a61b0b"
      },
      "execution_count": null,
      "outputs": [
        {
          "output_type": "stream",
          "name": "stdout",
          "text": [
            "it is a vehicle\n",
            "it is a car\n",
            "it is a sportz car\n"
          ]
        }
      ]
    },
    {
      "cell_type": "code",
      "source": [
        "class gunturkaaram:\n",
        "  def hero(self):\n",
        "    print(\"hero is maheshbabu\")\n",
        "  def slogan(self):\n",
        "    print(\"jai babu\")\n",
        "\n",
        "o=gunturkaaram()\n",
        "o.hero()\n",
        "o.slogan()"
      ],
      "metadata": {
        "colab": {
          "base_uri": "https://localhost:8080/"
        },
        "id": "93j-ZAvM-8PE",
        "outputId": "54b4adb4-d787-4eb5-bc30-16c61d772f48"
      },
      "execution_count": null,
      "outputs": [
        {
          "output_type": "stream",
          "name": "stdout",
          "text": [
            "hero is maheshbabu\n",
            "jai babu\n"
          ]
        }
      ]
    },
    {
      "cell_type": "code",
      "source": [
        "class gunturkaaram:\n",
        "  def __init__(self,hero):\n",
        "    self.hero=hero\n",
        "\n",
        "  def mv(self):\n",
        "    print(\"movie hero is \"+self.hero)\n",
        "\n",
        "p=gunturkaaram(\"maheshbabu\")\n",
        "p.mv()"
      ],
      "metadata": {
        "colab": {
          "base_uri": "https://localhost:8080/"
        },
        "id": "iub1U8q9AaKx",
        "outputId": "c40aece4-5f93-4d57-ad2c-d6dd0c8edcd3"
      },
      "execution_count": null,
      "outputs": [
        {
          "output_type": "stream",
          "name": "stdout",
          "text": [
            "movie hero is maheshbabu\n"
          ]
        }
      ]
    },
    {
      "cell_type": "markdown",
      "source": [
        "# Encapsulation\n",
        "\n",
        "# python codes encapsulate and hide backend implementation details by restricting the permissions.\n",
        "\n",
        "\n",
        "# public\n",
        "#  private __(double underscore before var)\n",
        "#  protected _(single underscore before var)"
      ],
      "metadata": {
        "id": "CDfHb9hCAyuA"
      }
    },
    {
      "cell_type": "code",
      "source": [
        "class detail:\n",
        "  def __init__(self,name,age):\n",
        "    self.name=name\n",
        "    self.__age=age\n",
        "  def Age(self):\n",
        "    print(\"Age: \",self.__age) # cannot access private variable without methods\n",
        "\n",
        "obj=detail(\"dileep\",21);\n",
        "obj.Age()\n",
        "print(obj.name)\n",
        "print(obj._detail__age)"
      ],
      "metadata": {
        "colab": {
          "base_uri": "https://localhost:8080/"
        },
        "id": "h3X3xyy9EFgp",
        "outputId": "d7ff20e4-3e86-4626-d272-06218ad34308"
      },
      "execution_count": null,
      "outputs": [
        {
          "output_type": "stream",
          "name": "stdout",
          "text": [
            "Age:  21\n",
            "dileep\n",
            "21\n"
          ]
        }
      ]
    },
    {
      "cell_type": "code",
      "source": [
        "# Protected member\n",
        "#  Accessed through provided methods only,not from outside class,but it doesn't prevent direct access altogether"
      ],
      "metadata": {
        "id": "L0SQ7z2AEfb9"
      },
      "execution_count": null,
      "outputs": []
    },
    {
      "cell_type": "code",
      "source": [
        "def input(value):\n",
        "  if isinstance(value,int):\n",
        "    print(\"integer\")\n",
        "  elif isinstance(value,float):\n",
        "    print(\"float\")\n",
        "  else:\n",
        "    print(\"string\")\n",
        "\n",
        "input(\"dileep\")"
      ],
      "metadata": {
        "colab": {
          "base_uri": "https://localhost:8080/"
        },
        "id": "VipsCWM9IKrs",
        "outputId": "9f177271-1830-4d84-d06a-5552554ffcd8"
      },
      "execution_count": null,
      "outputs": [
        {
          "output_type": "stream",
          "name": "stdout",
          "text": [
            "string\n"
          ]
        }
      ]
    },
    {
      "cell_type": "code",
      "source": [
        "class company:\n",
        "  def __init__(self):\n",
        "    self._project=\"python\"\n",
        "class Employee(company):\n",
        "  def __init__(self,name):\n",
        "    self.name=name\n",
        "    company.__init__(self)\n",
        "  def show_sal(self):\n",
        "    print(\"employee name :\",self.name)\n",
        "    print(\"working project :\",self._project)\n",
        "\n",
        "a=Employee(\"dileep\")\n",
        "a.show_sal()\n",
        "print(\"project:\",a._project)"
      ],
      "metadata": {
        "id": "YZS0moVEO5jf",
        "colab": {
          "base_uri": "https://localhost:8080/"
        },
        "outputId": "c719c0f6-5d3a-4cda-e9d3-758b2657a5ea"
      },
      "execution_count": null,
      "outputs": [
        {
          "output_type": "stream",
          "name": "stdout",
          "text": [
            "employee name : dileep\n",
            "working project : python\n",
            "project: python\n"
          ]
        }
      ]
    },
    {
      "cell_type": "code",
      "source": [
        "\n",
        "class sum:\n",
        "  def adding(self,a,b):\n",
        "    print(\"adding n.o's :\",a+b)\n",
        "class multiply:\n",
        "  def mul(self,a,b):\n",
        "    print(\"multiplying n.o's :\",a*b)\n",
        "class division(sum,multiply):\n",
        "  def div(self,a,b):\n",
        "    print(\"dividing n.o's :\",a/b)\n",
        "\n",
        "k=division()\n",
        "print(k.adding(20,10))\n",
        "print(k.mul(20,10))\n",
        "print(k.div(20,10))\n"
      ],
      "metadata": {
        "colab": {
          "base_uri": "https://localhost:8080/"
        },
        "id": "sjn7wAoJH-bn",
        "outputId": "62217bfd-f930-4e0b-bac6-59bd4b06454d"
      },
      "execution_count": null,
      "outputs": [
        {
          "output_type": "stream",
          "name": "stdout",
          "text": [
            "adding n.o's : 30\n",
            "None\n",
            "multiplying n.o's : 200\n",
            "None\n",
            "dividing n.o's : 2.0\n",
            "None\n"
          ]
        }
      ]
    },
    {
      "cell_type": "code",
      "source": [
        "# Regular Expressions\n"
      ],
      "metadata": {
        "id": "wJrvUXuBKvg4"
      },
      "execution_count": null,
      "outputs": []
    },
    {
      "cell_type": "code",
      "source": [
        "import re\n",
        "pattern = \"mango\"\n",
        "txt = \"i love mango and mango juice\"\n",
        "m=re.findall(pattern,txt)\n",
        "print(m)"
      ],
      "metadata": {
        "colab": {
          "base_uri": "https://localhost:8080/"
        },
        "id": "2wZNOhDESiIQ",
        "outputId": "bb8565c6-15ab-4613-81fd-738e6eb3a68e"
      },
      "execution_count": null,
      "outputs": [
        {
          "output_type": "stream",
          "name": "stdout",
          "text": [
            "['mango', 'mango']\n"
          ]
        }
      ]
    },
    {
      "cell_type": "code",
      "source": [
        "import re\n",
        "pattern = '[abc]'\n",
        "mch = re.match(pattern,\"am a student\")\n",
        "print(mch)\n",
        "if mch:\n",
        "  print(\"span :\",mch.span())\n",
        "  print(\"start :\",mch.start())\n",
        "  print(\"end :\",mch.end())"
      ],
      "metadata": {
        "colab": {
          "base_uri": "https://localhost:8080/"
        },
        "id": "xIs-EB0jSzsq",
        "outputId": "6fbb193b-ff9d-49e7-e5e9-a32a1a2a142a"
      },
      "execution_count": null,
      "outputs": [
        {
          "output_type": "stream",
          "name": "stdout",
          "text": [
            "<re.Match object; span=(0, 1), match='a'>\n",
            "span : (0, 1)\n",
            "start : 0\n",
            "end : 1\n"
          ]
        }
      ]
    },
    {
      "cell_type": "code",
      "source": [
        "# Character classes\n",
        "\n",
        "# [abc]: any single charac \"a\",\"b\",\"c\"\n",
        "# [a-z]: match any lowercases\n",
        "# [A-z]:matches any uppercase\n",
        "# [0-9]: matches any digit"
      ],
      "metadata": {
        "id": "2Hk7bNAfUE80"
      },
      "execution_count": null,
      "outputs": []
    },
    {
      "cell_type": "code",
      "source": [
        "import re\n",
        "pattern='[aeiou]'\n",
        "lc=\"hello, how are you doing?\"\n",
        "matc=re.findall(pattern,lc,re.IGNORECASE)\n",
        "print(matc)"
      ],
      "metadata": {
        "colab": {
          "base_uri": "https://localhost:8080/"
        },
        "id": "EzpnAaNJUxx0",
        "outputId": "cb9434fc-16a3-41cc-e82a-cf8565015d83"
      },
      "execution_count": null,
      "outputs": [
        {
          "output_type": "stream",
          "name": "stdout",
          "text": [
            "['e', 'o', 'o', 'a', 'e', 'o', 'u', 'o', 'i']\n"
          ]
        }
      ]
    },
    {
      "cell_type": "code",
      "source": [
        "# Quantifiers\n",
        "\n",
        "# '*' -Matches zero or more occurences\n",
        "# '+' -Matches one or more ocuurences\n",
        "# '?' -Matches zero or one occurences\n",
        "# {n} -Matches exactly n occurences\n",
        "# {n,m} -Matches between 'n' and 'm' occurences\n"
      ],
      "metadata": {
        "id": "MIcuwSfMWIjR"
      },
      "execution_count": null,
      "outputs": []
    },
    {
      "cell_type": "code",
      "source": [
        "pattern = 'go?d'\n",
        "txt = \"Good job! God is good and good people goood gd\"\n",
        "matches = re.findall(pattern,txt,re.IGNORECASE)\n",
        "print(matches)"
      ],
      "metadata": {
        "colab": {
          "base_uri": "https://localhost:8080/"
        },
        "id": "OLzKA8TqX1ea",
        "outputId": "e0762f41-3623-4aee-88c4-39a2a732eec8"
      },
      "execution_count": null,
      "outputs": [
        {
          "output_type": "stream",
          "name": "stdout",
          "text": [
            "['God', 'gd']\n"
          ]
        }
      ]
    },
    {
      "cell_type": "code",
      "source": [
        "# Groups and capturing:"
      ],
      "metadata": {
        "id": "MC1L23hQYhp2"
      },
      "execution_count": null,
      "outputs": []
    },
    {
      "cell_type": "code",
      "source": [
        "pattern = r\"(\\d{2})-(\\w+)\"\n",
        "txt=\"date: 01-dec, temp : 30-celsius\"\n",
        "matches =re.findall(pattern,txt)\n",
        "print(matches)"
      ],
      "metadata": {
        "colab": {
          "base_uri": "https://localhost:8080/"
        },
        "id": "ywixJ56NahB-",
        "outputId": "b4aa54ab-d6a2-4902-b90a-a22557500f4d"
      },
      "execution_count": null,
      "outputs": [
        {
          "output_type": "stream",
          "name": "stdout",
          "text": [
            "[('01', 'dec'), ('30', 'celsius')]\n"
          ]
        }
      ]
    },
    {
      "cell_type": "code",
      "source": [
        "import re\n",
        "\n",
        "# Compile the regular expression pattern for matching email addresses.\n",
        "email_pattern = re.compile(r\"\\b[A-Za-z0-9._%+-]+@[A-Za-z0-9.-]+\\.[A-Za-z]{2,}\\b\")\n",
        "\n",
        "text = \"Contact us at info@example.com or support@website.net for assistance.\"\n",
        "\n",
        "# Use the pre-compiled pattern to find all email addresses in the text.\n",
        "matches = email_pattern.findall(text)\n",
        "print(matches)"
      ],
      "metadata": {
        "id": "HOCPJXvca63Z",
        "colab": {
          "base_uri": "https://localhost:8080/"
        },
        "outputId": "8bc84245-b071-4f82-f02b-5efbecafcdc9"
      },
      "execution_count": null,
      "outputs": [
        {
          "output_type": "stream",
          "name": "stdout",
          "text": [
            "['info@example.com', 'support@website.net']\n"
          ]
        }
      ]
    },
    {
      "cell_type": "code",
      "source": [
        "Generators\n"
      ],
      "metadata": {
        "id": "kQujmaq7hjPW"
      },
      "execution_count": null,
      "outputs": []
    },
    {
      "cell_type": "code",
      "source": [
        "a=int(input(\"Enter n.o: \"))\n",
        "if a%7==0:\n",
        "  print(\"multiple\")\n",
        "else:\n",
        "  print(\"not multiple\")"
      ],
      "metadata": {
        "id": "O3RTjlDtDqBZ",
        "colab": {
          "base_uri": "https://localhost:8080/"
        },
        "outputId": "bd651475-43d2-478c-d2dc-917f84ebd4e2"
      },
      "execution_count": null,
      "outputs": [
        {
          "output_type": "stream",
          "name": "stdout",
          "text": [
            "Enter n.o: 14\n",
            "multiple\n"
          ]
        }
      ]
    },
    {
      "cell_type": "code",
      "source": [
        "b=789\n",
        "rev=0\n",
        "while b!=0:\n",
        "  a=b%10\n",
        "  rev=rev*10+a\n",
        "  b//=10\n",
        "print(str(rev))\n"
      ],
      "metadata": {
        "colab": {
          "base_uri": "https://localhost:8080/"
        },
        "id": "a-qpwnUSwU_I",
        "outputId": "fe68c697-2be2-4dff-c160-8117c41587f5"
      },
      "execution_count": null,
      "outputs": [
        {
          "output_type": "stream",
          "name": "stdout",
          "text": [
            "987\n"
          ]
        }
      ]
    },
    {
      "cell_type": "code",
      "source": [
        "a=279\n",
        "sum=0\n",
        "while a!=0:\n",
        "  b=a%10\n",
        "  sum=sum+b\n",
        "  a//=10\n",
        "print(str(sum))"
      ],
      "metadata": {
        "colab": {
          "base_uri": "https://localhost:8080/"
        },
        "id": "Xtq49RXwDPg_",
        "outputId": "dd6f8a9b-4ba1-41fa-de2d-0e3e2571327d"
      },
      "execution_count": null,
      "outputs": [
        {
          "output_type": "stream",
          "name": "stdout",
          "text": [
            "18\n"
          ]
        }
      ]
    },
    {
      "cell_type": "code",
      "source": [
        "s=[3,5,13,20,7,9]\n",
        "max = s[0]\n",
        "for i in s:\n",
        "  if i>max:\n",
        "    max=i\n",
        "print(\"maximum n.o is: \",max,\"at index\",s.index(max))"
      ],
      "metadata": {
        "colab": {
          "base_uri": "https://localhost:8080/"
        },
        "id": "DAUJ_lTEDipv",
        "outputId": "aa044b36-c56a-4536-e5df-8f4e0dfb20f7"
      },
      "execution_count": null,
      "outputs": [
        {
          "output_type": "stream",
          "name": "stdout",
          "text": [
            "maximum n.o is:  20 at index 3\n"
          ]
        }
      ]
    },
    {
      "cell_type": "code",
      "source": [
        "def max(list):\n",
        "  maximum=list[0]\n",
        "  for i in list:\n",
        "    if i>max:\n",
        "      return (maximum==i,list.index(max))\n",
        "print(max([3,5,13,20,7,9]))"
      ],
      "metadata": {
        "colab": {
          "base_uri": "https://localhost:8080/"
        },
        "id": "_st8lkkyE0Qu",
        "outputId": "4d76fac7-4672-452e-9ab2-ca5bc4865036"
      },
      "execution_count": null,
      "outputs": [
        {
          "output_type": "stream",
          "name": "stdout",
          "text": [
            "(False, 0)\n"
          ]
        }
      ]
    },
    {
      "cell_type": "code",
      "source": [
        "a=()\n",
        "print(type(a))"
      ],
      "metadata": {
        "colab": {
          "base_uri": "https://localhost:8080/"
        },
        "id": "UMjuIB03zUoR",
        "outputId": "bfd4189f-2f96-4d98-b6a4-f6e55ff64912"
      },
      "execution_count": null,
      "outputs": [
        {
          "output_type": "stream",
          "name": "stdout",
          "text": [
            "<class 'tuple'>\n"
          ]
        }
      ]
    },
    {
      "cell_type": "code",
      "source": [
        "l1=[1,2,3,3,3,3,3,4]\n",
        "l2=[1,2,3,[4,5,6]]\n",
        "l3=[]\n",
        "l2[3][1]=15\n",
        "for i in l1:\n",
        "  if i not in l3:\n",
        "    l3.append(i)\n",
        "for j in l2:\n",
        "  if j not in l3:\n",
        "    l3.append(j)\n",
        "    l3.remove(3)\n",
        "print(l3)"
      ],
      "metadata": {
        "colab": {
          "base_uri": "https://localhost:8080/"
        },
        "id": "6VAN_0Fz1CRW",
        "outputId": "f36bcc60-214c-4a7a-8c8d-53d2aa12b8ae"
      },
      "execution_count": null,
      "outputs": [
        {
          "output_type": "stream",
          "name": "stdout",
          "text": [
            "[1, 2, 4, [4, 15, 6]]\n"
          ]
        }
      ]
    },
    {
      "cell_type": "code",
      "source": [
        "# l1=['name','company','age']\n",
        "# l2=['zzzzz','yyyyy','30']\n",
        "# l3={}\n",
        "# for i in l1:\n",
        "#   for j in l2:\n",
        "#     l3[i]=j\n",
        "#     l2.remove(j)\n",
        "#     break\n",
        "# print(str(l3))\n",
        "\n",
        "l1=['name','company','age']\n",
        "l2=['zzzzz','yyyyy','30']\n",
        "d1={}\n",
        "for i in range(len(l1)):\n",
        "  d1[l1[i]]=l2[i]\n",
        "\n",
        "print(d1)"
      ],
      "metadata": {
        "colab": {
          "base_uri": "https://localhost:8080/"
        },
        "id": "LyZJOdgZ2JbM",
        "outputId": "6519d6b0-55fd-42a9-c441-e4d90b969e60"
      },
      "execution_count": null,
      "outputs": [
        {
          "output_type": "stream",
          "name": "stdout",
          "text": [
            "{'name': 'zzzzz', 'company': 'yyyyy', 'age': '30'}\n"
          ]
        }
      ]
    },
    {
      "cell_type": "code",
      "source": [
        "mylist=[1,2,3,4,5,6,7,8]\n",
        "a=mylist[::-1]\n",
        "print(a)"
      ],
      "metadata": {
        "colab": {
          "base_uri": "https://localhost:8080/"
        },
        "id": "b5PnXEjD3xNG",
        "outputId": "6f240c5e-7723-4d56-fef1-32dd69d3f389"
      },
      "execution_count": null,
      "outputs": [
        {
          "output_type": "stream",
          "name": "stdout",
          "text": [
            "[8, 7, 6, 5, 4, 3, 2, 1]\n"
          ]
        }
      ]
    },
    {
      "cell_type": "code",
      "source": [
        "list1=[1,2,3,4]\n",
        "list2=[3,4,5,6]\n",
        "a=(set(list1) & set(list2))\n",
        "print(a)"
      ],
      "metadata": {
        "colab": {
          "base_uri": "https://localhost:8080/"
        },
        "id": "8wdMcXef6Rao",
        "outputId": "c226fc04-e99f-4d28-fadb-c9c7f803daca"
      },
      "execution_count": null,
      "outputs": [
        {
          "output_type": "stream",
          "name": "stdout",
          "text": [
            "{3, 4}\n"
          ]
        }
      ]
    },
    {
      "cell_type": "code",
      "source": [
        "# import error\n",
        "# file not found exception\n",
        "# runtime error\n",
        "# name error\n",
        "# type error\n",
        "\n",
        "# syntax Errors\n",
        "# Logical errors\n",
        "\n",
        "# try:\n",
        "#   code\n",
        "# except error:\n",
        "    # print()\n",
        "# else:\n",
        "\n",
        "# finally:\n"
      ],
      "metadata": {
        "id": "AkPpXY4o8Ltr"
      },
      "execution_count": null,
      "outputs": []
    },
    {
      "cell_type": "code",
      "source": [
        "for i in range(100):\n",
        "  if i%2==0: print(i, end=\" \")"
      ],
      "metadata": {
        "colab": {
          "base_uri": "https://localhost:8080/"
        },
        "id": "h1ROgsLy-hlh",
        "outputId": "4f92668f-9c5a-4c26-8de3-72c8cfe88b5d"
      },
      "execution_count": null,
      "outputs": [
        {
          "output_type": "stream",
          "name": "stdout",
          "text": [
            "0 2 4 6 8 10 12 14 16 18 20 22 24 26 28 30 32 34 36 38 40 42 44 46 48 50 52 54 56 58 60 62 64 66 68 70 72 74 76 78 80 82 84 86 88 90 92 94 96 98 "
          ]
        }
      ]
    },
    {
      "cell_type": "code",
      "source": [],
      "metadata": {
        "id": "s4NJ-Y7BE9mf"
      },
      "execution_count": null,
      "outputs": []
    },
    {
      "cell_type": "markdown",
      "source": [
        "file handling\n",
        "\n",
        "r : read only mode\n",
        "rb : read in binary format\n",
        "r+ : read and write\n",
        "rb+ : read and write in binary\n",
        "w : write\n",
        "wb : write in binary\n",
        "w+ : write and read\n",
        "wb+ : write and read in binary\n"
      ],
      "metadata": {
        "id": "jrOh26fnQc3P"
      }
    },
    {
      "cell_type": "code",
      "source": [
        "# b='\\nmarathalli branch'\n",
        "# a=open(\"hi.txt\",'a')\n",
        "# a.writelines(b)\n",
        "# a.close()\n",
        "\n",
        "# with open(\"hi.txt\",\"a+\") as f:\n",
        "#     f.write('munnekolal')\n",
        "#     f.writelines(\"vshxbjkl\")\n",
        "#     f.seek(0) #position of cursor on index as starting\n",
        "#     print(f.read)"
      ],
      "metadata": {
        "id": "WUtutrjFRSp5"
      },
      "execution_count": null,
      "outputs": []
    },
    {
      "cell_type": "code",
      "source": [
        "  # shutil used to copy the path from source to destination path\n",
        "  # os is used to rename & del the file\n",
        "  # pathlib also used to del the file"
      ],
      "metadata": {
        "id": "DlEkpQFhbL5-"
      },
      "execution_count": null,
      "outputs": []
    },
    {
      "cell_type": "code",
      "source": [
        "# import shutil\n",
        "# import os\n",
        "\n",
        "# a=r\"C:\\Users\\91836\\html bsnt\\mad1.txt\"\n",
        "# b=r\"C:\\Users\\91836\\html bsnt\\mad2.txt\"\n",
        "# shutil.copy(a,b)\n",
        "\n",
        "# import shutil\n",
        "# import os\n",
        "\n",
        "# a=r\"C:\\Users\\91836\\html bsnt\\mad.txt\"\n",
        "# b=r\"C:\\Users\\91836\\html bsnt\\mad1.txt\"\n",
        "# os.rename()"
      ],
      "metadata": {
        "id": "bkq5WCAsfZET"
      },
      "execution_count": null,
      "outputs": []
    },
    {
      "cell_type": "code",
      "source": [],
      "metadata": {
        "id": "RWfJ3YfKni5d"
      },
      "execution_count": null,
      "outputs": []
    }
  ]
}